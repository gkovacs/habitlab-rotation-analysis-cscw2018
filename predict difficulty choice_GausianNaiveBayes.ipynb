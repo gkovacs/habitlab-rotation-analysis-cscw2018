{
 "cells": [
  {
   "cell_type": "code",
   "execution_count": 1,
   "metadata": {},
   "outputs": [],
   "source": [
    "import csv\n",
    "import lzstring\n",
    "from collections import namedtuple, Counter\n",
    "import json\n",
    "from memoize import memoize\n",
    "import numpy as np\n",
    "from sklearn.ensemble import RandomForestClassifier\n",
    "from sklearn.neighbors import KNeighborsClassifier\n",
    "from sklearn.naive_bayes import GaussianNB\n",
    "import sys\n",
    "import json"
   ]
  },
  {
   "cell_type": "code",
   "execution_count": 2,
   "metadata": {},
   "outputs": [],
   "source": [
    "csv.field_size_limit(sys.maxsize)\n",
    "\n",
    "# [num unique urls, num unique urls typed, total visits, total typed, first visit time, last visit time]\n",
    "domaininfo = namedtuple('domaininfo', ['num_unique_urls', 'num_unique_urls_typed', 'total_visits', 'total_typed', 'first_visit_time', 'last_visit_time'])\n",
    "\n",
    "decompressFromEncodedURIComponent = lzstring.LZString().decompressFromEncodedURIComponent\n",
    "\n",
    "#filepath = 'difficultyselectionexp_may31_11am.csv'\n",
    "filepath = 'data/JUL31.csv'\n",
    "reader = csv.DictReader(open(filepath))\n",
    "\n",
    "def extract_domain_visit_info(domain_visit_info_compressed):\n",
    "  domain_visit_info = json.loads(decompressFromEncodedURIComponent(domain_visit_info_compressed))\n",
    "  output = {}\n",
    "  for k,v in domain_visit_info.items():\n",
    "    linedata = domaininfo(*v)\n",
    "    output[k] = linedata\n",
    "  return output\n",
    "\n",
    "alldata = []\n",
    "\n",
    "for alldata_item in reader:\n",
    "  if alldata_item['selected_difficulty'] not in ['nothing', 'easy', 'medium', 'hard']:\n",
    "    continue\n",
    "  if alldata_item['domain_visit_info_compressed'] == None or len(alldata_item['domain_visit_info_compressed']) == 0:\n",
    "    continue\n",
    "  alldata_item['domain_visit_info'] = extract_domain_visit_info(alldata_item['domain_visit_info_compressed'])\n",
    "  alldata.append(alldata_item)\n"
   ]
  },
  {
   "cell_type": "code",
   "execution_count": 3,
   "metadata": {},
   "outputs": [
    {
     "name": "stdout",
     "output_type": "stream",
     "text": [
      "726\n",
      "181\n"
     ]
    }
   ],
   "source": [
    "#np.random.shuffle(alldata)\n",
    "training_data = alldata[:round(len(alldata)*0.8)]\n",
    "test_data = alldata[round(len(alldata)*0.8):]\n",
    "print(len(training_data))\n",
    "print(len(test_data))"
   ]
  },
  {
   "cell_type": "code",
   "execution_count": 4,
   "metadata": {},
   "outputs": [],
   "source": [
    "def extract_labels_alldata(data):\n",
    "  return np.array([line['selected_difficulty'] for line in data])\n",
    "\n",
    "@memoize\n",
    "def get_most_common_label():\n",
    "  label_to_count = Counter()\n",
    "  for line in training_data:\n",
    "    label = line['selected_difficulty']\n",
    "    label_to_count[label] += 1\n",
    "  sorted_by_count = sorted(label_to_count.items(), key=lambda x: x[1], reverse=True)\n",
    "  return sorted_by_count[0][0]\n",
    "\n",
    "@memoize\n",
    "def get_most_visited_domains():\n",
    "  domain_to_num_visits = Counter()\n",
    "  for line in training_data:\n",
    "    domain_visit_info = line['domain_visit_info']\n",
    "    for domain,info in domain_visit_info.items():\n",
    "      domain_to_num_visits[domain] += info.total_visits\n",
    "  sorted_by_num_visits = sorted(domain_to_num_visits.items(), key=lambda x: x[1], reverse=True)\n",
    "  return [x[0] for x in sorted_by_num_visits[:100]]\n",
    "\n",
    "cnt = 0\n",
    "@memoize\n",
    "def get_most_common_domains():\n",
    "  domain_to_num_visits = Counter()\n",
    "  for line in training_data:\n",
    "    domain_visit_info = line['domain_visit_info']\n",
    "    for domain,info in domain_visit_info.items():\n",
    "      domain_to_num_visits[domain] += 1\n",
    "  sorted_by_num_visits = sorted(domain_to_num_visits.items(), key=lambda x: x[1], reverse=True)\n",
    "  return [x[0] for x in sorted_by_num_visits[:100]]\n",
    "\n",
    "def get_all_domains():\n",
    "  domain_to_num_visits = Counter()\n",
    "  for line in training_data:\n",
    "    domain_visit_info = line['domain_visit_info']\n",
    "    for domain,info in domain_visit_info.items():\n",
    "      domain_to_num_visits[domain] += 1\n",
    "  sorted_by_num_visits = sorted(domain_to_num_visits.items(), key=lambda x: x[1], reverse=True)\n",
    "  return [x[0] for x in sorted_by_num_visits]\n",
    "\n",
    "\n",
    "\n",
    "def get_num_visits_for_domain(domain_visit_info, domain):\n",
    "  info = domain_visit_info.get(domain, None)\n",
    "  if info != None:\n",
    "    return info.total_visits\n",
    "  return 0\n",
    "\n",
    "def get_productivity():\n",
    "    with open ('domain_to_productivity.json') as json_file:\n",
    "        data = json.load(json_file)\n",
    "        return data\n",
    "\n",
    "domain_to_productivity = get_productivity()\n",
    "\n",
    "def get_productivity_domain(domain):\n",
    "    if domain in domain_to_productivity.keys():\n",
    "        return domain_to_productivity[domain]\n",
    "    domain2 = domain.split('.')\n",
    "    final = 'www.' + domain2[len(domain2) - 2] + '.com'\n",
    "    if final in domain_to_productivity.keys():\n",
    "        return domain_to_productivity[final]\n",
    "    return None\n",
    "\n",
    "def extract_features_for_user(domain_visit_info):\n",
    "  cnt = 0\n",
    "  domains = get_all_domains()\n",
    "  final_features = [0, 0, 0, 0, 0];\n",
    "  for x in domains:\n",
    "        if get_productivity_domain(x) != None:\n",
    "            final_features[get_productivity_domain(x) + 2] += get_num_visits_for_domain(domain_visit_info, x)\n",
    "    \n",
    "  #np.array([get_num_visits_for_domain(domain_visit_info, x) for x in domains])\n",
    "  #if np.sum(final_features) >= 1:\n",
    "    #final_features = np.divide(final_features, np.sum(final_features))\n",
    "  return final_features\n",
    "\n",
    "\n",
    "def extract_features_alldata(data):\n",
    "  output = []\n",
    "  for line in data:\n",
    "    domain_visit_info = line['domain_visit_info']\n",
    "    features = extract_features_for_user(domain_visit_info)\n",
    "    output.append(features)\n",
    "  return np.array(output)\n"
   ]
  },
  {
   "cell_type": "code",
   "execution_count": 5,
   "metadata": {},
   "outputs": [
    {
     "name": "stdout",
     "output_type": "stream",
     "text": [
      "baseline classifier accuracy: 0.5082872928176796\n"
     ]
    }
   ],
   "source": [
    "def get_percent_correct(predicted_labels, actual_labels):\n",
    "  if len(predicted_labels) != len(actual_labels):\n",
    "    raise 'need predicted and actual labels to have same lengths'\n",
    "  total = len(actual_labels)\n",
    "  correct = 0\n",
    "  for p,a in zip(predicted_labels, actual_labels):\n",
    "    if p == a:\n",
    "      correct += 1\n",
    "  return correct / total\n",
    "\n",
    "def test_baseline_classifier():\n",
    "  most_common_label = get_most_common_label()\n",
    "  predictions = [most_common_label for line in test_data]\n",
    "  actual = extract_labels_alldata(test_data)\n",
    "  percent_correct = get_percent_correct(predictions, actual)\n",
    "  print('baseline classifier accuracy:', percent_correct)\n",
    "\n",
    "def test_classifier(clf,features_test, actual, str=None):\n",
    "  #actual = extract_labels_alldata(test_data)\n",
    "  #features_test = extract_features_alldata(test_data)\n",
    "  predictions = clf.predict(features_test)\n",
    "  percent_correct = get_percent_correct(predictions, actual)\n",
    "  return percent_correct\n",
    "\n",
    "def training_error_classifier(clf, str=None):\n",
    "  actual = extract_labels_alldata(training_data)\n",
    "  features_train = extract_features_alldata(training_data)\n",
    "  predictions = clf.predict(features_train)\n",
    "  percent_correct = get_percent_correct(predictions, actual)\n",
    "  print(str + ' classifier training accuracy:', round(percent_correct, 2))\n",
    "\n",
    "def to_int_categorical(dt):\n",
    "  # {'easy', 'hard', 'medium', 'nothing'}\n",
    "  cat_dt = []\n",
    "  for item in dt:\n",
    "    if item == 'nothing':\n",
    "      cat_dt.append(0)\n",
    "    elif item == 'easy':\n",
    "      cat_dt.append(1)\n",
    "    elif item == 'medium':\n",
    "      cat_dt.append(2)\n",
    "    else:\n",
    "      cat_dt.append(3)\n",
    "  return np.array(cat_dt)\n",
    "    \n",
    "test_baseline_classifier()"
   ]
  },
  {
   "cell_type": "code",
   "execution_count": 6,
   "metadata": {
    "scrolled": true
   },
   "outputs": [],
   "source": [
    "labels_train = extract_labels_alldata(training_data)\n",
    "features_train = extract_features_alldata(training_data)\n",
    "labels_test = extract_labels_alldata(test_data)\n",
    "features_test = extract_features_alldata(test_data)"
   ]
  },
  {
   "cell_type": "code",
   "execution_count": 7,
   "metadata": {},
   "outputs": [],
   "source": [
    "def classifiers():\n",
    "    gnb = GaussianNB()\n",
    "    gnb.fit(features_train, labels_train)\n",
    "    acc = test_classifier(gnb, features_test, labels_test, 'GNB')\n",
    "    return acc"
   ]
  },
  {
   "cell_type": "code",
   "execution_count": 8,
   "metadata": {},
   "outputs": [
    {
     "name": "stdout",
     "output_type": "stream",
     "text": [
      "0.430939226519337\n"
     ]
    }
   ],
   "source": [
    "print (classifiers())"
   ]
  },
  {
   "cell_type": "code",
   "execution_count": 9,
   "metadata": {},
   "outputs": [
    {
     "name": "stdout",
     "output_type": "stream",
     "text": [
      "181\n"
     ]
    }
   ],
   "source": [
    "labels_train2 = labels_train\n",
    "features_train2 = features_train\n",
    "labels_test2 = labels_test\n",
    "features_test2 = features_test\n",
    "\n",
    "print (len(features_test2))"
   ]
  },
  {
   "cell_type": "code",
   "execution_count": 10,
   "metadata": {},
   "outputs": [
    {
     "name": "stdout",
     "output_type": "stream",
     "text": [
      "[0.3333333333333333, 0.0, 0.0, 0.0, 0.0, 0.0, 0.0, 0.0, 0.2, 0.16666666666666666, 0.14285714285714285, 0.14285714285714285, 0.125, 0.0, 0.0, 0.0, 0.1, 0.09090909090909091, 0.0, 0.0, 0.0, 0.0, 0.0, 0.07142857142857142, 0.06666666666666667, 0.0625, 0.0625, 0.058823529411764705, 0.058823529411764705, 0.05555555555555555, 0.05263157894736842, 0.05263157894736842, 0.1, 0.14285714285714285, 0.09523809523809523, 0.13636363636363635, 0.18181818181818182, 0.17391304347826086, 0.16666666666666666, 0.16666666666666666, 0.16, 0.16, 0.15384615384615385, 0.14814814814814814, 0.14814814814814814, 0.35714285714285715, 0.35714285714285715, 0.3448275862068966, 0.36666666666666664, 0.36666666666666664, 0.3548387096774194, 0.3548387096774194, 0.34375, 0.36363636363636365, 0.36363636363636365, 0.38235294117647056, 0.38235294117647056, 0.37142857142857144, 0.3888888888888889, 0.2222222222222222, 0.24324324324324326, 0.24324324324324326, 0.23684210526315788, 0.23076923076923078, 0.23076923076923078, 0.25, 0.25, 0.24390243902439024, 0.23809523809523808, 0.23809523809523808, 0.23255813953488372, 0.23255813953488372, 0.22727272727272727, 0.2, 0.26666666666666666, 0.30434782608695654, 0.30434782608695654, 0.3404255319148936, 0.3333333333333333, 0.4583333333333333, 0.4489795918367347, 0.46938775510204084, 0.48, 0.49019607843137253, 0.45098039215686275, 0.5, 0.4423076923076923, 0.3584905660377358, 0.3888888888888889, 0.42592592592592593, 0.4909090909090909, 0.42857142857142855, 0.3392857142857143, 0.22807017543859648, 0.22807017543859648, 0.22413793103448276, 0.23728813559322035, 0.22033898305084745, 0.25, 0.23333333333333334, 0.2459016393442623, 0.24193548387096775, 0.22580645161290322, 0.23809523809523808, 0.23809523809523808, 0.234375, 0.24615384615384617, 0.24615384615384617, 0.2727272727272727, 0.24242424242424243, 0.23880597014925373, 0.25, 0.25, 0.2463768115942029, 0.2318840579710145, 0.21428571428571427, 0.22535211267605634, 0.22535211267605634, 0.2222222222222222, 0.2361111111111111, 0.2465753424657534, 0.24324324324324326, 0.24324324324324326, 0.25333333333333335, 0.25333333333333335, 0.25, 0.36363636363636365, 0.3116883116883117, 0.32051282051282054, 0.32051282051282054, 0.31645569620253167, 0.3125, 0.3125, 0.4444444444444444, 0.4444444444444444, 0.43902439024390244, 0.43373493975903615, 0.43373493975903615, 0.44047619047619047, 0.44047619047619047, 0.4588235294117647, 0.45348837209302323, 0.45348837209302323, 0.4482758620689655, 0.4482758620689655, 0.4431818181818182, 0.43820224719101125, 0.43820224719101125, 0.43333333333333335, 0.43333333333333335, 0.42857142857142855, 0.43478260869565216, 0.42391304347826086, 0.43010752688172044, 0.425531914893617, 0.425531914893617, 0.42105263157894735, 0.42105263157894735, 0.4166666666666667, 0.4020618556701031, 0.4020618556701031, 0.3979591836734694, 0.3979591836734694, 0.40404040404040403, 0.4, 0.4, 0.3465346534653465, 0.37623762376237624, 0.3627450980392157, 0.4077669902912621, 0.36893203883495146, 0.375, 0.375, 0.41904761904761906, 0.42452830188679247, 0.42452830188679247, 0.4205607476635514, 0.4205607476635514, 0.4166666666666667, 0.41284403669724773, 0.41284403669724773, 0.4090909090909091, 0.4090909090909091, 0.40540540540540543, 0.4107142857142857, 0.4107142857142857, 0.415929203539823, 0.415929203539823, 0.41228070175438597, 0.41739130434782606, 0.41739130434782606, 0.41379310344827586, 0.2413793103448276, 0.23931623931623933, 0.23728813559322035, 0.23728813559322035, 0.23529411764705882, 0.23529411764705882, 0.25833333333333336, 0.256198347107438, 0.2644628099173554, 0.2786885245901639, 0.28688524590163933, 0.2682926829268293, 0.2903225806451613, 0.24193548387096775, 0.24, 0.24, 0.24603174603174602, 0.2440944881889764, 0.2440944881889764, 0.2578125, 0.24031007751937986, 0.24806201550387597, 0.25384615384615383, 0.23076923076923078, 0.26717557251908397, 0.25, 0.25, 0.24812030075187969, 0.2706766917293233, 0.2835820895522388, 0.2814814814814815, 0.25925925925925924, 0.25735294117647056, 0.25735294117647056, 0.27007299270072993, 0.2463768115942029, 0.2536231884057971, 0.2589928057553957, 0.2446043165467626, 0.25, 0.24113475177304963, 0.2624113475177305, 0.23943661971830985, 0.23943661971830985, 0.2517482517482518, 0.25, 0.25, 0.2413793103448276, 0.2413793103448276, 0.23972602739726026, 0.25170068027210885, 0.25170068027210885, 0.2635135135135135, 0.2702702702702703, 0.28187919463087246, 0.3, 0.3466666666666667, 0.3708609271523179, 0.3708609271523179, 0.35526315789473684, 0.3464052287581699, 0.35294117647058826, 0.34415584415584416, 0.37012987012987014, 0.36129032258064514, 0.358974358974359, 0.41025641025641024, 0.40764331210191085, 0.4012738853503185, 0.3987341772151899, 0.39622641509433965, 0.39622641509433965, 0.4, 0.40625, 0.4161490683229814, 0.42592592592592593, 0.41358024691358025, 0.4171779141104294, 0.4146341463414634, 0.36585365853658536, 0.42424242424242425, 0.42424242424242425, 0.42771084337349397, 0.4251497005988024, 0.4251497005988024, 0.4226190476190476, 0.4226190476190476, 0.4260355029585799, 0.4235294117647059, 0.4235294117647059, 0.42105263157894735, 0.42105263157894735, 0.42441860465116277, 0.4277456647398844, 0.4277456647398844, 0.42528735632183906, 0.42528735632183906, 0.42857142857142855, 0.4318181818181818, 0.4147727272727273, 0.4350282485875706, 0.4293785310734463, 0.43820224719101125, 0.3743016759776536, 0.40782122905027934, 0.43333333333333335, 0.4388888888888889, 0.430939226519337]\n",
      "[3, 5, 7, 10, 12, 15, 17, 19, 22, 24, 27, 29, 31, 34, 36, 39, 41, 44, 46, 48, 51, 53, 56, 58, 60, 63, 65, 68, 70, 73, 75, 77, 80, 82, 85, 87, 90, 92, 94, 97, 99, 102, 104, 106, 109, 111, 114, 116, 119, 121, 123, 126, 128, 131, 133, 136, 138, 140, 143, 145, 148, 150, 152, 155, 157, 160, 162, 165, 167, 169, 172, 174, 177, 179, 182, 184, 186, 189, 191, 194, 196, 198, 201, 203, 206, 208, 211, 213, 215, 218, 220, 223, 225, 227, 230, 232, 235, 237, 240, 242, 244, 247, 249, 252, 254, 257, 259, 261, 264, 266, 269, 271, 273, 276, 278, 281, 283, 286, 288, 290, 293, 295, 298, 300, 302, 305, 307, 310, 312, 315, 317, 319, 322, 324, 327, 329, 332, 334, 336, 339, 341, 344, 346, 348, 351, 353, 356, 358, 361, 363, 365, 368, 370, 373, 375, 378, 380, 382, 385, 387, 390, 392, 394, 397, 399, 402, 404, 407, 409, 411, 414, 416, 419, 421, 424, 426, 428, 431, 433, 436, 438, 440, 443, 445, 448, 450, 453, 455, 457, 460, 462, 465, 467, 469, 472, 474, 477, 479, 482, 484, 486, 489, 491, 494, 496, 499, 501, 503, 506, 508, 511, 513, 515, 518, 520, 523, 525, 528, 530, 532, 535, 537, 540, 542, 544, 547, 549, 552, 554, 557, 559, 561, 564, 566, 569, 571, 574, 576, 578, 581, 583, 586, 588, 590, 593, 595, 598, 600, 603, 605, 607, 610, 612, 615, 617, 620, 622, 624, 627, 629, 632, 634, 636, 639, 641, 644, 646, 649, 651, 653, 656, 658, 661, 663, 666, 668, 670, 673, 675, 678, 680, 682, 685, 687, 690, 692, 695, 697, 699, 702, 704, 707, 709, 711, 714, 716, 719, 721, 724, 726]\n"
     ]
    }
   ],
   "source": [
    "cache_GNB = []\n",
    "training_size = []\n",
    "num = 300\n",
    "for i in range(num):\n",
    "    labels_train = labels_train2[: max(3, round(len(labels_train2)*((i + 1) / num)))]\n",
    "    features_train = features_train2[: max(3, round(len(features_train2)*((i + 1) / num)))]\n",
    "    labels_test = labels_test2[: max(3, round(len(labels_test2)*((i + 1) / num)))]\n",
    "    features_test = features_test2[: max(3, round(len(features_test2)*((i + 1) / num)))]\n",
    "   \n",
    "    result = classifiers()\n",
    "   \n",
    "    cache_GNB.append(result)\n",
    "    training_size.append(len(labels_train))\n",
    "\n",
    "print (cache_GNB)\n",
    "print (training_size)"
   ]
  },
  {
   "cell_type": "code",
   "execution_count": 11,
   "metadata": {},
   "outputs": [],
   "source": [
    "import matplotlib.pyplot as plt"
   ]
  },
  {
   "cell_type": "code",
   "execution_count": 12,
   "metadata": {},
   "outputs": [
    {
     "name": "stdout",
     "output_type": "stream",
     "text": [
      "learning curve for GNB:\n"
     ]
    },
    {
     "data": {
      "text/plain": [
       "[<matplotlib.lines.Line2D at 0x11e3707b8>]"
      ]
     },
     "execution_count": 12,
     "metadata": {},
     "output_type": "execute_result"
    },
    {
     "data": {
      "image/png": "[encoded data removed]",
      "text/plain": [
       "<Figure size 432x288 with 1 Axes>"
      ]
     },
     "metadata": {},
     "output_type": "display_data"
    }
   ],
   "source": [
    "print (\"learning curve for GNB:\")\n",
    "\n",
    "plt.plot(training_size, cache_GNB)"
   ]
  },
  {
   "cell_type": "code",
   "execution_count": 13,
   "metadata": {},
   "outputs": [
    {
     "name": "stdout",
     "output_type": "stream",
     "text": [
      "726\n",
      "181\n"
     ]
    }
   ],
   "source": [
    "print (len(features_train))\n",
    "print (len(features_test))"
   ]
  },
  {
   "cell_type": "code",
   "execution_count": 14,
   "metadata": {},
   "outputs": [],
   "source": [
    "def classifiers_confusion():\n",
    "    gnb = GaussianNB()\n",
    "    gnb.fit(features_train, labels_train)\n",
    "    acc = test_classifier(gnb, features_test, labels_test, 'GNB')\n",
    "    predicted = gnb.predict(features_test)\n",
    "    confusion = {'nothing': {'nothing': 0, 'easy': 0, 'medium': 0, 'hard': 0},\n",
    "                 'easy': {'nothing': 0, 'easy': 0, 'medium': 0, 'hard': 0},\n",
    "                 'medium': {'nothing': 0, 'easy': 0, 'medium': 0, 'hard': 0}, \n",
    "                 'hard': {'nothing': 0, 'easy': 0, 'medium': 0, 'hard': 0}}\n",
    "    \n",
    "    classes = ['nothing', 'easy', 'medium', 'hard']\n",
    "    for i in range(len(features_test)):\n",
    "        confusion[predicted[i]][labels_test[i]] += 1\n",
    "        \n",
    "        \n",
    "    print (\"GNB\")\n",
    "    for i in classes:\n",
    "        print (i)\n",
    "        print (confusion[i])\n",
    "    return "
   ]
  },
  {
   "cell_type": "code",
   "execution_count": 15,
   "metadata": {},
   "outputs": [
    {
     "name": "stdout",
     "output_type": "stream",
     "text": [
      "GNB\n",
      "nothing\n",
      "{'nothing': 0, 'easy': 6, 'medium': 4, 'hard': 0}\n",
      "easy\n",
      "{'nothing': 26, 'easy': 75, 'medium': 33, 'hard': 17}\n",
      "medium\n",
      "{'nothing': 2, 'easy': 10, 'medium': 2, 'hard': 1}\n",
      "hard\n",
      "{'nothing': 0, 'easy': 1, 'medium': 3, 'hard': 1}\n"
     ]
    }
   ],
   "source": [
    "classifiers_confusion()"
   ]
  },
  {
   "cell_type": "code",
   "execution_count": null,
   "metadata": {},
   "outputs": [],
   "source": []
  },
  {
   "cell_type": "code",
   "execution_count": null,
   "metadata": {},
   "outputs": [],
   "source": []
  }
 ],
 "metadata": {
  "kernelspec": {
   "display_name": "Python 3",
   "language": "python",
   "name": "python3"
  },
  "language_info": {
   "codemirror_mode": {
    "name": "ipython",
    "version": 3
   },
   "file_extension": ".py",
   "mimetype": "text/x-python",
   "name": "python",
   "nbconvert_exporter": "python",
   "pygments_lexer": "ipython3",
   "version": "3.6.5"
  }
 },
 "nbformat": 4,
 "nbformat_minor": 2
}
