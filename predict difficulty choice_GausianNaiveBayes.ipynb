{
 "cells": [
  {
   "cell_type": "code",
   "execution_count": 20,
   "metadata": {},
   "outputs": [],
   "source": [
    "import csv\n",
    "import lzstring\n",
    "from collections import namedtuple, Counter\n",
    "import json\n",
    "from memoize import memoize\n",
    "import numpy as np\n",
    "from sklearn.ensemble import RandomForestClassifier\n",
    "from sklearn.neighbors import KNeighborsClassifier\n",
    "from sklearn.naive_bayes import GaussianNB\n",
    "import sys\n",
    "import json"
   ]
  },
  {
   "cell_type": "code",
   "execution_count": 21,
   "metadata": {},
   "outputs": [],
   "source": [
    "csv.field_size_limit(sys.maxsize)\n",
    "\n",
    "# [num unique urls, num unique urls typed, total visits, total typed, first visit time, last visit time]\n",
    "domaininfo = namedtuple('domaininfo', ['num_unique_urls', 'num_unique_urls_typed', 'total_visits', 'total_typed', 'first_visit_time', 'last_visit_time'])\n",
    "\n",
    "decompressFromEncodedURIComponent = lzstring.LZString().decompressFromEncodedURIComponent\n",
    "\n",
    "#filepath = 'difficultyselectionexp_may31_11am.csv'\n",
    "filepath = 'data/difficultyselectionexp_june25_9pm.csv'\n",
    "reader = csv.DictReader(open(filepath))\n",
    "\n",
    "def extract_domain_visit_info(domain_visit_info_compressed):\n",
    "  domain_visit_info = json.loads(decompressFromEncodedURIComponent(domain_visit_info_compressed))\n",
    "  output = {}\n",
    "  for k,v in domain_visit_info.items():\n",
    "    linedata = domaininfo(*v)\n",
    "    output[k] = linedata\n",
    "  return output\n",
    "\n",
    "alldata = []\n",
    "\n",
    "for alldata_item in reader:\n",
    "  if alldata_item['selected_difficulty'] not in ['nothing', 'easy', 'medium', 'hard']:\n",
    "    continue\n",
    "  if alldata_item['domain_visit_info_compressed'] == None or len(alldata_item['domain_visit_info_compressed']) == 0:\n",
    "    continue\n",
    "  alldata_item['domain_visit_info'] = extract_domain_visit_info(alldata_item['domain_visit_info_compressed'])\n",
    "  alldata.append(alldata_item)\n"
   ]
  },
  {
   "cell_type": "code",
   "execution_count": 22,
   "metadata": {},
   "outputs": [
    {
     "name": "stdout",
     "output_type": "stream",
     "text": [
      "346\n",
      "86\n"
     ]
    }
   ],
   "source": [
    "#np.random.shuffle(alldata)\n",
    "training_data = alldata[:round(len(alldata)*0.8)]\n",
    "test_data = alldata[round(len(alldata)*0.8):]\n",
    "print(len(training_data))\n",
    "print(len(test_data))"
   ]
  },
  {
   "cell_type": "code",
   "execution_count": 23,
   "metadata": {},
   "outputs": [],
   "source": [
    "def extract_labels_alldata(data):\n",
    "  return np.array([line['selected_difficulty'] for line in data])\n",
    "\n",
    "@memoize\n",
    "def get_most_common_label():\n",
    "  label_to_count = Counter()\n",
    "  for line in training_data:\n",
    "    label = line['selected_difficulty']\n",
    "    label_to_count[label] += 1\n",
    "  sorted_by_count = sorted(label_to_count.items(), key=lambda x: x[1], reverse=True)\n",
    "  return sorted_by_count[0][0]\n",
    "\n",
    "@memoize\n",
    "def get_most_visited_domains():\n",
    "  domain_to_num_visits = Counter()\n",
    "  for line in training_data:\n",
    "    domain_visit_info = line['domain_visit_info']\n",
    "    for domain,info in domain_visit_info.items():\n",
    "      domain_to_num_visits[domain] += info.total_visits\n",
    "  sorted_by_num_visits = sorted(domain_to_num_visits.items(), key=lambda x: x[1], reverse=True)\n",
    "  return [x[0] for x in sorted_by_num_visits[:100]]\n",
    "\n",
    "cnt = 0\n",
    "@memoize\n",
    "def get_most_common_domains():\n",
    "  domain_to_num_visits = Counter()\n",
    "  for line in training_data:\n",
    "    domain_visit_info = line['domain_visit_info']\n",
    "    for domain,info in domain_visit_info.items():\n",
    "      domain_to_num_visits[domain] += 1\n",
    "  sorted_by_num_visits = sorted(domain_to_num_visits.items(), key=lambda x: x[1], reverse=True)\n",
    "  return [x[0] for x in sorted_by_num_visits[:100]]\n",
    "\n",
    "def get_all_domains():\n",
    "  domain_to_num_visits = Counter()\n",
    "  for line in training_data:\n",
    "    domain_visit_info = line['domain_visit_info']\n",
    "    for domain,info in domain_visit_info.items():\n",
    "      domain_to_num_visits[domain] += 1\n",
    "  sorted_by_num_visits = sorted(domain_to_num_visits.items(), key=lambda x: x[1], reverse=True)\n",
    "  return [x[0] for x in sorted_by_num_visits]\n",
    "\n",
    "\n",
    "\n",
    "def get_num_visits_for_domain(domain_visit_info, domain):\n",
    "  info = domain_visit_info.get(domain, None)\n",
    "  if info != None:\n",
    "    return info.total_visits\n",
    "  return 0\n",
    "\n",
    "def get_productivity():\n",
    "    with open ('domain_to_productivity.json') as json_file:\n",
    "        data = json.load(json_file)\n",
    "        return data\n",
    "\n",
    "domain_to_productivity = get_productivity()\n",
    "\n",
    "def extract_features_for_user(domain_visit_info):\n",
    "  cnt = 0\n",
    "  domains = get_all_domains()\n",
    "  final_features = [0, 0, 0, 0, 0];\n",
    "  for x in domains:\n",
    "        if x in domain_to_productivity.keys():\n",
    "            final_features[domain_to_productivity[x] + 2] += get_num_visits_for_domain(domain_visit_info, x)\n",
    "    \n",
    "  #np.array([get_num_visits_for_domain(domain_visit_info, x) for x in domains])\n",
    "  #if np.sum(final_features) >= 1:\n",
    "   # final_features = np.divide(final_features, np.sum(final_features))\n",
    "  return final_features\n",
    "\n",
    "def extract_features_alldata(data):\n",
    "  output = []\n",
    "  for line in data:\n",
    "    domain_visit_info = line['domain_visit_info']\n",
    "    features = extract_features_for_user(domain_visit_info)\n",
    "    output.append(features)\n",
    "  return np.array(output)\n"
   ]
  },
  {
   "cell_type": "code",
   "execution_count": 24,
   "metadata": {},
   "outputs": [
    {
     "name": "stdout",
     "output_type": "stream",
     "text": [
      "baseline classifier accuracy: 0.4186046511627907\n"
     ]
    }
   ],
   "source": [
    "def get_percent_correct(predicted_labels, actual_labels):\n",
    "  if len(predicted_labels) != len(actual_labels):\n",
    "    raise 'need predicted and actual labels to have same lengths'\n",
    "  total = len(actual_labels)\n",
    "  correct = 0\n",
    "  for p,a in zip(predicted_labels, actual_labels):\n",
    "    if p == a:\n",
    "      correct += 1\n",
    "  return correct / total\n",
    "\n",
    "def test_baseline_classifier():\n",
    "  most_common_label = get_most_common_label()\n",
    "  predictions = [most_common_label for line in test_data]\n",
    "  actual = extract_labels_alldata(test_data)\n",
    "  percent_correct = get_percent_correct(predictions, actual)\n",
    "  print('baseline classifier accuracy:', percent_correct)\n",
    "\n",
    "def test_classifier(clf,features_test, actual, str=None):\n",
    "  #actual = extract_labels_alldata(test_data)\n",
    "  #features_test = extract_features_alldata(test_data)\n",
    "  predictions = clf.predict(features_test)\n",
    "  percent_correct = get_percent_correct(predictions, actual)\n",
    "  return percent_correct\n",
    "\n",
    "def training_error_classifier(clf, str=None):\n",
    "  actual = extract_labels_alldata(training_data)\n",
    "  features_train = extract_features_alldata(training_data)\n",
    "  predictions = clf.predict(features_train)\n",
    "  percent_correct = get_percent_correct(predictions, actual)\n",
    "  print(str + ' classifier training accuracy:', round(percent_correct, 2))\n",
    "\n",
    "def to_int_categorical(dt):\n",
    "  # {'easy', 'hard', 'medium', 'nothing'}\n",
    "  cat_dt = []\n",
    "  for item in dt:\n",
    "    if item == 'nothing':\n",
    "      cat_dt.append(0)\n",
    "    elif item == 'easy':\n",
    "      cat_dt.append(1)\n",
    "    elif item == 'medium':\n",
    "      cat_dt.append(2)\n",
    "    else:\n",
    "      cat_dt.append(3)\n",
    "  return np.array(cat_dt)\n",
    "    \n",
    "test_baseline_classifier()"
   ]
  },
  {
   "cell_type": "code",
   "execution_count": 25,
   "metadata": {
    "scrolled": true
   },
   "outputs": [],
   "source": [
    "labels_train = extract_labels_alldata(training_data)\n",
    "features_train = extract_features_alldata(training_data)\n",
    "labels_test = extract_labels_alldata(test_data)\n",
    "features_test = extract_features_alldata(test_data)"
   ]
  },
  {
   "cell_type": "code",
   "execution_count": 26,
   "metadata": {},
   "outputs": [],
   "source": [
    "def classifiers():\n",
    "    gnb = GaussianNB()\n",
    "    gnb.fit(features_train, labels_train)\n",
    "    acc = test_classifier(gnb, features_test, labels_test, 'GNB')\n",
    "    return acc"
   ]
  },
  {
   "cell_type": "code",
   "execution_count": 27,
   "metadata": {},
   "outputs": [
    {
     "name": "stdout",
     "output_type": "stream",
     "text": [
      "0.3488372093023256\n"
     ]
    }
   ],
   "source": [
    "print (classifiers())"
   ]
  },
  {
   "cell_type": "code",
   "execution_count": 28,
   "metadata": {},
   "outputs": [
    {
     "name": "stdout",
     "output_type": "stream",
     "text": [
      "86\n"
     ]
    }
   ],
   "source": [
    "labels_train2 = labels_train\n",
    "features_train2 = features_train\n",
    "labels_test2 = labels_test\n",
    "features_test2 = features_test\n",
    "\n",
    "print (len(features_test2))"
   ]
  },
  {
   "cell_type": "code",
   "execution_count": 29,
   "metadata": {},
   "outputs": [
    {
     "name": "stdout",
     "output_type": "stream",
     "text": [
      "[0.3333333333333333, 0.3333333333333333, 0.3333333333333333, 0.3333333333333333, 0.0, 0.0, 0.3333333333333333, 0.3333333333333333, 0.3333333333333333, 0.0, 0.0, 0.0, 0.5, 0.25, 0.75, 0.6, 0.6, 0.6, 0.6, 0.5, 0.5, 0.5, 0.42857142857142855, 0.42857142857142855, 0.42857142857142855, 0.5714285714285714, 0.375, 0.375, 0.375, 0.2222222222222222, 0.2222222222222222, 0.2222222222222222, 0.2222222222222222, 0.3, 0.4, 0.4, 0.36363636363636365, 0.36363636363636365, 0.2727272727272727, 0.2727272727272727, 0.25, 0.25, 0.25, 0.23076923076923078, 0.23076923076923078, 0.23076923076923078, 0.23076923076923078, 0.2857142857142857, 0.2857142857142857, 0.2857142857142857, 0.26666666666666666, 0.26666666666666666, 0.26666666666666666, 0.26666666666666666, 0.25, 0.25, 0.25, 0.29411764705882354, 0.29411764705882354, 0.23529411764705882, 0.17647058823529413, 0.2222222222222222, 0.16666666666666666, 0.1111111111111111, 0.15789473684210525, 0.15789473684210525, 0.10526315789473684, 0.10526315789473684, 0.15, 0.1, 0.1, 0.09523809523809523, 0.09523809523809523, 0.09523809523809523, 0.09090909090909091, 0.13636363636363635, 0.13636363636363635, 0.13636363636363635, 0.13043478260869565, 0.13043478260869565, 0.08695652173913043, 0.125, 0.125, 0.3333333333333333, 0.3333333333333333, 0.32, 0.32, 0.32, 0.3076923076923077, 0.34615384615384615, 0.34615384615384615, 0.34615384615384615, 0.3333333333333333, 0.3333333333333333, 0.3333333333333333, 0.32142857142857145, 0.32142857142857145, 0.32142857142857145, 0.32142857142857145, 0.3103448275862069, 0.3103448275862069, 0.3103448275862069, 0.3, 0.3, 0.3, 0.3, 0.2903225806451613, 0.2903225806451613, 0.2903225806451613, 0.28125, 0.28125, 0.28125, 0.28125, 0.3333333333333333, 0.24242424242424243, 0.24242424242424243, 0.23529411764705882, 0.23529411764705882, 0.2647058823529412, 0.2647058823529412, 0.2857142857142857, 0.2857142857142857, 0.2857142857142857, 0.3055555555555556, 0.3055555555555556, 0.3055555555555556, 0.3055555555555556, 0.32432432432432434, 0.32432432432432434, 0.32432432432432434, 0.3157894736842105, 0.3157894736842105, 0.2894736842105263, 0.2894736842105263, 0.3076923076923077, 0.3076923076923077, 0.3333333333333333, 0.325, 0.325, 0.325, 0.325, 0.3170731707317073, 0.3170731707317073, 0.3170731707317073, 0.30952380952380953, 0.3333333333333333, 0.3333333333333333, 0.35714285714285715, 0.3488372093023256, 0.3488372093023256, 0.3488372093023256, 0.3409090909090909, 0.3409090909090909, 0.3181818181818182, 0.3181818181818182, 0.3333333333333333, 0.3333333333333333, 0.3333333333333333, 0.34782608695652173, 0.3695652173913043, 0.3695652173913043, 0.3695652173913043, 0.3617021276595745, 0.3617021276595745, 0.3617021276595745, 0.375, 0.375, 0.375, 0.375, 0.3673469387755102, 0.3877551020408163, 0.3673469387755102, 0.34, 0.34, 0.34, 0.34, 0.3333333333333333, 0.3333333333333333, 0.35294117647058826, 0.34615384615384615, 0.34615384615384615, 0.34615384615384615, 0.25, 0.24528301886792453, 0.20754716981132076, 0.20754716981132076, 0.2037037037037037, 0.2037037037037037, 0.2222222222222222, 0.2037037037037037, 0.21818181818181817, 0.23636363636363636, 0.23636363636363636, 0.23214285714285715, 0.21428571428571427, 0.21428571428571427, 0.25, 0.22807017543859648, 0.22807017543859648, 0.22807017543859648, 0.20689655172413793, 0.20689655172413793, 0.22413793103448276, 0.2413793103448276, 0.2542372881355932, 0.2711864406779661, 0.2711864406779661, 0.26666666666666666, 0.26666666666666666, 0.2833333333333333, 0.2833333333333333, 0.3442622950819672, 0.3442622950819672, 0.3442622950819672, 0.3548387096774194, 0.24193548387096775, 0.24193548387096775, 0.24193548387096775, 0.23809523809523808, 0.2222222222222222, 0.2222222222222222, 0.234375, 0.234375, 0.234375, 0.234375, 0.23076923076923078, 0.23076923076923078, 0.2153846153846154, 0.2727272727272727, 0.25757575757575757, 0.25757575757575757, 0.2537313432835821, 0.2537313432835821, 0.2537313432835821, 0.2537313432835821, 0.27941176470588236, 0.2647058823529412, 0.2647058823529412, 0.2318840579710145, 0.2318840579710145, 0.2318840579710145, 0.2753623188405797, 0.2714285714285714, 0.2571428571428571, 0.22857142857142856, 0.2112676056338028, 0.2676056338028169, 0.2676056338028169, 0.2676056338028169, 0.2222222222222222, 0.2222222222222222, 0.2222222222222222, 0.2465753424657534, 0.2465753424657534, 0.273972602739726, 0.2876712328767123, 0.28378378378378377, 0.25675675675675674, 0.25675675675675674, 0.25333333333333335, 0.25333333333333335, 0.25333333333333335, 0.26666666666666666, 0.2631578947368421, 0.3684210526315789, 0.3684210526315789, 0.37662337662337664, 0.37662337662337664, 0.38961038961038963, 0.37662337662337664, 0.38461538461538464, 0.38461538461538464, 0.38461538461538464, 0.3670886075949367, 0.3670886075949367, 0.3670886075949367, 0.3670886075949367, 0.375, 0.375, 0.375, 0.38271604938271603, 0.38271604938271603, 0.37037037037037035, 0.37037037037037035, 0.36585365853658536, 0.36585365853658536, 0.35365853658536583, 0.3493975903614458, 0.3493975903614458, 0.3493975903614458, 0.3493975903614458, 0.34523809523809523, 0.34523809523809523, 0.34523809523809523, 0.35294117647058826, 0.35294117647058826, 0.35294117647058826, 0.35294117647058826, 0.3488372093023256, 0.3488372093023256]\n",
      "[3, 3, 3, 5, 6, 7, 8, 9, 10, 12, 13, 14, 15, 16, 17, 18, 20, 21, 22, 23, 24, 25, 27, 28, 29, 30, 31, 32, 33, 35, 36, 37, 38, 39, 40, 42, 43, 44, 45, 46, 47, 48, 50, 51, 52, 53, 54, 55, 57, 58, 59, 60, 61, 62, 63, 65, 66, 67, 68, 69, 70, 72, 73, 74, 75, 76, 77, 78, 80, 81, 82, 83, 84, 85, 86, 88, 89, 90, 91, 92, 93, 95, 96, 97, 98, 99, 100, 101, 103, 104, 105, 106, 107, 108, 110, 111, 112, 113, 114, 115, 116, 118, 119, 120, 121, 122, 123, 125, 126, 127, 128, 129, 130, 131, 133, 134, 135, 136, 137, 138, 140, 141, 142, 143, 144, 145, 146, 148, 149, 150, 151, 152, 153, 155, 156, 157, 158, 159, 160, 161, 163, 164, 165, 166, 167, 168, 170, 171, 172, 173, 174, 175, 176, 178, 179, 180, 181, 182, 183, 185, 186, 187, 188, 189, 190, 191, 193, 194, 195, 196, 197, 198, 200, 201, 202, 203, 204, 205, 206, 208, 209, 210, 211, 212, 213, 215, 216, 217, 218, 219, 220, 221, 223, 224, 225, 226, 227, 228, 230, 231, 232, 233, 234, 235, 236, 238, 239, 240, 241, 242, 243, 245, 246, 247, 248, 249, 250, 251, 253, 254, 255, 256, 257, 258, 260, 261, 262, 263, 264, 265, 266, 268, 269, 270, 271, 272, 273, 274, 276, 277, 278, 279, 280, 281, 283, 284, 285, 286, 287, 288, 289, 291, 292, 293, 294, 295, 296, 298, 299, 300, 301, 302, 303, 304, 306, 307, 308, 309, 310, 311, 313, 314, 315, 316, 317, 318, 319, 321, 322, 323, 324, 325, 326, 328, 329, 330, 331, 332, 333, 334, 336, 337, 338, 339, 340, 341, 343, 344, 345, 346]\n"
     ]
    }
   ],
   "source": [
    "cache_GNB = []\n",
    "training_size = []\n",
    "num = 300\n",
    "for i in range(num):\n",
    "    labels_train = labels_train2[: max(3, round(len(labels_train2)*((i + 1) / num)))]\n",
    "    features_train = features_train2[: max(3, round(len(features_train2)*((i + 1) / num)))]\n",
    "    labels_test = labels_test2[: max(3, round(len(labels_test2)*((i + 1) / num)))]\n",
    "    features_test = features_test2[: max(3, round(len(features_test2)*((i + 1) / num)))]\n",
    "   \n",
    "    result = classifiers()\n",
    "   \n",
    "    cache_GNB.append(result)\n",
    "    training_size.append(len(labels_train))\n",
    "\n",
    "print (cache_GNB)\n",
    "print (training_size)"
   ]
  },
  {
   "cell_type": "code",
   "execution_count": 30,
   "metadata": {},
   "outputs": [],
   "source": [
    "import matplotlib.pyplot as plt"
   ]
  },
  {
   "cell_type": "code",
   "execution_count": 31,
   "metadata": {},
   "outputs": [
    {
     "name": "stdout",
     "output_type": "stream",
     "text": [
      "learning curve for GNB:\n"
     ]
    },
    {
     "data": {
      "text/plain": [
       "[<matplotlib.lines.Line2D at 0x113b7eb70>]"
      ]
     },
     "execution_count": 31,
     "metadata": {},
     "output_type": "execute_result"
    },
    {
     "data": {
      "image/png": "[encoded data removed]",
      "text/plain": [
       "<Figure size 432x288 with 1 Axes>"
      ]
     },
     "metadata": {},
     "output_type": "display_data"
    }
   ],
   "source": [
    "print (\"learning curve for GNB:\")\n",
    "\n",
    "plt.plot(training_size, cache_GNB)"
   ]
  },
  {
   "cell_type": "code",
   "execution_count": 32,
   "metadata": {},
   "outputs": [
    {
     "name": "stdout",
     "output_type": "stream",
     "text": [
      "346\n",
      "86\n"
     ]
    }
   ],
   "source": [
    "print (len(features_train))\n",
    "print (len(features_test))"
   ]
  },
  {
   "cell_type": "code",
   "execution_count": 33,
   "metadata": {},
   "outputs": [],
   "source": [
    "def classifiers_confusion():\n",
    "    gnb = GaussianNB()\n",
    "    gnb.fit(features_train, labels_train)\n",
    "    acc = test_classifier(gnb, features_test, labels_test, 'GNB')\n",
    "    predicted = gnb.predict(features_test)\n",
    "    confusion = {'nothing': {'nothing': 0, 'easy': 0, 'medium': 0, 'hard': 0},\n",
    "                 'easy': {'nothing': 0, 'easy': 0, 'medium': 0, 'hard': 0},\n",
    "                 'medium': {'nothing': 0, 'easy': 0, 'medium': 0, 'hard': 0}, \n",
    "                 'hard': {'nothing': 0, 'easy': 0, 'medium': 0, 'hard': 0}}\n",
    "    \n",
    "    classes = ['nothing', 'easy', 'medium', 'hard']\n",
    "    for i in range(len(features_test)):\n",
    "        confusion[predicted[i]][labels_test[i]] += 1\n",
    "        \n",
    "        \n",
    "    print (\"GNB\")\n",
    "    for i in classes:\n",
    "        print (i)\n",
    "        print (confusion[i])\n",
    "    return "
   ]
  },
  {
   "cell_type": "code",
   "execution_count": 34,
   "metadata": {},
   "outputs": [
    {
     "name": "stdout",
     "output_type": "stream",
     "text": [
      "GNB\n",
      "nothing\n",
      "{'nothing': 0, 'easy': 4, 'medium': 0, 'hard': 0}\n",
      "easy\n",
      "{'nothing': 14, 'easy': 28, 'medium': 20, 'hard': 11}\n",
      "medium\n",
      "{'nothing': 0, 'easy': 2, 'medium': 2, 'hard': 2}\n",
      "hard\n",
      "{'nothing': 0, 'easy': 2, 'medium': 1, 'hard': 0}\n"
     ]
    }
   ],
   "source": [
    "classifiers_confusion()"
   ]
  },
  {
   "cell_type": "code",
   "execution_count": null,
   "metadata": {},
   "outputs": [],
   "source": []
  }
 ],
 "metadata": {
  "kernelspec": {
   "display_name": "Python 3",
   "language": "python",
   "name": "python3"
  },
  "language_info": {
   "codemirror_mode": {
    "name": "ipython",
    "version": 3
   },
   "file_extension": ".py",
   "mimetype": "text/x-python",
   "name": "python",
   "nbconvert_exporter": "python",
   "pygments_lexer": "ipython3",
   "version": "3.6.5"
  }
 },
 "nbformat": 4,
 "nbformat_minor": 2
}
