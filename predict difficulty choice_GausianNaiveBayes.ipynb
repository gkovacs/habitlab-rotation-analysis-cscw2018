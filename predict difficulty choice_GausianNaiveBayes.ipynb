{
 "cells": [
  {
   "cell_type": "code",
   "execution_count": 31,
   "metadata": {},
   "outputs": [],
   "source": [
    "import csv\n",
    "import lzstring\n",
    "from collections import namedtuple, Counter\n",
    "import json\n",
    "from memoize import memoize\n",
    "import numpy as np\n",
    "from sklearn.ensemble import RandomForestClassifier\n",
    "from sklearn.neighbors import KNeighborsClassifier\n",
    "from sklearn.naive_bayes import GaussianNB\n",
    "import sys\n",
    "import json"
   ]
  },
  {
   "cell_type": "code",
   "execution_count": 32,
   "metadata": {},
   "outputs": [],
   "source": [
    "csv.field_size_limit(sys.maxsize)\n",
    "\n",
    "# [num unique urls, num unique urls typed, total visits, total typed, first visit time, last visit time]\n",
    "domaininfo = namedtuple('domaininfo', ['num_unique_urls', 'num_unique_urls_typed', 'total_visits', 'total_typed', 'first_visit_time', 'last_visit_time'])\n",
    "\n",
    "decompressFromEncodedURIComponent = lzstring.LZString().decompressFromEncodedURIComponent\n",
    "\n",
    "#filepath = 'difficultyselectionexp_may31_11am.csv'\n",
    "filepath = 'data/JUL17.csv'\n",
    "reader = csv.DictReader(open(filepath))\n",
    "\n",
    "def extract_domain_visit_info(domain_visit_info_compressed):\n",
    "  domain_visit_info = json.loads(decompressFromEncodedURIComponent(domain_visit_info_compressed))\n",
    "  output = {}\n",
    "  for k,v in domain_visit_info.items():\n",
    "    linedata = domaininfo(*v)\n",
    "    output[k] = linedata\n",
    "  return output\n",
    "\n",
    "alldata = []\n",
    "\n",
    "for alldata_item in reader:\n",
    "  if alldata_item['selected_difficulty'] not in ['nothing', 'easy', 'medium', 'hard']:\n",
    "    continue\n",
    "  if alldata_item['domain_visit_info_compressed'] == None or len(alldata_item['domain_visit_info_compressed']) == 0:\n",
    "    continue\n",
    "  alldata_item['domain_visit_info'] = extract_domain_visit_info(alldata_item['domain_visit_info_compressed'])\n",
    "  alldata.append(alldata_item)\n"
   ]
  },
  {
   "cell_type": "code",
   "execution_count": 33,
   "metadata": {},
   "outputs": [
    {
     "name": "stdout",
     "output_type": "stream",
     "text": [
      "605\n",
      "151\n"
     ]
    }
   ],
   "source": [
    "#np.random.shuffle(alldata)\n",
    "training_data = alldata[:round(len(alldata)*0.8)]\n",
    "test_data = alldata[round(len(alldata)*0.8):]\n",
    "print(len(training_data))\n",
    "print(len(test_data))"
   ]
  },
  {
   "cell_type": "code",
   "execution_count": 34,
   "metadata": {},
   "outputs": [],
   "source": [
    "def extract_labels_alldata(data):\n",
    "  return np.array([line['selected_difficulty'] for line in data])\n",
    "\n",
    "@memoize\n",
    "def get_most_common_label():\n",
    "  label_to_count = Counter()\n",
    "  for line in training_data:\n",
    "    label = line['selected_difficulty']\n",
    "    label_to_count[label] += 1\n",
    "  sorted_by_count = sorted(label_to_count.items(), key=lambda x: x[1], reverse=True)\n",
    "  return sorted_by_count[0][0]\n",
    "\n",
    "@memoize\n",
    "def get_most_visited_domains():\n",
    "  domain_to_num_visits = Counter()\n",
    "  for line in training_data:\n",
    "    domain_visit_info = line['domain_visit_info']\n",
    "    for domain,info in domain_visit_info.items():\n",
    "      domain_to_num_visits[domain] += info.total_visits\n",
    "  sorted_by_num_visits = sorted(domain_to_num_visits.items(), key=lambda x: x[1], reverse=True)\n",
    "  return [x[0] for x in sorted_by_num_visits[:100]]\n",
    "\n",
    "cnt = 0\n",
    "@memoize\n",
    "def get_most_common_domains():\n",
    "  domain_to_num_visits = Counter()\n",
    "  for line in training_data:\n",
    "    domain_visit_info = line['domain_visit_info']\n",
    "    for domain,info in domain_visit_info.items():\n",
    "      domain_to_num_visits[domain] += 1\n",
    "  sorted_by_num_visits = sorted(domain_to_num_visits.items(), key=lambda x: x[1], reverse=True)\n",
    "  return [x[0] for x in sorted_by_num_visits[:100]]\n",
    "\n",
    "def get_all_domains():\n",
    "  domain_to_num_visits = Counter()\n",
    "  for line in training_data:\n",
    "    domain_visit_info = line['domain_visit_info']\n",
    "    for domain,info in domain_visit_info.items():\n",
    "      domain_to_num_visits[domain] += 1\n",
    "  sorted_by_num_visits = sorted(domain_to_num_visits.items(), key=lambda x: x[1], reverse=True)\n",
    "  return [x[0] for x in sorted_by_num_visits]\n",
    "\n",
    "\n",
    "\n",
    "def get_num_visits_for_domain(domain_visit_info, domain):\n",
    "  info = domain_visit_info.get(domain, None)\n",
    "  if info != None:\n",
    "    return info.total_visits\n",
    "  return 0\n",
    "\n",
    "def get_productivity():\n",
    "    with open ('domain_to_productivity.json') as json_file:\n",
    "        data = json.load(json_file)\n",
    "        return data\n",
    "\n",
    "domain_to_productivity = get_productivity()\n",
    "\n",
    "def get_productivity_domain(domain):\n",
    "    if domain in domain_to_productivity.keys():\n",
    "        return domain_to_productivity[domain]\n",
    "    domain2 = domain.split('.')\n",
    "    final = 'www.' + domain2[len(domain2) - 2] + '.com'\n",
    "    if final in domain_to_productivity.keys():\n",
    "        return domain_to_productivity[final]\n",
    "    return None\n",
    "\n",
    "def extract_features_for_user(domain_visit_info):\n",
    "  cnt = 0\n",
    "  domains = get_all_domains()\n",
    "  final_features = [0, 0, 0, 0, 0];\n",
    "  for x in domains:\n",
    "        if get_productivity_domain(x) != None:\n",
    "            final_features[get_productivity_domain(x) + 2] += get_num_visits_for_domain(domain_visit_info, x)\n",
    "    \n",
    "  #np.array([get_num_visits_for_domain(domain_visit_info, x) for x in domains])\n",
    "  #if np.sum(final_features) >= 1:\n",
    "    #final_features = np.divide(final_features, np.sum(final_features))\n",
    "  return final_features\n",
    "\n",
    "\n",
    "def extract_features_alldata(data):\n",
    "  output = []\n",
    "  for line in data:\n",
    "    domain_visit_info = line['domain_visit_info']\n",
    "    features = extract_features_for_user(domain_visit_info)\n",
    "    output.append(features)\n",
    "  return np.array(output)\n"
   ]
  },
  {
   "cell_type": "code",
   "execution_count": 35,
   "metadata": {},
   "outputs": [
    {
     "name": "stdout",
     "output_type": "stream",
     "text": [
      "baseline classifier accuracy: 0.5231788079470199\n"
     ]
    }
   ],
   "source": [
    "def get_percent_correct(predicted_labels, actual_labels):\n",
    "  if len(predicted_labels) != len(actual_labels):\n",
    "    raise 'need predicted and actual labels to have same lengths'\n",
    "  total = len(actual_labels)\n",
    "  correct = 0\n",
    "  for p,a in zip(predicted_labels, actual_labels):\n",
    "    if p == a:\n",
    "      correct += 1\n",
    "  return correct / total\n",
    "\n",
    "def test_baseline_classifier():\n",
    "  most_common_label = get_most_common_label()\n",
    "  predictions = [most_common_label for line in test_data]\n",
    "  actual = extract_labels_alldata(test_data)\n",
    "  percent_correct = get_percent_correct(predictions, actual)\n",
    "  print('baseline classifier accuracy:', percent_correct)\n",
    "\n",
    "def test_classifier(clf,features_test, actual, str=None):\n",
    "  #actual = extract_labels_alldata(test_data)\n",
    "  #features_test = extract_features_alldata(test_data)\n",
    "  predictions = clf.predict(features_test)\n",
    "  percent_correct = get_percent_correct(predictions, actual)\n",
    "  return percent_correct\n",
    "\n",
    "def training_error_classifier(clf, str=None):\n",
    "  actual = extract_labels_alldata(training_data)\n",
    "  features_train = extract_features_alldata(training_data)\n",
    "  predictions = clf.predict(features_train)\n",
    "  percent_correct = get_percent_correct(predictions, actual)\n",
    "  print(str + ' classifier training accuracy:', round(percent_correct, 2))\n",
    "\n",
    "def to_int_categorical(dt):\n",
    "  # {'easy', 'hard', 'medium', 'nothing'}\n",
    "  cat_dt = []\n",
    "  for item in dt:\n",
    "    if item == 'nothing':\n",
    "      cat_dt.append(0)\n",
    "    elif item == 'easy':\n",
    "      cat_dt.append(1)\n",
    "    elif item == 'medium':\n",
    "      cat_dt.append(2)\n",
    "    else:\n",
    "      cat_dt.append(3)\n",
    "  return np.array(cat_dt)\n",
    "    \n",
    "test_baseline_classifier()"
   ]
  },
  {
   "cell_type": "code",
   "execution_count": 36,
   "metadata": {
    "scrolled": true
   },
   "outputs": [],
   "source": [
    "labels_train = extract_labels_alldata(training_data)\n",
    "features_train = extract_features_alldata(training_data)\n",
    "labels_test = extract_labels_alldata(test_data)\n",
    "features_test = extract_features_alldata(test_data)"
   ]
  },
  {
   "cell_type": "code",
   "execution_count": 37,
   "metadata": {},
   "outputs": [],
   "source": [
    "def classifiers():\n",
    "    gnb = GaussianNB()\n",
    "    gnb.fit(features_train, labels_train)\n",
    "    acc = test_classifier(gnb, features_test, labels_test, 'GNB')\n",
    "    return acc"
   ]
  },
  {
   "cell_type": "code",
   "execution_count": 38,
   "metadata": {},
   "outputs": [
    {
     "name": "stdout",
     "output_type": "stream",
     "text": [
      "0.37748344370860926\n"
     ]
    }
   ],
   "source": [
    "print (classifiers())"
   ]
  },
  {
   "cell_type": "code",
   "execution_count": 39,
   "metadata": {},
   "outputs": [
    {
     "name": "stdout",
     "output_type": "stream",
     "text": [
      "151\n"
     ]
    }
   ],
   "source": [
    "labels_train2 = labels_train\n",
    "features_train2 = features_train\n",
    "labels_test2 = labels_test\n",
    "features_test2 = features_test\n",
    "\n",
    "print (len(features_test2))"
   ]
  },
  {
   "cell_type": "code",
   "execution_count": 40,
   "metadata": {},
   "outputs": [
    {
     "name": "stdout",
     "output_type": "stream",
     "text": [
      "[0.0, 0.0, 0.0, 0.0, 0.0, 0.3333333333333333, 0.25, 0.25, 0.2, 0.2, 0.3333333333333333, 0.3333333333333333, 0.2857142857142857, 0.14285714285714285, 0.125, 0.125, 0.2222222222222222, 0.2222222222222222, 0.2, 0.2, 0.18181818181818182, 0.18181818181818182, 0.16666666666666666, 0.16666666666666666, 0.15384615384615385, 0.15384615384615385, 0.21428571428571427, 0.21428571428571427, 0.2, 0.2, 0.25, 0.25, 0.23529411764705882, 0.23529411764705882, 0.2222222222222222, 0.2222222222222222, 0.21052631578947367, 0.21052631578947367, 0.2, 0.25, 0.2857142857142857, 0.3333333333333333, 0.3181818181818182, 0.36363636363636365, 0.34782608695652173, 0.34782608695652173, 0.3333333333333333, 0.3333333333333333, 0.32, 0.32, 0.3076923076923077, 0.3076923076923077, 0.2962962962962963, 0.48148148148148145, 0.4642857142857143, 0.4642857142857143, 0.4482758620689655, 0.4482758620689655, 0.43333333333333335, 0.43333333333333335, 0.41935483870967744, 0.45161290322580644, 0.46875, 0.46875, 0.45454545454545453, 0.42424242424242425, 0.4117647058823529, 0.29411764705882354, 0.37142857142857144, 0.22857142857142856, 0.16666666666666666, 0.19444444444444445, 0.1891891891891892, 0.21621621621621623, 0.23684210526315788, 0.21052631578947367, 0.23076923076923078, 0.23076923076923078, 0.175, 0.2, 0.1951219512195122, 0.17073170731707318, 0.19047619047619047, 0.2857142857142857, 0.2558139534883721, 0.3023255813953488, 0.29545454545454547, 0.29545454545454547, 0.3111111111111111, 0.28888888888888886, 0.30434782608695654, 0.2826086956521739, 0.3191489361702128, 0.44680851063829785, 0.4375, 0.4375, 0.4489795918367347, 0.4489795918367347, 0.44, 0.44, 0.37254901960784315, 0.3137254901960784, 0.3269230769230769, 0.3076923076923077, 0.3018867924528302, 0.33962264150943394, 0.35185185185185186, 0.35185185185185186, 0.36363636363636365, 0.32727272727272727, 0.26785714285714285, 0.26785714285714285, 0.2807017543859649, 0.2807017543859649, 0.27586206896551724, 0.27586206896551724, 0.2711864406779661, 0.2711864406779661, 0.2833333333333333, 0.2833333333333333, 0.29508196721311475, 0.29508196721311475, 0.2903225806451613, 0.2903225806451613, 0.2857142857142857, 0.1746031746031746, 0.1875, 0.21875, 0.23076923076923078, 0.2923076923076923, 0.2878787878787879, 0.2878787878787879, 0.2537313432835821, 0.26865671641791045, 0.2647058823529412, 0.2647058823529412, 0.2608695652173913, 0.21739130434782608, 0.21428571428571427, 0.21428571428571427, 0.2112676056338028, 0.2112676056338028, 0.20833333333333334, 0.20833333333333334, 0.2054794520547945, 0.2054794520547945, 0.20270270270270271, 0.20270270270270271, 0.2, 0.19736842105263158, 0.3026315789473684, 0.2857142857142857, 0.2987012987012987, 0.3333333333333333, 0.3333333333333333, 0.3291139240506329, 0.3291139240506329, 0.325, 0.475, 0.4691358024691358, 0.48148148148148145, 0.4878048780487805, 0.4878048780487805, 0.4819277108433735, 0.4819277108433735, 0.4642857142857143, 0.4642857142857143, 0.47058823529411764, 0.4823529411764706, 0.5, 0.4883720930232558, 0.4827586206896552, 0.4827586206896552, 0.48863636363636365, 0.4772727272727273, 0.48314606741573035, 0.48314606741573035, 0.4777777777777778, 0.4666666666666667, 0.4725274725274725, 0.4725274725274725, 0.4782608695652174, 0.4782608695652174, 0.4731182795698925, 0.4731182795698925, 0.46808510638297873, 0.46808510638297873, 0.4631578947368421, 0.4631578947368421, 0.4583333333333333, 0.4479166666666667, 0.44329896907216493, 0.44329896907216493, 0.4489795918367347, 0.4489795918367347, 0.45454545454545453, 0.45454545454545453, 0.45, 0.36, 0.36633663366336633, 0.36633663366336633, 0.3627450980392157, 0.4215686274509804, 0.3786407766990291, 0.3786407766990291, 0.375, 0.36538461538461536, 0.45714285714285713, 0.4666666666666667, 0.46226415094339623, 0.46226415094339623, 0.4485981308411215, 0.4485981308411215, 0.4537037037037037, 0.4537037037037037, 0.45871559633027525, 0.45871559633027525, 0.4727272727272727, 0.4727272727272727, 0.4774774774774775, 0.4774774774774775, 0.48214285714285715, 0.48214285714285715, 0.4778761061946903, 0.4778761061946903, 0.4824561403508772, 0.4824561403508772, 0.4608695652173913, 0.4608695652173913, 0.33620689655172414, 0.3448275862068966, 0.3418803418803419, 0.3418803418803419, 0.3559322033898305, 0.3389830508474576, 0.3445378151260504, 0.31092436974789917, 0.3416666666666667, 0.36666666666666664, 0.371900826446281, 0.371900826446281, 0.36885245901639346, 0.36065573770491804, 0.36585365853658536, 0.35772357723577236, 0.3387096774193548, 0.33064516129032256, 0.328, 0.32, 0.3333333333333333, 0.3333333333333333, 0.3464566929133858, 0.36220472440944884, 0.34375, 0.34375, 0.35658914728682173, 0.3333333333333333, 0.3384615384615385, 0.35384615384615387, 0.3282442748091603, 0.33587786259541985, 0.3333333333333333, 0.3484848484848485, 0.3458646616541353, 0.3533834586466165, 0.35074626865671643, 0.34328358208955223, 0.34074074074074073, 0.34814814814814815, 0.35294117647058826, 0.35294117647058826, 0.3357664233576642, 0.34306569343065696, 0.35507246376811596, 0.34782608695652173, 0.34532374100719426, 0.34532374100719426, 0.35, 0.35, 0.3404255319148936, 0.3404255319148936, 0.3380281690140845, 0.34507042253521125, 0.34265734265734266, 0.34265734265734266, 0.3402777777777778, 0.3402777777777778, 0.33793103448275863, 0.33793103448275863, 0.3356164383561644, 0.3424657534246575, 0.3401360544217687, 0.3401360544217687, 0.33783783783783783, 0.34459459459459457, 0.348993288590604, 0.3624161073825503, 0.38, 0.38, 0.37748344370860926]\n",
      "[3, 4, 6, 8, 10, 12, 14, 16, 18, 20, 22, 24, 26, 28, 30, 32, 34, 36, 38, 40, 42, 44, 46, 48, 50, 52, 54, 56, 58, 60, 63, 65, 67, 69, 71, 73, 75, 77, 79, 81, 83, 85, 87, 89, 91, 93, 95, 97, 99, 101, 103, 105, 107, 109, 111, 113, 115, 117, 119, 121, 123, 125, 127, 129, 131, 133, 135, 137, 139, 141, 143, 145, 147, 149, 151, 153, 155, 157, 159, 161, 163, 165, 167, 169, 171, 173, 175, 177, 179, 182, 184, 186, 188, 190, 192, 194, 196, 198, 200, 202, 204, 206, 208, 210, 212, 214, 216, 218, 220, 222, 224, 226, 228, 230, 232, 234, 236, 238, 240, 242, 244, 246, 248, 250, 252, 254, 256, 258, 260, 262, 264, 266, 268, 270, 272, 274, 276, 278, 280, 282, 284, 286, 288, 290, 292, 294, 296, 298, 300, 302, 305, 307, 309, 311, 313, 315, 317, 319, 321, 323, 325, 327, 329, 331, 333, 335, 337, 339, 341, 343, 345, 347, 349, 351, 353, 355, 357, 359, 361, 363, 365, 367, 369, 371, 373, 375, 377, 379, 381, 383, 385, 387, 389, 391, 393, 395, 397, 399, 401, 403, 405, 407, 409, 411, 413, 415, 417, 419, 421, 424, 426, 428, 430, 432, 434, 436, 438, 440, 442, 444, 446, 448, 450, 452, 454, 456, 458, 460, 462, 464, 466, 468, 470, 472, 474, 476, 478, 480, 482, 484, 486, 488, 490, 492, 494, 496, 498, 500, 502, 504, 506, 508, 510, 512, 514, 516, 518, 520, 522, 524, 526, 528, 530, 532, 534, 536, 538, 540, 542, 544, 547, 549, 551, 553, 555, 557, 559, 561, 563, 565, 567, 569, 571, 573, 575, 577, 579, 581, 583, 585, 587, 589, 591, 593, 595, 597, 599, 601, 603, 605]\n"
     ]
    }
   ],
   "source": [
    "cache_GNB = []\n",
    "training_size = []\n",
    "num = 300\n",
    "for i in range(num):\n",
    "    labels_train = labels_train2[: max(3, round(len(labels_train2)*((i + 1) / num)))]\n",
    "    features_train = features_train2[: max(3, round(len(features_train2)*((i + 1) / num)))]\n",
    "    labels_test = labels_test2[: max(3, round(len(labels_test2)*((i + 1) / num)))]\n",
    "    features_test = features_test2[: max(3, round(len(features_test2)*((i + 1) / num)))]\n",
    "   \n",
    "    result = classifiers()\n",
    "   \n",
    "    cache_GNB.append(result)\n",
    "    training_size.append(len(labels_train))\n",
    "\n",
    "print (cache_GNB)\n",
    "print (training_size)"
   ]
  },
  {
   "cell_type": "code",
   "execution_count": 41,
   "metadata": {},
   "outputs": [],
   "source": [
    "import matplotlib.pyplot as plt"
   ]
  },
  {
   "cell_type": "code",
   "execution_count": 42,
   "metadata": {},
   "outputs": [
    {
     "name": "stdout",
     "output_type": "stream",
     "text": [
      "learning curve for GNB:\n"
     ]
    },
    {
     "data": {
      "text/plain": [
       "[<matplotlib.lines.Line2D at 0x112d61128>]"
      ]
     },
     "execution_count": 42,
     "metadata": {},
     "output_type": "execute_result"
    },
    {
     "data": {
      "image/png": "[encoded data removed]",
      "text/plain": [
       "<Figure size 432x288 with 1 Axes>"
      ]
     },
     "metadata": {},
     "output_type": "display_data"
    }
   ],
   "source": [
    "print (\"learning curve for GNB:\")\n",
    "\n",
    "plt.plot(training_size, cache_GNB)"
   ]
  },
  {
   "cell_type": "code",
   "execution_count": 43,
   "metadata": {},
   "outputs": [
    {
     "name": "stdout",
     "output_type": "stream",
     "text": [
      "605\n",
      "151\n"
     ]
    }
   ],
   "source": [
    "print (len(features_train))\n",
    "print (len(features_test))"
   ]
  },
  {
   "cell_type": "code",
   "execution_count": 44,
   "metadata": {},
   "outputs": [],
   "source": [
    "def classifiers_confusion():\n",
    "    gnb = GaussianNB()\n",
    "    gnb.fit(features_train, labels_train)\n",
    "    acc = test_classifier(gnb, features_test, labels_test, 'GNB')\n",
    "    predicted = gnb.predict(features_test)\n",
    "    confusion = {'nothing': {'nothing': 0, 'easy': 0, 'medium': 0, 'hard': 0},\n",
    "                 'easy': {'nothing': 0, 'easy': 0, 'medium': 0, 'hard': 0},\n",
    "                 'medium': {'nothing': 0, 'easy': 0, 'medium': 0, 'hard': 0}, \n",
    "                 'hard': {'nothing': 0, 'easy': 0, 'medium': 0, 'hard': 0}}\n",
    "    \n",
    "    classes = ['nothing', 'easy', 'medium', 'hard']\n",
    "    for i in range(len(features_test)):\n",
    "        confusion[predicted[i]][labels_test[i]] += 1\n",
    "        \n",
    "        \n",
    "    print (\"GNB\")\n",
    "    for i in classes:\n",
    "        print (i)\n",
    "        print (confusion[i])\n",
    "    return "
   ]
  },
  {
   "cell_type": "code",
   "execution_count": 45,
   "metadata": {},
   "outputs": [
    {
     "name": "stdout",
     "output_type": "stream",
     "text": [
      "GNB\n",
      "nothing\n",
      "{'nothing': 8, 'easy': 24, 'medium': 13, 'hard': 5}\n",
      "easy\n",
      "{'nothing': 8, 'easy': 45, 'medium': 20, 'hard': 9}\n",
      "medium\n",
      "{'nothing': 0, 'easy': 6, 'medium': 4, 'hard': 0}\n",
      "hard\n",
      "{'nothing': 1, 'easy': 4, 'medium': 4, 'hard': 0}\n"
     ]
    }
   ],
   "source": [
    "classifiers_confusion()"
   ]
  },
  {
   "cell_type": "code",
   "execution_count": null,
   "metadata": {},
   "outputs": [],
   "source": []
  },
  {
   "cell_type": "code",
   "execution_count": null,
   "metadata": {},
   "outputs": [],
   "source": []
  }
 ],
 "metadata": {
  "kernelspec": {
   "display_name": "Python 3",
   "language": "python",
   "name": "python3"
  },
  "language_info": {
   "codemirror_mode": {
    "name": "ipython",
    "version": 3
   },
   "file_extension": ".py",
   "mimetype": "text/x-python",
   "name": "python",
   "nbconvert_exporter": "python",
   "pygments_lexer": "ipython3",
   "version": "3.6.5"
  }
 },
 "nbformat": 4,
 "nbformat_minor": 2
}
