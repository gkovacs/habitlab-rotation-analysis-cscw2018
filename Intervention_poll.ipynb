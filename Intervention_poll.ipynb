{
 "cells": [
  {
   "cell_type": "code",
   "execution_count": 17,
   "metadata": {},
   "outputs": [],
   "source": [
    "import csv\n",
    "import lzstring\n",
    "from collections import namedtuple, Counter\n",
    "import json\n",
    "from memoize import memoize\n",
    "import numpy as np\n",
    "from sklearn.ensemble import RandomForestClassifier\n",
    "from sklearn.neighbors import KNeighborsClassifier\n",
    "import sys\n",
    "import json"
   ]
  },
  {
   "cell_type": "code",
   "execution_count": 37,
   "metadata": {},
   "outputs": [],
   "source": [
    "with open('data/intervention_polling.json') as file:\n",
    "    data = json.load(file)"
   ]
  },
  {
   "cell_type": "code",
   "execution_count": 38,
   "metadata": {},
   "outputs": [
    {
     "name": "stdout",
     "output_type": "stream",
     "text": [
      "{'just_right': [None], 'reddit/show_timer_banner': [None, 'just_right', 'just_right', 'just_right'], 'generic/show_timer_banner': ['just_right', 'just_right', 'just_right', 'just_right', 'just_right', 'just_right', 'just_right', 'not_intense', 'not_intense', 'just_right', 'just_right', 'not_intense', 'just_right', 'just_right', 'just_right', 'just_right', 'just_right', 'not_intense', 'too_intense', 'not_intense', 'just_right', 'just_right', 'just_right', 'too_intense', 'just_right', 'too_intense', 'just_right', 'just_right', 'just_right', 'too_intense', 'just_right', 'just_right', 'not_intense', 'just_right', 'just_right', 'just_right', 'just_right', 'just_right', 'just_right', 'just_right', 'not_intense', 'just_right', 'not_intense', 'too_intense', 'just_right', 'just_right', 'not_intense', 'just_right', 'not_intense', 'just_right', 'just_right', 'just_right', 'not_intense', 'just_right', 'too_intense', 'just_right', 'just_right', 'not_intense', 'just_right', 'just_right', 'just_right', 'just_right', 'not_intense', 'just_right', 'just_right', 'just_right', 'not_intense', 'just_right', 'not_intense', 'not_intense', 'just_right', 'just_right', 'too_intense', 'just_right', 'just_right', 'just_right', 'not_intense', 'not_intense', 'too_intense', 'just_right', 'not_intense', 'just_right', 'just_right', 'just_right', 'not_intense', 'not_intense', 'just_right', 'just_right', 'just_right', 'just_right', 'just_right', 'not_intense', 'just_right', 'not_intense', 'just_right', 'just_right', 'just_right', 'just_right', 'just_right', 'just_right', 'just_right', 'just_right', 'too_intense', 'just_right'], 'generic/toast_notifications': ['not_intense', 'not_intense', 'not_intense', 'just_right', 'too_intense', 'just_right', 'just_right', 'too_intense', 'just_right', 'not_intense', 'just_right', 'just_right', 'not_intense', 'not_intense', 'just_right', 'too_intense', 'not_intense', 'just_right', 'just_right', 'not_intense', 'just_right', 'just_right', 'just_right', 'just_right', 'just_right', 'just_right', 'too_intense', 'just_right', 'not_intense', 'just_right', 'just_right', 'just_right', 'just_right', 'not_intense', 'just_right', 'just_right', 'not_intense', 'just_right', 'just_right', 'just_right', 'just_right', 'just_right', 'just_right', 'not_intense', 'just_right', 'not_intense', 'just_right', 'not_intense', 'just_right', 'just_right', 'just_right', 'just_right', 'just_right', 'just_right', 'just_right', 'just_right', 'just_right', 'just_right', 'just_right', 'just_right', 'not_intense', 'just_right', 'just_right', 'too_intense', 'just_right', 'just_right', 'just_right', 'just_right', 'just_right', 'too_intense', 'just_right', 'too_intense', 'not_intense', 'not_intense', 'too_intense', 'not_intense', 'just_right', 'just_right', 'too_intense', 'just_right', 'just_right', 'just_right', 'not_intense', 'not_intense', 'too_intense', 'not_intense', 'not_intense', 'just_right', 'just_right', 'not_intense', 'not_intense', 'too_intense', 'just_right', 'just_right', 'just_right', 'just_right', 'not_intense'], 'facebook/feed_injection_timer': ['just_right', 'just_right', 'just_right', 'just_right', 'not_intense', 'not_intense', 'not_intense', 'just_right', 'just_right', 'just_right', 'just_right', 'just_right', 'just_right', 'just_right', 'just_right', 'just_right', 'just_right', 'just_right', 'just_right', 'not_intense', 'not_intense', 'just_right', 'just_right', 'just_right', 'not_intense', 'too_intense', 'not_intense', 'just_right', 'just_right', 'just_right', 'just_right', 'just_right', 'just_right', 'not_intense', 'just_right', 'just_right', 'just_right', 'just_right', 'just_right'], 'facebook/remove_comments': ['just_right', 'just_right', 'too_intense', 'just_right', 'just_right', 'just_right', 'too_intense', 'just_right', 'just_right', 'not_intense', 'not_intense', 'just_right', 'not_intense', 'too_intense', 'just_right'], 'youtube/prompt_before_watch': ['just_right', 'just_right', 'just_right', 'just_right', 'just_right', 'too_intense', 'just_right', 'just_right', 'just_right', 'just_right', 'just_right', 'just_right', 'just_right', 'just_right', 'just_right', 'just_right', 'just_right', 'just_right', 'just_right', 'not_intense', 'not_intense', 'just_right', 'not_intense', 'just_right', 'not_intense', 'just_right', 'just_right', 'just_right', 'just_right', 'just_right', 'too_intense', 'just_right', 'just_right', 'just_right', 'not_intense', 'just_right', 'not_intense'], 'youtube/remove_sidebar_links': ['not_intense', 'just_right', 'not_intense', 'just_right', 'too_intense', 'too_intense', 'just_right', 'just_right', 'just_right', 'just_right', 'just_right', 'just_right', 'just_right', 'just_right', 'just_right', 'just_right', 'just_right', 'just_right', 'just_right', 'just_right', 'just_right', 'not_intense', 'just_right', 'too_intense', 'just_right', 'not_intense', 'just_right', 'just_right', 'just_right', 'not_intense', 'just_right', 'just_right', 'just_right', 'just_right', 'just_right', 'not_intense', 'just_right', 'just_right', 'not_intense', 'just_right', 'just_right', 'not_intense'], 'generic/show_user_info_interstitial': ['not_intense', 'not_intense', 'just_right', 'just_right', 'just_right', 'just_right', 'just_right', 'not_intense', 'just_right', 'just_right', 'just_right', 'just_right', 'not_intense', 'just_right', 'just_right', 'just_right', 'just_right', 'just_right', 'just_right', 'just_right', 'just_right', 'just_right', 'not_intense', 'just_right', 'too_intense', 'just_right', 'too_intense', 'just_right'], 'generic/close_tab_timer': ['too_intense', 'just_right', 'just_right', 'too_intense', 'too_intense', 'just_right', 'just_right', 'too_intense', 'too_intense', 'just_right', 'just_right', 'too_intense', 'not_intense', 'just_right', 'just_right', 'just_right', 'just_right', 'just_right', 'just_right', 'just_right', 'not_intense', 'just_right', 'just_right', 'just_right', 'just_right', 'just_right', 'too_intense', 'just_right', 'just_right'], 'facebook/remove_clickbait': ['too_intense', 'just_right', 'just_right', 'not_intense', 'just_right', 'just_right', 'too_intense', 'just_right', 'just_right', 'just_right', 'too_intense', 'not_intense', 'just_right', 'not_intense', 'not_intense', 'just_right', 'just_right', 'just_right', 'just_right', 'just_right', 'just_right', 'just_right', 'just_right', 'just_right', 'just_right', 'just_right', 'not_intense', 'not_intense', 'just_right', 'just_right', 'not_intense', 'not_intense', 'too_intense', 'not_intense', 'not_intense', 'just_right', 'just_right', 'too_intense', 'just_right'], 'facebook/rich_notifications': ['too_intense', 'just_right', 'too_intense', 'not_intense', 'just_right', 'just_right', 'too_intense', 'just_right', 'just_right', 'not_intense', 'just_right', 'not_intense', 'just_right', 'just_right', 'just_right', 'just_right', 'just_right', 'not_intense', 'just_right', 'just_right', 'not_intense', 'just_right', 'not_intense', 'not_intense', 'not_intense', 'just_right', 'not_intense', 'just_right', 'just_right', 'too_intense', 'not_intense', 'just_right', 'just_right', 'just_right', 'just_right', 'just_right', 'not_intense', 'not_intense', 'just_right', 'just_right', 'just_right', 'just_right', 'just_right', 'just_right'], 'youtube/remove_comment_section': ['just_right', 'too_intense', 'just_right', 'not_intense', 'too_intense', 'just_right', 'too_intense', 'just_right', 'just_right', 'just_right', 'just_right', 'not_intense', 'just_right', 'too_intense', 'just_right', 'just_right', 'just_right', 'just_right', 'just_right', 'not_intense', 'not_intense', 'just_right', 'just_right', 'not_intense', 'not_intense', 'not_intense', 'just_right', 'not_intense', 'too_intense', 'not_intense', 'just_right', 'not_intense', 'too_intense', 'too_intense', 'just_right', 'just_right', 'not_intense'], 'generic/block_after_interval_per_visit': ['too_intense', 'just_right', 'not_intense', 'just_right', 'too_intense', 'just_right', 'just_right', 'just_right', 'not_intense', 'not_intense', 'just_right', 'just_right', 'just_right', 'just_right', 'just_right', 'just_right', 'just_right', 'just_right', 'not_intense', 'just_right', 'just_right', 'too_intense', 'just_right', 'just_right', 'not_intense', 'just_right', 'not_intense', 'just_right', 'just_right', 'just_right', 'just_right', 'just_right'], 'facebook/remove_news_feed': ['just_right', 'too_intense', 'not_intense', 'just_right', 'too_intense', 'just_right', 'too_intense', 'not_intense', 'just_right', 'just_right', 'too_intense', 'too_intense', 'too_intense', 'just_right', 'just_right', 'not_intense', 'too_intense', 'just_right', 'just_right', 'just_right', 'just_right'], 'generic/prompt_reason': ['just_right', 'just_right', 'just_right', 'just_right', 'just_right', 'just_right', 'just_right', 'just_right', 'just_right', 'just_right', 'just_right', 'just_right', 'just_right', 'just_right', 'just_right', 'just_right', 'just_right', 'just_right', 'just_right', 'too_intense', 'just_right', 'not_intense', 'just_right', 'too_intense', 'too_intense', 'just_right', 'just_right', 'just_right', 'just_right', 'just_right', 'just_right', 'not_intense', 'just_right', 'just_right', 'just_right', 'just_right', 'just_right'], 'generic/make_user_wait': ['just_right', 'just_right', 'just_right', 'just_right', 'just_right', 'just_right', 'just_right', 'not_intense', 'just_right', 'just_right', 'too_intense', 'not_intense', 'just_right', 'just_right', 'just_right', 'just_right', 'just_right', 'not_intense', 'just_right', 'just_right', 'just_right', 'just_right', 'just_right', 'just_right', 'just_right', 'not_intense', 'just_right', 'just_right', 'just_right'], 'twitter/remove_twitter_feed': ['just_right', 'just_right', 'just_right', 'just_right'], 'generic/scroll_blocker': ['just_right', 'just_right', 'just_right', 'too_intense', 'just_right', 'too_intense', 'too_intense', 'just_right', 'too_intense', 'not_intense', 'just_right', 'not_intense', 'just_right', 'just_right', 'too_intense', 'just_right', 'just_right', 'just_right', 'too_intense', 'just_right', 'just_right', 'just_right', 'just_right', 'too_intense', 'just_right'], 'generic/show_user_info_banner': ['not_intense', 'just_right', 'just_right', 'just_right', 'just_right', 'just_right', 'just_right', 'not_intense', 'just_right', 'just_right', 'too_intense', 'not_intense', 'just_right', 'not_intense', 'just_right', 'just_right', 'just_right', 'just_right', 'just_right', 'just_right', 'not_intense', 'not_intense', 'just_right', 'just_right', 'just_right', 'just_right', 'not_intense', 'just_right'], 'youtube/remove_recommended': ['just_right', 'too_intense', 'just_right', 'too_intense', 'too_intense', 'just_right', 'just_right', 'just_right', 'not_intense', 'just_right', 'just_right', 'too_intense', 'too_intense', 'too_intense', 'too_intense', 'just_right', 'just_right', 'just_right', 'not_intense', 'just_right', 'just_right', 'just_right', 'just_right', 'just_right', 'not_intense', 'not_intense'], 'netflix/stop_autoplay': ['just_right'], 'video/prompt_before_watch': ['just_right'], 'netflix/infinite_alarm': ['just_right'], 'netflix/link_articles': ['just_right']}\n"
     ]
    }
   ],
   "source": [
    "print (data)"
   ]
  },
  {
   "cell_type": "code",
   "execution_count": 39,
   "metadata": {},
   "outputs": [
    {
     "name": "stdout",
     "output_type": "stream",
     "text": [
      "{'show_timer_banner': [2, 2, 2, 2, 2, 2, 2, 2, 2, 2, 1, 1, 2, 2, 1, 2, 2, 2, 2, 2, 1, 3, 1, 2, 2, 2, 3, 2, 3, 2, 2, 2, 3, 2, 2, 1, 2, 2, 2, 2, 2, 2, 2, 1, 2, 1, 3, 2, 2, 1, 2, 1, 2, 2, 2, 1, 2, 3, 2, 2, 1, 2, 2, 2, 2, 1, 2, 2, 2, 1, 2, 1, 1, 2, 2, 3, 2, 2, 2, 1, 1, 3, 2, 1, 2, 2, 2, 1, 1, 2, 2, 2, 2, 2, 1, 2, 1, 2, 2, 2, 2, 2, 2, 2, 2, 3, 2], 'toast_notifications': [1, 1, 1, 2, 3, 2, 2, 3, 2, 1, 2, 2, 1, 1, 2, 3, 1, 2, 2, 1, 2, 2, 2, 2, 2, 2, 3, 2, 1, 2, 2, 2, 2, 1, 2, 2, 1, 2, 2, 2, 2, 2, 2, 1, 2, 1, 2, 1, 2, 2, 2, 2, 2, 2, 2, 2, 2, 2, 2, 2, 1, 2, 2, 3, 2, 2, 2, 2, 2, 3, 2, 3, 1, 1, 3, 1, 2, 2, 3, 2, 2, 2, 1, 1, 3, 1, 1, 2, 2, 1, 1, 3, 2, 2, 2, 2, 1], 'feed_injection_timer': [2, 2, 2, 2, 1, 1, 1, 2, 2, 2, 2, 2, 2, 2, 2, 2, 2, 2, 2, 1, 1, 2, 2, 2, 1, 3, 1, 2, 2, 2, 2, 2, 2, 1, 2, 2, 2, 2, 2], 'remove_comments': [2, 2, 3, 2, 2, 2, 3, 2, 2, 1, 1, 2, 1, 3, 2], 'prompt_before_watch': [2, 2, 2, 2, 2, 3, 2, 2, 2, 2, 2, 2, 2, 2, 2, 2, 2, 2, 2, 1, 1, 2, 1, 2, 1, 2, 2, 2, 2, 2, 3, 2, 2, 2, 1, 2, 1, 2], 'remove_sidebar_links': [1, 2, 1, 2, 3, 3, 2, 2, 2, 2, 2, 2, 2, 2, 2, 2, 2, 2, 2, 2, 2, 1, 2, 3, 2, 1, 2, 2, 2, 1, 2, 2, 2, 2, 2, 1, 2, 2, 1, 2, 2, 1], 'show_user_info_interstitial': [1, 1, 2, 2, 2, 2, 2, 1, 2, 2, 2, 2, 1, 2, 2, 2, 2, 2, 2, 2, 2, 2, 1, 2, 3, 2, 3, 2], 'close_tab_timer': [3, 2, 2, 3, 3, 2, 2, 3, 3, 2, 2, 3, 1, 2, 2, 2, 2, 2, 2, 2, 1, 2, 2, 2, 2, 2, 3, 2, 2], 'remove_clickbait': [3, 2, 2, 1, 2, 2, 3, 2, 2, 2, 3, 1, 2, 1, 1, 2, 2, 2, 2, 2, 2, 2, 2, 2, 2, 2, 1, 1, 2, 2, 1, 1, 3, 1, 1, 2, 2, 3, 2], 'rich_notifications': [3, 2, 3, 1, 2, 2, 3, 2, 2, 1, 2, 1, 2, 2, 2, 2, 2, 1, 2, 2, 1, 2, 1, 1, 1, 2, 1, 2, 2, 3, 1, 2, 2, 2, 2, 2, 1, 1, 2, 2, 2, 2, 2, 2], 'remove_comment_section': [2, 3, 2, 1, 3, 2, 3, 2, 2, 2, 2, 1, 2, 3, 2, 2, 2, 2, 2, 1, 1, 2, 2, 1, 1, 1, 2, 1, 3, 1, 2, 1, 3, 3, 2, 2, 1], 'block_after_interval_per_visit': [3, 2, 1, 2, 3, 2, 2, 2, 1, 1, 2, 2, 2, 2, 2, 2, 2, 2, 1, 2, 2, 3, 2, 2, 1, 2, 1, 2, 2, 2, 2, 2], 'remove_news_feed': [2, 3, 1, 2, 3, 2, 3, 1, 2, 2, 3, 3, 3, 2, 2, 1, 3, 2, 2, 2, 2], 'prompt_reason': [2, 2, 2, 2, 2, 2, 2, 2, 2, 2, 2, 2, 2, 2, 2, 2, 2, 2, 2, 3, 2, 1, 2, 3, 3, 2, 2, 2, 2, 2, 2, 1, 2, 2, 2, 2, 2], 'make_user_wait': [2, 2, 2, 2, 2, 2, 2, 1, 2, 2, 3, 1, 2, 2, 2, 2, 2, 1, 2, 2, 2, 2, 2, 2, 2, 1, 2, 2, 2], 'remove_twitter_feed': [2, 2, 2, 2], 'scroll_blocker': [2, 2, 2, 3, 2, 3, 3, 2, 3, 1, 2, 1, 2, 2, 3, 2, 2, 2, 3, 2, 2, 2, 2, 3, 2], 'show_user_info_banner': [1, 2, 2, 2, 2, 2, 2, 1, 2, 2, 3, 1, 2, 1, 2, 2, 2, 2, 2, 2, 1, 1, 2, 2, 2, 2, 1, 2], 'remove_recommended': [2, 3, 2, 3, 3, 2, 2, 2, 1, 2, 2, 3, 3, 3, 3, 2, 2, 2, 1, 2, 2, 2, 2, 2, 1, 1], 'stop_autoplay': [2], 'infinite_alarm': [2], 'link_articles': [2]}\n"
     ]
    }
   ],
   "source": [
    "res = {}\n",
    "for i in data.keys():\n",
    "    s = i\n",
    "    ind = s.find('/')\n",
    "    if ind == -1:\n",
    "        continue\n",
    "    s = s[ind + 1: ]\n",
    "    if s not in res.keys():\n",
    "        res[s] = []\n",
    "    for j in data[i]:\n",
    "        if j == 'just_right':\n",
    "            res[s].append(2)\n",
    "        if j == 'not_intense':\n",
    "            res[s].append(1)\n",
    "        if j == 'too_intense':\n",
    "            res[s].append(3)\n",
    "\n",
    "print (res)"
   ]
  },
  {
   "cell_type": "code",
   "execution_count": 40,
   "metadata": {},
   "outputs": [
    {
     "name": "stdout",
     "output_type": "stream",
     "text": [
      "{'show_timer_banner': 1.8691588785046729, 'toast_notifications': 1.8556701030927836, 'feed_injection_timer': 1.8205128205128205, 'remove_comments': 2.0, 'prompt_before_watch': 1.894736842105263, 'remove_sidebar_links': 1.880952380952381, 'show_user_info_interstitial': 1.8928571428571428, 'close_tab_timer': 2.1724137931034484, 'remove_clickbait': 1.8717948717948718, 'rich_notifications': 1.8181818181818181, 'remove_comment_section': 1.8918918918918919, 'block_after_interval_per_visit': 1.90625, 'remove_news_feed': 2.1904761904761907, 'prompt_reason': 2.027027027027027, 'make_user_wait': 1.896551724137931, 'remove_twitter_feed': 2.0, 'scroll_blocker': 2.2, 'show_user_info_banner': 1.7857142857142858, 'remove_recommended': 2.1153846153846154, 'stop_autoplay': 2.0, 'infinite_alarm': 2.0, 'link_articles': 2.0}\n"
     ]
    }
   ],
   "source": [
    "for k in res.keys():\n",
    "    res[k] = np.sum(res[k]) / len(res[k])\n",
    "print (res)"
   ]
  },
  {
   "cell_type": "code",
   "execution_count": 41,
   "metadata": {},
   "outputs": [
    {
     "name": "stdout",
     "output_type": "stream",
     "text": [
      "{'show_timer_banner': 'medium', 'toast_notifications': 'medium', 'feed_injection_timer': 'medium', 'remove_comments': 'medium', 'prompt_before_watch': 'medium', 'remove_sidebar_links': 'medium', 'show_user_info_interstitial': 'medium', 'close_tab_timer': 'medium', 'remove_clickbait': 'medium', 'rich_notifications': 'medium', 'remove_comment_section': 'medium', 'block_after_interval_per_visit': 'medium', 'remove_news_feed': 'medium', 'prompt_reason': 'medium', 'make_user_wait': 'medium', 'remove_twitter_feed': 'medium', 'scroll_blocker': 'medium', 'show_user_info_banner': 'medium', 'remove_recommended': 'medium', 'stop_autoplay': 'medium', 'infinite_alarm': 'medium', 'link_articles': 'medium'}\n"
     ]
    }
   ],
   "source": [
    "tmp = {}\n",
    "for x in res.keys():\n",
    "    tmp[x] = res[x]\n",
    "for k in res.keys():\n",
    "    if abs(float(res[k]) - 2) < 0.5:\n",
    "        res[k] = 'medium'\n",
    "    elif res[k] < 2:\n",
    "        res[k] = 'easy'\n",
    "    else:\n",
    "        res[k] = 'hard'\n",
    "        \n",
    "print (res)"
   ]
  },
  {
   "cell_type": "code",
   "execution_count": 42,
   "metadata": {},
   "outputs": [
    {
     "name": "stdout",
     "output_type": "stream",
     "text": [
      "{'show_timer_banner': 1.8691588785046729, 'toast_notifications': 1.8556701030927836, 'feed_injection_timer': 1.8205128205128205, 'remove_comments': 2.0, 'prompt_before_watch': 1.894736842105263, 'remove_sidebar_links': 1.880952380952381, 'show_user_info_interstitial': 1.8928571428571428, 'close_tab_timer': 2.1724137931034484, 'remove_clickbait': 1.8717948717948718, 'rich_notifications': 1.8181818181818181, 'remove_comment_section': 1.8918918918918919, 'block_after_interval_per_visit': 1.90625, 'remove_news_feed': 2.1904761904761907, 'prompt_reason': 2.027027027027027, 'make_user_wait': 1.896551724137931, 'remove_twitter_feed': 2.0, 'scroll_blocker': 2.2, 'show_user_info_banner': 1.7857142857142858, 'remove_recommended': 2.1153846153846154, 'stop_autoplay': 2.0, 'infinite_alarm': 2.0, 'link_articles': 2.0}\n"
     ]
    }
   ],
   "source": [
    "print (tmp)"
   ]
  },
  {
   "cell_type": "code",
   "execution_count": 43,
   "metadata": {},
   "outputs": [
    {
     "name": "stdout",
     "output_type": "stream",
     "text": [
      "['show_timer_banner', 'toast_notifications', 'feed_injection_timer', 'remove_comments', 'prompt_before_watch', 'remove_sidebar_links', 'show_user_info_interstitial', 'close_tab_timer', 'remove_clickbait', 'rich_notifications', 'remove_comment_section', 'block_after_interval_per_visit', 'remove_news_feed', 'prompt_reason', 'make_user_wait', 'remove_twitter_feed', 'scroll_blocker', 'show_user_info_banner', 'remove_recommended', 'stop_autoplay', 'infinite_alarm', 'link_articles']\n"
     ]
    }
   ],
   "source": [
    "interventions = []\n",
    "for x in res.keys():\n",
    "    interventions.append(x)\n",
    "print (interventions)"
   ]
  },
  {
   "cell_type": "code",
   "execution_count": 45,
   "metadata": {},
   "outputs": [],
   "source": [
    "interventions = sorted(interventions, key=lambda x: tmp[x])"
   ]
  },
  {
   "cell_type": "code",
   "execution_count": 47,
   "metadata": {},
   "outputs": [
    {
     "name": "stdout",
     "output_type": "stream",
     "text": [
      "['show_user_info_banner', 'rich_notifications', 'feed_injection_timer', 'toast_notifications', 'show_timer_banner', 'remove_clickbait', 'remove_sidebar_links', 'remove_comment_section', 'show_user_info_interstitial', 'prompt_before_watch', 'make_user_wait', 'block_after_interval_per_visit', 'remove_comments', 'remove_twitter_feed', 'stop_autoplay', 'infinite_alarm', 'link_articles', 'prompt_reason', 'remove_recommended', 'close_tab_timer', 'remove_news_feed', 'scroll_blocker']\n"
     ]
    }
   ],
   "source": [
    "print (interventions)"
   ]
  },
  {
   "cell_type": "code",
   "execution_count": null,
   "metadata": {},
   "outputs": [],
   "source": []
  }
 ],
 "metadata": {
  "kernelspec": {
   "display_name": "Python 3",
   "language": "python",
   "name": "python3"
  },
  "language_info": {
   "codemirror_mode": {
    "name": "ipython",
    "version": 3
   },
   "file_extension": ".py",
   "mimetype": "text/x-python",
   "name": "python",
   "nbconvert_exporter": "python",
   "pygments_lexer": "ipython3",
   "version": "3.6.5"
  }
 },
 "nbformat": 4,
 "nbformat_minor": 2
}
