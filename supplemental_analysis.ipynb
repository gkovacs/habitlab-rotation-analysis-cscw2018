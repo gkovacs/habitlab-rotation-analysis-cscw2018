{
 "cells": [
  {
   "cell_type": "code",
   "execution_count": 31,
   "metadata": {},
   "outputs": [],
   "source": [
    "import json\n",
    "import moment\n",
    "\n",
    "datafile = 'data_april3_1am.json'\n",
    "#datafile = 'data_july10.json'\n",
    "datafile_base = datafile.replace('.json', '')\n",
    "alldata = json.load(open(datafile))"
   ]
  },
  {
   "cell_type": "code",
   "execution_count": 47,
   "metadata": {},
   "outputs": [
    {
     "name": "stdout",
     "output_type": "stream",
     "text": [
      "{'attrition_num_days_switch': 29, 'total_num_days_switch': 91, 'ratio_num_days_switch': 0.31868131868131866, 'ratio_num_days_switchtosame': 0.18181818181818182, 'ratio_num_days_switchtorandom': 0.36231884057971014, 'attrition_num_days_nonswitch': 90, 'total_num_days_nonswitch': 510, 'ratio_num_days_nonswitch': 0.17647058823529413, 'total_num_days_switchtosame': 22, 'attrition_num_days_switchtosame': 4, 'total_num_days_switchtorandom': 69, 'attrition_num_days_switchtorandom': 25, 'total_num_days_random': 311, 'total_num_days_same': 199, 'attritioned_num_days_random': 62, 'attritioned_num_days_same': 28, 'ratio_num_days_random': 0.19935691318327975, 'ratio_num_days_same': 0.1407035175879397}\n"
     ]
    }
   ],
   "source": [
    "def get_firstlast_info(experiment_info_with_sessions):\n",
    "  first_timestamp = None\n",
    "  last_timestamp = None\n",
    "  first_localepoch = None\n",
    "  last_localepoch = None\n",
    "  for experiment_info in experiment_info_with_sessions:\n",
    "    for condition_info in experiment_info['condition_info_list']:\n",
    "      for day_info in condition_info['day_info_list']:\n",
    "        for session_info in day_info['session_info_list']:\n",
    "          timestamp = session_info['timestamp']\n",
    "          localepoch = session_info['localepoch']\n",
    "          if first_localepoch == None:\n",
    "            first_localepoch = localepoch\n",
    "          else:\n",
    "            first_localepoch = min(first_localepoch, localepoch)\n",
    "          if last_localepoch == None:\n",
    "            last_localepoch = localepoch\n",
    "          else:\n",
    "            last_localepoch = max(last_localepoch, localepoch)\n",
    "          if first_timestamp == None:\n",
    "            first_timestamp = timestamp\n",
    "          else:\n",
    "            first_timestamp = min(first_timestamp, timestamp)\n",
    "          if last_timestamp == None:\n",
    "            last_timestamp = timestamp\n",
    "          else:\n",
    "            last_timestamp = max(last_timestamp, timestamp)\n",
    "  return {\n",
    "    'first_timestamp': first_timestamp,\n",
    "    'last_timestamp': last_timestamp,\n",
    "    'first_localepoch': first_localepoch,\n",
    "    'last_localepoch': last_localepoch,\n",
    "  }\n",
    "\n",
    "def get_global_max_timestamp(alldata):\n",
    "  max_timestamp = None\n",
    "  for install_id,experiment_info_with_sessions in alldata.items():\n",
    "    for experiment_info in experiment_info_with_sessions:\n",
    "      for condition_info in experiment_info['condition_info_list']:\n",
    "        for day_info in condition_info['day_info_list']:\n",
    "          for session_info in sorted(day_info['session_info_list'], key=lambda k: k['timestamp']):\n",
    "            timestamp = session_info['timestamp']\n",
    "            if max_timestamp == None:\n",
    "              max_timestamp = timestamp\n",
    "            max_timestamp = max(max_timestamp, timestamp)\n",
    "  return max_timestamp\n",
    "\n",
    "def misc_analysis(alldata):\n",
    "  max_timestamp = get_global_max_timestamp(alldata)\n",
    "  attrition_num_days_same = 0\n",
    "  total_num_days_same = 0\n",
    "  attrition_num_days_random = 0\n",
    "  total_num_days_random = 0\n",
    "  attrition_num_days_switch = 0\n",
    "  total_num_days_switch = 0\n",
    "  attrition_num_days_nonswitch = 0\n",
    "  total_num_days_nonswitch = 0\n",
    "  attrition_num_days_switchtosame = 0\n",
    "  total_num_days_switchtosame = 0\n",
    "  attrition_num_days_switchtorandom = 0\n",
    "  total_num_days_switchtorandom = 0\n",
    "  for install_id,experiment_info_with_sessions in alldata.items():\n",
    "    attrition_num_days_switch_user = 0\n",
    "    total_num_days_switch_user = 0\n",
    "    attrition_num_days_nonswitch_user = 0\n",
    "    total_num_days_nonswitch_user = 0\n",
    "    \n",
    "    firstlast_info = get_firstlast_info(experiment_info_with_sessions)\n",
    "    first_timestamp = firstlast_info['first_timestamp']\n",
    "    last_timestamp = firstlast_info['last_timestamp']\n",
    "    first_localepoch = firstlast_info['first_localepoch']\n",
    "    last_localepoch = firstlast_info['last_localepoch']\n",
    "    \n",
    "    is_switch_day = False\n",
    "    prev_day_condition = None\n",
    "    for experiment_info in experiment_info_with_sessions:\n",
    "      if len(experiment_info['condition_info_list']) != 2:\n",
    "        print('wrong length')\n",
    "      for idx,condition_info in enumerate(experiment_info['condition_info_list']):\n",
    "        conditionduration = condition_info['conditionduration']\n",
    "        if not (conditionduration > 1):\n",
    "          continue\n",
    "        for day_info in condition_info['day_info_list']:\n",
    "          last_timestamp_on_day = None\n",
    "          cur_day_condition = condition_info['condition']\n",
    "          if prev_day_condition == None:\n",
    "            is_switch_day = False\n",
    "          elif prev_day_condition != cur_day_condition:\n",
    "            is_switch_day = True\n",
    "          else:\n",
    "            is_switch_day = False\n",
    "          prev_day_condition = cur_day_condition\n",
    "          for session_info in sorted(day_info['session_info_list'], key=lambda k: k['timestamp']):\n",
    "            time_spent = session_info['time_spent']\n",
    "            timestamp = session_info['timestamp']\n",
    "            if last_timestamp_on_day == None:\n",
    "              last_timestamp_on_day = timestamp\n",
    "            last_timestamp_on_day = max(last_timestamp_on_day, timestamp)\n",
    "          is_last_day = int(last_timestamp_on_day == last_timestamp)\n",
    "          attritioned_today = 0\n",
    "          if len(day_info['session_info_list']) > 0 and is_last_day:\n",
    "            if (moment.unix(max_timestamp) - moment.unix(last_timestamp)).days > 2:\n",
    "              attritioned_today = 1\n",
    "          if len(day_info['session_info_list']) > 0:\n",
    "            if not is_switch_day:\n",
    "              if cur_day_condition == 'random':\n",
    "                total_num_days_random += 1\n",
    "                if attritioned_today == 1:\n",
    "                  attrition_num_days_random += 1\n",
    "              else:\n",
    "                total_num_days_same += 1\n",
    "                if attritioned_today == 1:\n",
    "                  attrition_num_days_same += 1\n",
    "            if is_switch_day:\n",
    "              total_num_days_switch += 1\n",
    "              if attritioned_today == 1:\n",
    "                attrition_num_days_switch += 1\n",
    "              if cur_day_condition == 'same':\n",
    "                total_num_days_switchtosame += 1\n",
    "                if attritioned_today == 1:\n",
    "                  attrition_num_days_switchtosame += 1\n",
    "              else:\n",
    "                total_num_days_switchtorandom += 1\n",
    "                if attritioned_today == 1:\n",
    "                  attrition_num_days_switchtorandom += 1\n",
    "            else:\n",
    "              total_num_days_nonswitch += 1\n",
    "              if attritioned_today == 1:\n",
    "                attrition_num_days_nonswitch += 1\n",
    "          #if domain not in domain_to_last_timestamp:\n",
    "          #  domain_to_last_timestamp[domain] = timestamp\n",
    "          #else:\n",
    "          #  domain_to_last_timestamp[domain] = max(timestamp, domain_to_last_timestamp[domain])\n",
    "    #if total_num_days_nonswitch_user > 0 and total_num_days_switch_user > 0:\n",
    "    #if True:\n",
    "    #  attrition_num_days_switch += attrition_num_days_switch_user\n",
    "    #  total_num_days_switch += total_num_days_switch_user\n",
    "    #  attrition_num_days_nonswitch += attrition_num_days_nonswitch_user\n",
    "    #  total_num_days_nonswitch += total_num_days_nonswitch_user\n",
    "  return {\n",
    "    'attrition_num_days_switch': attrition_num_days_switch,\n",
    "    'total_num_days_switch': total_num_days_switch,\n",
    "    'ratio_num_days_switch': attrition_num_days_switch / total_num_days_switch,\n",
    "    'ratio_num_days_switchtosame': attrition_num_days_switchtosame / total_num_days_switchtosame,\n",
    "    'ratio_num_days_switchtorandom': attrition_num_days_switchtorandom / total_num_days_switchtorandom,\n",
    "    'attrition_num_days_nonswitch': attrition_num_days_nonswitch,\n",
    "    'total_num_days_nonswitch': total_num_days_nonswitch,\n",
    "    'ratio_num_days_nonswitch': attrition_num_days_nonswitch / total_num_days_nonswitch,\n",
    "    'total_num_days_switchtosame': total_num_days_switchtosame,\n",
    "    'attrition_num_days_switchtosame': attrition_num_days_switchtosame,\n",
    "    'total_num_days_switchtorandom': total_num_days_switchtorandom,\n",
    "    'attrition_num_days_switchtorandom': attrition_num_days_switchtorandom,\n",
    "    'total_num_days_random': total_num_days_random,\n",
    "    'total_num_days_same': total_num_days_same,\n",
    "    'attritioned_num_days_random': attrition_num_days_random,\n",
    "    'attritioned_num_days_same': attrition_num_days_same,\n",
    "    'ratio_num_days_random': attrition_num_days_random / total_num_days_random,\n",
    "    'ratio_num_days_same': attrition_num_days_same / total_num_days_same,\n",
    "  }\n",
    "\n",
    "results = misc_analysis(alldata)\n",
    "print(results)"
   ]
  },
  {
   "cell_type": "code",
   "execution_count": 39,
   "metadata": {},
   "outputs": [
    {
     "name": "stdout",
     "output_type": "stream",
     "text": [
      "(2.182795698924731, 0.002640985864413865)\n"
     ]
    }
   ],
   "source": [
    "import scipy.stats as stats\n",
    "print(stats.fisher_exact([[29, 91 - 29], [90, 510 - 90]]))"
   ]
  },
  {
   "cell_type": "code",
   "execution_count": 40,
   "metadata": {},
   "outputs": [
    {
     "name": "stdout",
     "output_type": "stream",
     "text": [
      "(0.39111111111111113, 0.18776704317133214)\n"
     ]
    }
   ],
   "source": [
    "print(stats.fisher_exact([[4, 22 - 4], [25, 69 - 25]]))"
   ]
  },
  {
   "cell_type": "code",
   "execution_count": 43,
   "metadata": {},
   "outputs": [
    {
     "name": "stdout",
     "output_type": "stream",
     "text": [
      "(2.6515151515151514, 0.0006364449939394982)\n"
     ]
    }
   ],
   "source": [
    "print(stats.fisher_exact([[25, 69 - 25], [90, 510 - 90]]))"
   ]
  },
  {
   "cell_type": "code",
   "execution_count": null,
   "metadata": {},
   "outputs": [],
   "source": []
  }
 ],
 "metadata": {
  "kernelspec": {
   "display_name": "Python 3",
   "language": "python",
   "name": "python3"
  },
  "language_info": {
   "codemirror_mode": {
    "name": "ipython",
    "version": 3
   },
   "file_extension": ".py",
   "mimetype": "text/x-python",
   "name": "python",
   "nbconvert_exporter": "python",
   "pygments_lexer": "ipython3",
   "version": "3.6.4"
  }
 },
 "nbformat": 4,
 "nbformat_minor": 2
}
