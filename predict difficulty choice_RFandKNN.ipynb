{
 "cells": [
  {
   "cell_type": "code",
   "execution_count": 1,
   "metadata": {},
   "outputs": [],
   "source": [
    "import csv\n",
    "import lzstring\n",
    "from collections import namedtuple, Counter\n",
    "import json\n",
    "from memoize import memoize\n",
    "import numpy as np\n",
    "from sklearn.ensemble import RandomForestClassifier\n",
    "from sklearn.neighbors import KNeighborsClassifier\n",
    "import sys\n",
    "import json"
   ]
  },
  {
   "cell_type": "code",
   "execution_count": 2,
   "metadata": {},
   "outputs": [],
   "source": [
    "csv.field_size_limit(sys.maxsize)\n",
    "\n",
    "# [num unique urls, num unique urls typed, total visits, total typed, first visit time, last visit time]\n",
    "domaininfo = namedtuple('domaininfo', ['num_unique_urls', 'num_unique_urls_typed', 'total_visits', 'total_typed', 'first_visit_time', 'last_visit_time'])\n",
    "\n",
    "decompressFromEncodedURIComponent = lzstring.LZString().decompressFromEncodedURIComponent\n",
    "\n",
    "#filepath = 'difficultyselectionexp_may31_11am.csv'\n",
    "filepath = 'data/difficultyselectionexp_june25_9pm.csv'\n",
    "reader = csv.DictReader(open(filepath))\n",
    "\n",
    "def extract_domain_visit_info(domain_visit_info_compressed):\n",
    "  domain_visit_info = json.loads(decompressFromEncodedURIComponent(domain_visit_info_compressed))\n",
    "  output = {}\n",
    "  for k,v in domain_visit_info.items():\n",
    "    linedata = domaininfo(*v)\n",
    "    output[k] = linedata\n",
    "  return output\n",
    "\n",
    "alldata = []\n",
    "\n",
    "for alldata_item in reader:\n",
    "  if alldata_item['selected_difficulty'] not in ['nothing', 'easy', 'medium', 'hard']:\n",
    "    continue\n",
    "  if alldata_item['domain_visit_info_compressed'] == None or len(alldata_item['domain_visit_info_compressed']) == 0:\n",
    "    continue\n",
    "  alldata_item['domain_visit_info'] = extract_domain_visit_info(alldata_item['domain_visit_info_compressed'])\n",
    "  alldata.append(alldata_item)\n"
   ]
  },
  {
   "cell_type": "code",
   "execution_count": 3,
   "metadata": {},
   "outputs": [
    {
     "name": "stdout",
     "output_type": "stream",
     "text": [
      "346\n",
      "86\n"
     ]
    }
   ],
   "source": [
    "#np.random.shuffle(alldata)\n",
    "training_data = alldata[:round(len(alldata)*0.8)]\n",
    "test_data = alldata[round(len(alldata)*0.8):]\n",
    "print(len(training_data))\n",
    "print(len(test_data))"
   ]
  },
  {
   "cell_type": "code",
   "execution_count": 4,
   "metadata": {},
   "outputs": [],
   "source": [
    "def extract_labels_alldata(data):\n",
    "  return np.array([line['selected_difficulty'] for line in data])\n",
    "\n",
    "@memoize\n",
    "def get_most_common_label():\n",
    "  label_to_count = Counter()\n",
    "  for line in training_data:\n",
    "    label = line['selected_difficulty']\n",
    "    label_to_count[label] += 1\n",
    "  sorted_by_count = sorted(label_to_count.items(), key=lambda x: x[1], reverse=True)\n",
    "  return sorted_by_count[0][0]\n",
    "\n",
    "@memoize\n",
    "def get_most_visited_domains():\n",
    "  domain_to_num_visits = Counter()\n",
    "  for line in training_data:\n",
    "    domain_visit_info = line['domain_visit_info']\n",
    "    for domain,info in domain_visit_info.items():\n",
    "      domain_to_num_visits[domain] += info.total_visits\n",
    "  sorted_by_num_visits = sorted(domain_to_num_visits.items(), key=lambda x: x[1], reverse=True)\n",
    "  return [x[0] for x in sorted_by_num_visits[:100]]\n",
    "\n",
    "cnt = 0\n",
    "@memoize\n",
    "def get_most_common_domains():\n",
    "  domain_to_num_visits = Counter()\n",
    "  for line in training_data:\n",
    "    domain_visit_info = line['domain_visit_info']\n",
    "    for domain,info in domain_visit_info.items():\n",
    "      domain_to_num_visits[domain] += 1\n",
    "  sorted_by_num_visits = sorted(domain_to_num_visits.items(), key=lambda x: x[1], reverse=True)\n",
    "  return [x[0] for x in sorted_by_num_visits[:100]]\n",
    "\n",
    "def get_all_domains():\n",
    "  domain_to_num_visits = Counter()\n",
    "  for line in training_data:\n",
    "    domain_visit_info = line['domain_visit_info']\n",
    "    for domain,info in domain_visit_info.items():\n",
    "      domain_to_num_visits[domain] += 1\n",
    "  sorted_by_num_visits = sorted(domain_to_num_visits.items(), key=lambda x: x[1], reverse=True)\n",
    "  return [x[0] for x in sorted_by_num_visits]\n",
    "\n",
    "\n",
    "\n",
    "def get_num_visits_for_domain(domain_visit_info, domain):\n",
    "  info = domain_visit_info.get(domain, None)\n",
    "  if info != None:\n",
    "    return info.total_visits\n",
    "  return 0\n",
    "\n",
    "def get_productivity():\n",
    "    with open ('domain_to_productivity.json') as json_file:\n",
    "        data = json.load(json_file)\n",
    "        return data\n",
    "\n",
    "domain_to_productivity = get_productivity()\n",
    "\n",
    "def extract_features_for_user(domain_visit_info):\n",
    "  cnt = 0\n",
    "  domains = get_all_domains()\n",
    "  final_features = [0, 0, 0, 0, 0];\n",
    "  for x in domains:\n",
    "        if x in domain_to_productivity.keys():\n",
    "            final_features[domain_to_productivity[x] + 2] += get_num_visits_for_domain(domain_visit_info, x)\n",
    "    \n",
    "  #np.array([get_num_visits_for_domain(domain_visit_info, x) for x in domains])\n",
    "  if np.sum(final_features) >= 1:\n",
    "    final_features = np.divide(final_features, np.sum(final_features))\n",
    "  return final_features\n",
    "\n",
    "def extract_features_alldata(data):\n",
    "  output = []\n",
    "  for line in data:\n",
    "    domain_visit_info = line['domain_visit_info']\n",
    "    features = extract_features_for_user(domain_visit_info)\n",
    "    output.append(features)\n",
    "  return np.array(output)\n"
   ]
  },
  {
   "cell_type": "code",
   "execution_count": 5,
   "metadata": {},
   "outputs": [
    {
     "name": "stdout",
     "output_type": "stream",
     "text": [
      "baseline classifier accuracy: 0.4186046511627907\n"
     ]
    }
   ],
   "source": [
    "def get_percent_correct(predicted_labels, actual_labels):\n",
    "  if len(predicted_labels) != len(actual_labels):\n",
    "    raise 'need predicted and actual labels to have same lengths'\n",
    "  total = len(actual_labels)\n",
    "  correct = 0\n",
    "  for p,a in zip(predicted_labels, actual_labels):\n",
    "    if p == a:\n",
    "      correct += 1\n",
    "  return correct / total\n",
    "\n",
    "def test_baseline_classifier():\n",
    "  most_common_label = get_most_common_label()\n",
    "  predictions = [most_common_label for line in test_data]\n",
    "  actual = extract_labels_alldata(test_data)\n",
    "  percent_correct = get_percent_correct(predictions, actual)\n",
    "  print('baseline classifier accuracy:', percent_correct)\n",
    "\n",
    "def test_classifier(clf,features_test, actual, str=None):\n",
    "  #actual = extract_labels_alldata(test_data)\n",
    "  #features_test = extract_features_alldata(test_data)\n",
    "  predictions = clf.predict(features_test)\n",
    "  percent_correct = get_percent_correct(predictions, actual)\n",
    "  return percent_correct\n",
    "\n",
    "def training_error_classifier(clf, str=None):\n",
    "  actual = extract_labels_alldata(training_data)\n",
    "  features_train = extract_features_alldata(training_data)\n",
    "  predictions = clf.predict(features_train)\n",
    "  percent_correct = get_percent_correct(predictions, actual)\n",
    "  print(str + ' classifier training accuracy:', round(percent_correct, 2))\n",
    "\n",
    "def to_int_categorical(dt):\n",
    "  # {'easy', 'hard', 'medium', 'nothing'}\n",
    "  cat_dt = []\n",
    "  for item in dt:\n",
    "    if item == 'nothing':\n",
    "      cat_dt.append(0)\n",
    "    elif item == 'easy':\n",
    "      cat_dt.append(1)\n",
    "    elif item == 'medium':\n",
    "      cat_dt.append(2)\n",
    "    else:\n",
    "      cat_dt.append(3)\n",
    "  return np.array(cat_dt)\n",
    "    \n",
    "test_baseline_classifier()"
   ]
  },
  {
   "cell_type": "code",
   "execution_count": 21,
   "metadata": {
    "scrolled": true
   },
   "outputs": [],
   "source": [
    "labels_train = extract_labels_alldata(training_data)\n",
    "features_train = extract_features_alldata(training_data)\n",
    "labels_test = extract_labels_alldata(test_data)\n",
    "features_test = extract_features_alldata(test_data)"
   ]
  },
  {
   "cell_type": "code",
   "execution_count": 52,
   "metadata": {},
   "outputs": [],
   "source": [
    "def classifiers():\n",
    "    clf = RandomForestClassifier(max_depth=10, random_state=0)\n",
    "    clf.fit(features_train, labels_train)\n",
    "    RF = test_classifier(clf, features_test, labels_test, 'RF')\n",
    "\n",
    "    clf = KNeighborsClassifier(n_neighbors=3, p=1)\n",
    "    clf.fit(features_train, labels_train)\n",
    "    KNN = test_classifier(clf, features_test, labels_test, 'KNN')\n",
    "    return [RF, KNN]"
   ]
  },
  {
   "cell_type": "code",
   "execution_count": 53,
   "metadata": {},
   "outputs": [
    {
     "name": "stdout",
     "output_type": "stream",
     "text": [
      "[0.3488372093023256, 0.43023255813953487]\n"
     ]
    }
   ],
   "source": [
    "print (classifiers())"
   ]
  },
  {
   "cell_type": "code",
   "execution_count": 54,
   "metadata": {},
   "outputs": [
    {
     "name": "stdout",
     "output_type": "stream",
     "text": [
      "86\n"
     ]
    }
   ],
   "source": [
    "labels_train2 = labels_train\n",
    "features_train2 = features_train\n",
    "labels_test2 = labels_test\n",
    "features_test2 = features_test\n",
    "\n",
    "print (len(features_test2))"
   ]
  },
  {
   "cell_type": "code",
   "execution_count": 55,
   "metadata": {},
   "outputs": [
    {
     "name": "stdout",
     "output_type": "stream",
     "text": [
      "[0.3333333333333333, 0.3333333333333333, 0.3333333333333333, 0.3333333333333333, 0.3333333333333333, 0.6666666666666666, 0.3333333333333333, 0.3333333333333333, 0.3333333333333333, 0.3333333333333333, 0.3333333333333333, 0.0, 0.25, 0.0, 0.0, 0.0, 0.4, 0.2, 0.2, 0.16666666666666666, 0.16666666666666666, 0.16666666666666666, 0.14285714285714285, 0.14285714285714285, 0.0, 0.0, 0.25, 0.125, 0.125, 0.2222222222222222, 0.2222222222222222, 0.0, 0.2222222222222222, 0.2, 0.2, 0.2, 0.09090909090909091, 0.18181818181818182, 0.18181818181818182, 0.18181818181818182, 0.25, 0.16666666666666666, 0.3333333333333333, 0.5384615384615384, 0.46153846153846156, 0.23076923076923078, 0.3076923076923077, 0.5, 0.14285714285714285, 0.42857142857142855, 0.4666666666666667, 0.4, 0.4, 0.4666666666666667, 0.4375, 0.3125, 0.25, 0.35294117647058826, 0.29411764705882354, 0.35294117647058826, 0.17647058823529413, 0.1111111111111111, 0.1111111111111111, 0.3888888888888889, 0.3157894736842105, 0.3684210526315789, 0.3157894736842105, 0.3157894736842105, 0.25, 0.3, 0.4, 0.3333333333333333, 0.3333333333333333, 0.3333333333333333, 0.3181818181818182, 0.36363636363636365, 0.3181818181818182, 0.36363636363636365, 0.34782608695652173, 0.34782608695652173, 0.43478260869565216, 0.375, 0.3333333333333333, 0.375, 0.3333333333333333, 0.32, 0.32, 0.36, 0.34615384615384615, 0.19230769230769232, 0.2692307692307692, 0.2692307692307692, 0.25925925925925924, 0.4444444444444444, 0.48148148148148145, 0.4642857142857143, 0.42857142857142855, 0.42857142857142855, 0.4642857142857143, 0.41379310344827586, 0.27586206896551724, 0.3793103448275862, 0.36666666666666664, 0.36666666666666664, 0.36666666666666664, 0.43333333333333335, 0.3548387096774194, 0.3870967741935484, 0.3548387096774194, 0.375, 0.3125, 0.40625, 0.375, 0.3333333333333333, 0.3939393939393939, 0.3333333333333333, 0.3235294117647059, 0.4117647058823529, 0.38235294117647056, 0.4117647058823529, 0.2857142857142857, 0.37142857142857144, 0.2857142857142857, 0.3333333333333333, 0.3055555555555556, 0.3055555555555556, 0.3888888888888889, 0.32432432432432434, 0.2972972972972973, 0.2972972972972973, 0.2631578947368421, 0.34210526315789475, 0.42105263157894735, 0.34210526315789475, 0.358974358974359, 0.358974358974359, 0.38461538461538464, 0.425, 0.4, 0.35, 0.425, 0.43902439024390244, 0.36585365853658536, 0.36585365853658536, 0.40476190476190477, 0.42857142857142855, 0.40476190476190477, 0.42857142857142855, 0.3953488372093023, 0.3953488372093023, 0.37209302325581395, 0.4090909090909091, 0.3181818181818182, 0.4318181818181818, 0.4090909090909091, 0.3333333333333333, 0.37777777777777777, 0.3111111111111111, 0.32608695652173914, 0.34782608695652173, 0.3695652173913043, 0.3695652173913043, 0.425531914893617, 0.3617021276595745, 0.2978723404255319, 0.3541666666666667, 0.3333333333333333, 0.3541666666666667, 0.375, 0.3673469387755102, 0.3877551020408163, 0.2653061224489796, 0.36, 0.32, 0.3, 0.32, 0.35294117647058826, 0.39215686274509803, 0.3333333333333333, 0.3269230769230769, 0.3076923076923077, 0.23076923076923078, 0.40384615384615385, 0.33962264150943394, 0.32075471698113206, 0.3584905660377358, 0.3888888888888889, 0.3888888888888889, 0.37037037037037035, 0.35185185185185186, 0.34545454545454546, 0.36363636363636365, 0.38181818181818183, 0.35714285714285715, 0.2857142857142857, 0.3392857142857143, 0.32142857142857145, 0.3333333333333333, 0.3508771929824561, 0.38596491228070173, 0.3448275862068966, 0.3275862068965517, 0.3275862068965517, 0.3103448275862069, 0.3050847457627119, 0.3389830508474576, 0.3728813559322034, 0.35, 0.38333333333333336, 0.3333333333333333, 0.35, 0.3114754098360656, 0.3442622950819672, 0.3114754098360656, 0.3387096774193548, 0.3225806451612903, 0.24193548387096775, 0.2903225806451613, 0.36507936507936506, 0.36507936507936506, 0.30158730158730157, 0.375, 0.3125, 0.328125, 0.34375, 0.4, 0.3076923076923077, 0.35384615384615387, 0.3181818181818182, 0.3787878787878788, 0.3181818181818182, 0.373134328358209, 0.34328358208955223, 0.3582089552238806, 0.34328358208955223, 0.3235294117647059, 0.3235294117647059, 0.27941176470588236, 0.2318840579710145, 0.34782608695652173, 0.2898550724637681, 0.30434782608695654, 0.35714285714285715, 0.34285714285714286, 0.3142857142857143, 0.323943661971831, 0.3380281690140845, 0.30985915492957744, 0.29577464788732394, 0.3333333333333333, 0.2777777777777778, 0.3055555555555556, 0.3698630136986301, 0.3013698630136986, 0.3424657534246575, 0.2876712328767123, 0.36486486486486486, 0.28378378378378377, 0.2702702702702703, 0.24, 0.30666666666666664, 0.26666666666666666, 0.30666666666666664, 0.3157894736842105, 0.2894736842105263, 0.2631578947368421, 0.33766233766233766, 0.33766233766233766, 0.3116883116883117, 0.2987012987012987, 0.3717948717948718, 0.3333333333333333, 0.34615384615384615, 0.3670886075949367, 0.34177215189873417, 0.3670886075949367, 0.3291139240506329, 0.3125, 0.375, 0.3125, 0.32098765432098764, 0.32098765432098764, 0.3333333333333333, 0.37037037037037035, 0.32926829268292684, 0.35365853658536583, 0.35365853658536583, 0.3614457831325301, 0.3614457831325301, 0.3132530120481928, 0.3373493975903614, 0.35714285714285715, 0.35714285714285715, 0.30952380952380953, 0.35294117647058826, 0.3411764705882353, 0.3176470588235294, 0.3176470588235294, 0.3488372093023256, 0.3488372093023256]\n",
      "[0.3333333333333333, 0.3333333333333333, 0.3333333333333333, 0.0, 0.0, 0.3333333333333333, 0.6666666666666666, 1.0, 1.0, 0.3333333333333333, 0.0, 0.0, 0.0, 0.0, 0.0, 0.0, 0.0, 0.0, 0.0, 0.0, 0.0, 0.0, 0.0, 0.0, 0.0, 0.0, 0.25, 0.25, 0.25, 0.3333333333333333, 0.3333333333333333, 0.3333333333333333, 0.3333333333333333, 0.4, 0.4, 0.4, 0.45454545454545453, 0.45454545454545453, 0.45454545454545453, 0.45454545454545453, 0.5, 0.5, 0.5, 0.46153846153846156, 0.46153846153846156, 0.38461538461538464, 0.38461538461538464, 0.35714285714285715, 0.35714285714285715, 0.35714285714285715, 0.3333333333333333, 0.3333333333333333, 0.3333333333333333, 0.3333333333333333, 0.3125, 0.375, 0.375, 0.35294117647058826, 0.35294117647058826, 0.35294117647058826, 0.35294117647058826, 0.3333333333333333, 0.3888888888888889, 0.3888888888888889, 0.42105263157894735, 0.42105263157894735, 0.42105263157894735, 0.3684210526315789, 0.4, 0.4, 0.4, 0.3333333333333333, 0.3333333333333333, 0.3333333333333333, 0.3181818181818182, 0.3181818181818182, 0.3181818181818182, 0.3181818181818182, 0.30434782608695654, 0.30434782608695654, 0.30434782608695654, 0.3333333333333333, 0.3333333333333333, 0.3333333333333333, 0.375, 0.32, 0.32, 0.36, 0.38461538461538464, 0.38461538461538464, 0.38461538461538464, 0.38461538461538464, 0.37037037037037035, 0.37037037037037035, 0.37037037037037035, 0.35714285714285715, 0.35714285714285715, 0.35714285714285715, 0.35714285714285715, 0.3448275862068966, 0.3448275862068966, 0.3103448275862069, 0.3, 0.3, 0.3, 0.3, 0.2903225806451613, 0.2903225806451613, 0.2903225806451613, 0.3125, 0.3125, 0.3125, 0.3125, 0.3333333333333333, 0.3333333333333333, 0.3333333333333333, 0.3235294117647059, 0.3235294117647059, 0.29411764705882354, 0.2647058823529412, 0.2571428571428571, 0.2571428571428571, 0.2571428571428571, 0.25, 0.25, 0.25, 0.25, 0.2702702702702703, 0.2702702702702703, 0.2702702702702703, 0.2631578947368421, 0.2631578947368421, 0.2894736842105263, 0.3157894736842105, 0.3333333333333333, 0.3333333333333333, 0.3333333333333333, 0.35, 0.35, 0.325, 0.3, 0.2926829268292683, 0.2926829268292683, 0.2926829268292683, 0.30952380952380953, 0.30952380952380953, 0.3333333333333333, 0.3333333333333333, 0.3488372093023256, 0.3488372093023256, 0.3488372093023256, 0.3409090909090909, 0.3409090909090909, 0.3409090909090909, 0.3409090909090909, 0.3333333333333333, 0.3333333333333333, 0.3333333333333333, 0.32608695652173914, 0.30434782608695654, 0.30434782608695654, 0.30434782608695654, 0.3617021276595745, 0.3617021276595745, 0.3617021276595745, 0.375, 0.375, 0.375, 0.375, 0.3469387755102041, 0.3469387755102041, 0.3673469387755102, 0.36, 0.36, 0.36, 0.38, 0.37254901960784315, 0.37254901960784315, 0.37254901960784315, 0.36538461538461536, 0.38461538461538464, 0.38461538461538464, 0.38461538461538464, 0.37735849056603776, 0.37735849056603776, 0.3584905660377358, 0.37037037037037035, 0.37037037037037035, 0.37037037037037035, 0.37037037037037035, 0.4, 0.4, 0.38181818181818183, 0.39285714285714285, 0.42857142857142855, 0.4107142857142857, 0.4107142857142857, 0.40350877192982454, 0.40350877192982454, 0.40350877192982454, 0.39655172413793105, 0.39655172413793105, 0.39655172413793105, 0.41379310344827586, 0.423728813559322, 0.423728813559322, 0.423728813559322, 0.43333333333333335, 0.45, 0.45, 0.45, 0.4426229508196721, 0.4426229508196721, 0.4426229508196721, 0.43548387096774194, 0.43548387096774194, 0.43548387096774194, 0.45161290322580644, 0.4444444444444444, 0.4444444444444444, 0.4444444444444444, 0.4375, 0.4375, 0.4375, 0.453125, 0.4461538461538462, 0.4461538461538462, 0.4307692307692308, 0.42424242424242425, 0.42424242424242425, 0.42424242424242425, 0.417910447761194, 0.417910447761194, 0.40298507462686567, 0.40298507462686567, 0.4117647058823529, 0.4117647058823529, 0.4117647058823529, 0.391304347826087, 0.391304347826087, 0.391304347826087, 0.391304347826087, 0.38571428571428573, 0.4, 0.38571428571428573, 0.38028169014084506, 0.38028169014084506, 0.38028169014084506, 0.38028169014084506, 0.3888888888888889, 0.375, 0.375, 0.3561643835616438, 0.3561643835616438, 0.3561643835616438, 0.3561643835616438, 0.36486486486486486, 0.35135135135135137, 0.35135135135135137, 0.3466666666666667, 0.36, 0.36, 0.36, 0.3684210526315789, 0.3815789473684211, 0.3815789473684211, 0.38961038961038963, 0.38961038961038963, 0.38961038961038963, 0.38961038961038963, 0.38461538461538464, 0.38461538461538464, 0.38461538461538464, 0.379746835443038, 0.379746835443038, 0.379746835443038, 0.3924050632911392, 0.4125, 0.4125, 0.4125, 0.4074074074074074, 0.4074074074074074, 0.4074074074074074, 0.4074074074074074, 0.4268292682926829, 0.4268292682926829, 0.4146341463414634, 0.42168674698795183, 0.42168674698795183, 0.42168674698795183, 0.42168674698795183, 0.4166666666666667, 0.4166666666666667, 0.4166666666666667, 0.4235294117647059, 0.4235294117647059, 0.43529411764705883, 0.43529411764705883, 0.43023255813953487, 0.43023255813953487]\n",
      "[3, 3, 3, 5, 6, 7, 8, 9, 10, 12, 13, 14, 15, 16, 17, 18, 20, 21, 22, 23, 24, 25, 27, 28, 29, 30, 31, 32, 33, 35, 36, 37, 38, 39, 40, 42, 43, 44, 45, 46, 47, 48, 50, 51, 52, 53, 54, 55, 57, 58, 59, 60, 61, 62, 63, 65, 66, 67, 68, 69, 70, 72, 73, 74, 75, 76, 77, 78, 80, 81, 82, 83, 84, 85, 86, 88, 89, 90, 91, 92, 93, 95, 96, 97, 98, 99, 100, 101, 103, 104, 105, 106, 107, 108, 110, 111, 112, 113, 114, 115, 116, 118, 119, 120, 121, 122, 123, 125, 126, 127, 128, 129, 130, 131, 133, 134, 135, 136, 137, 138, 140, 141, 142, 143, 144, 145, 146, 148, 149, 150, 151, 152, 153, 155, 156, 157, 158, 159, 160, 161, 163, 164, 165, 166, 167, 168, 170, 171, 172, 173, 174, 175, 176, 178, 179, 180, 181, 182, 183, 185, 186, 187, 188, 189, 190, 191, 193, 194, 195, 196, 197, 198, 200, 201, 202, 203, 204, 205, 206, 208, 209, 210, 211, 212, 213, 215, 216, 217, 218, 219, 220, 221, 223, 224, 225, 226, 227, 228, 230, 231, 232, 233, 234, 235, 236, 238, 239, 240, 241, 242, 243, 245, 246, 247, 248, 249, 250, 251, 253, 254, 255, 256, 257, 258, 260, 261, 262, 263, 264, 265, 266, 268, 269, 270, 271, 272, 273, 274, 276, 277, 278, 279, 280, 281, 283, 284, 285, 286, 287, 288, 289, 291, 292, 293, 294, 295, 296, 298, 299, 300, 301, 302, 303, 304, 306, 307, 308, 309, 310, 311, 313, 314, 315, 316, 317, 318, 319, 321, 322, 323, 324, 325, 326, 328, 329, 330, 331, 332, 333, 334, 336, 337, 338, 339, 340, 341, 343, 344, 345, 346]\n"
     ]
    }
   ],
   "source": [
    "cache_KNN = []\n",
    "cache_RF = []\n",
    "training_size = []\n",
    "num = 300\n",
    "for i in range(num):\n",
    "    labels_train = labels_train2[: max(3, round(len(labels_train2)*((i + 1) / num)))]\n",
    "    features_train = features_train2[: max(3, round(len(features_train2)*((i + 1) / num)))]\n",
    "    labels_test = labels_test2[: max(3, round(len(labels_test2)*((i + 1) / num)))]\n",
    "    features_test = features_test2[: max(3, round(len(features_test2)*((i + 1) / num)))]\n",
    "   \n",
    "    result = classifiers()\n",
    "   \n",
    "    cache_RF.append(result[0])\n",
    "    cache_KNN.append(result[1])\n",
    "    training_size.append(len(labels_train))\n",
    "\n",
    "print (cache_RF)\n",
    "print (cache_KNN)\n",
    "print (training_size)"
   ]
  },
  {
   "cell_type": "code",
   "execution_count": 56,
   "metadata": {},
   "outputs": [],
   "source": [
    "import matplotlib.pyplot as plt"
   ]
  },
  {
   "cell_type": "code",
   "execution_count": 57,
   "metadata": {},
   "outputs": [
    {
     "name": "stdout",
     "output_type": "stream",
     "text": [
      "learning curve for RF:\n"
     ]
    },
    {
     "data": {
      "text/plain": [
       "[<matplotlib.lines.Line2D at 0x10bc864e0>]"
      ]
     },
     "execution_count": 57,
     "metadata": {},
     "output_type": "execute_result"
    },
    {
     "data": {
      "image/png": "[encoded data removed]",
      "text/plain": [
       "<Figure size 432x288 with 1 Axes>"
      ]
     },
     "metadata": {},
     "output_type": "display_data"
    }
   ],
   "source": [
    "print (\"learning curve for RF:\")\n",
    "\n",
    "plt.plot(training_size, cache_RF)"
   ]
  },
  {
   "cell_type": "code",
   "execution_count": 58,
   "metadata": {},
   "outputs": [
    {
     "data": {
      "text/plain": [
       "[<matplotlib.lines.Line2D at 0x10bce36a0>]"
      ]
     },
     "execution_count": 58,
     "metadata": {},
     "output_type": "execute_result"
    },
    {
     "data": {
      "image/png": "[encoded data removed]",
      "text/plain": [
       "<Figure size 432x288 with 1 Axes>"
      ]
     },
     "metadata": {},
     "output_type": "display_data"
    }
   ],
   "source": [
    "plt.plot(training_size, cache_KNN)"
   ]
  },
  {
   "cell_type": "code",
   "execution_count": 61,
   "metadata": {},
   "outputs": [
    {
     "name": "stdout",
     "output_type": "stream",
     "text": [
      "346\n",
      "86\n"
     ]
    }
   ],
   "source": [
    "print (len(features_train))\n",
    "print (len(features_test))"
   ]
  },
  {
   "cell_type": "code",
   "execution_count": 70,
   "metadata": {},
   "outputs": [],
   "source": [
    "def classifiers_confusion():\n",
    "    clf = RandomForestClassifier(max_depth=10, random_state=0)\n",
    "    clf.fit(features_train, labels_train)\n",
    "    RF = test_classifier(clf, features_test, labels_test, 'RF')\n",
    "    predicted = clf.predict(features_test)\n",
    "    confusion = {'nothing': {'nothing': 0, 'easy': 0, 'medium': 0, 'hard': 0},\n",
    "                 'easy': {'nothing': 0, 'easy': 0, 'medium': 0, 'hard': 0},\n",
    "                 'medium': {'nothing': 0, 'easy': 0, 'medium': 0, 'hard': 0}, \n",
    "                 'hard': {'nothing': 0, 'easy': 0, 'medium': 0, 'hard': 0}}\n",
    "    \n",
    "    classes = ['nothing', 'easy', 'medium', 'hard']\n",
    "    for i in range(len(features_test)):\n",
    "        confusion[predicted[i]][labels_test[i]] += 1\n",
    "        \n",
    "        \n",
    "    print (\"RF\")\n",
    "    for i in classes:\n",
    "        print (i)\n",
    "        print (confusion[i])\n",
    "\n",
    "    clf = KNeighborsClassifier(n_neighbors=3, p=1)\n",
    "    clf.fit(features_train, labels_train)\n",
    "    KNN = test_classifier(clf, features_test, labels_test, 'KNN')\n",
    "    predicted = clf.predict(features_test)\n",
    "    confusion = {'nothing': {'nothing': 0, 'easy': 0, 'medium': 0, 'hard': 0},\n",
    "                 'easy': {'nothing': 0, 'easy': 0, 'medium': 0, 'hard': 0},\n",
    "                 'medium': {'nothing': 0, 'easy': 0, 'medium': 0, 'hard': 0}, \n",
    "                 'hard': {'nothing': 0, 'easy': 0, 'medium': 0, 'hard': 0}}\n",
    "    \n",
    "    classes = ['nothing', 'easy', 'medium', 'hard']\n",
    "    for i in range(len(features_test)):\n",
    "        confusion[predicted[i]][labels_test[i]] += 1\n",
    "    \n",
    "    print (\"KNN\")\n",
    "    for i in classes:\n",
    "        print (i)\n",
    "        print (confusion[i])\n",
    "    return "
   ]
  },
  {
   "cell_type": "code",
   "execution_count": 71,
   "metadata": {},
   "outputs": [
    {
     "name": "stdout",
     "output_type": "stream",
     "text": [
      "RF\n",
      "nothing\n",
      "{'nothing': 1, 'easy': 2, 'medium': 3, 'hard': 3}\n",
      "easy\n",
      "{'nothing': 7, 'easy': 22, 'medium': 12, 'hard': 7}\n",
      "medium\n",
      "{'nothing': 4, 'easy': 11, 'medium': 7, 'hard': 3}\n",
      "hard\n",
      "{'nothing': 2, 'easy': 1, 'medium': 1, 'hard': 0}\n",
      "KNN\n",
      "nothing\n",
      "{'nothing': 2, 'easy': 3, 'medium': 2, 'hard': 0}\n",
      "easy\n",
      "{'nothing': 9, 'easy': 26, 'medium': 11, 'hard': 9}\n",
      "medium\n",
      "{'nothing': 3, 'easy': 5, 'medium': 9, 'hard': 4}\n",
      "hard\n",
      "{'nothing': 0, 'easy': 2, 'medium': 1, 'hard': 0}\n"
     ]
    }
   ],
   "source": [
    "classifiers_confusion()"
   ]
  },
  {
   "cell_type": "code",
   "execution_count": null,
   "metadata": {},
   "outputs": [],
   "source": []
  }
 ],
 "metadata": {
  "kernelspec": {
   "display_name": "Python 3",
   "language": "python",
   "name": "python3"
  },
  "language_info": {
   "codemirror_mode": {
    "name": "ipython",
    "version": 3
   },
   "file_extension": ".py",
   "mimetype": "text/x-python",
   "name": "python",
   "nbconvert_exporter": "python",
   "pygments_lexer": "ipython3",
   "version": "3.6.5"
  }
 },
 "nbformat": 4,
 "nbformat_minor": 2
}
