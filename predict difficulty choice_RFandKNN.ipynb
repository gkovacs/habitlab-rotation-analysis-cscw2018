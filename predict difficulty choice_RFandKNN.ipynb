{
 "cells": [
  {
   "cell_type": "code",
   "execution_count": 1,
   "metadata": {},
   "outputs": [],
   "source": [
    "import csv\n",
    "import lzstring\n",
    "from collections import namedtuple, Counter\n",
    "import json\n",
    "from memoize import memoize\n",
    "import numpy as np\n",
    "from sklearn.ensemble import RandomForestClassifier\n",
    "from sklearn.neighbors import KNeighborsClassifier\n",
    "import sys\n",
    "import json"
   ]
  },
  {
   "cell_type": "code",
   "execution_count": 2,
   "metadata": {},
   "outputs": [],
   "source": [
    "csv.field_size_limit(sys.maxsize)\n",
    "\n",
    "# [num unique urls, num unique urls typed, total visits, total typed, first visit time, last visit time]\n",
    "domaininfo = namedtuple('domaininfo', ['num_unique_urls', 'num_unique_urls_typed', 'total_visits', 'total_typed', 'first_visit_time', 'last_visit_time'])\n",
    "\n",
    "decompressFromEncodedURIComponent = lzstring.LZString().decompressFromEncodedURIComponent\n",
    "\n",
    "#filepath = 'difficultyselectionexp_may31_11am.csv'\n",
    "filepath = 'data/JUL31.csv'\n",
    "reader = csv.DictReader(open(filepath))\n",
    "\n",
    "def extract_domain_visit_info(domain_visit_info_compressed):\n",
    "  domain_visit_info = json.loads(decompressFromEncodedURIComponent(domain_visit_info_compressed))\n",
    "  output = {}\n",
    "  for k,v in domain_visit_info.items():\n",
    "    linedata = domaininfo(*v)\n",
    "    output[k] = linedata\n",
    "  return output\n",
    "\n",
    "alldata = []\n",
    "\n",
    "for alldata_item in reader:\n",
    "  if alldata_item['selected_difficulty'] not in ['nothing', 'easy', 'medium', 'hard']:\n",
    "    continue\n",
    "  if alldata_item['domain_visit_info_compressed'] == None or len(alldata_item['domain_visit_info_compressed']) == 0:\n",
    "    continue\n",
    "  alldata_item['domain_visit_info'] = extract_domain_visit_info(alldata_item['domain_visit_info_compressed'])\n",
    "  alldata.append(alldata_item)\n"
   ]
  },
  {
   "cell_type": "code",
   "execution_count": 3,
   "metadata": {},
   "outputs": [
    {
     "name": "stdout",
     "output_type": "stream",
     "text": [
      "726\n",
      "181\n"
     ]
    }
   ],
   "source": [
    "#np.random.shuffle(alldata)\n",
    "training_data = alldata[:round(len(alldata)*0.8)]\n",
    "test_data = alldata[round(len(alldata)*0.8):]\n",
    "print(len(training_data))\n",
    "print(len(test_data))"
   ]
  },
  {
   "cell_type": "code",
   "execution_count": 4,
   "metadata": {},
   "outputs": [],
   "source": [
    "def extract_labels_alldata(data):\n",
    "  return np.array([line['selected_difficulty'] for line in data])\n",
    "\n",
    "@memoize\n",
    "def get_most_common_label():\n",
    "  label_to_count = Counter()\n",
    "  for line in training_data:\n",
    "    label = line['selected_difficulty']\n",
    "    label_to_count[label] += 1\n",
    "  sorted_by_count = sorted(label_to_count.items(), key=lambda x: x[1], reverse=True)\n",
    "  return sorted_by_count[0][0]\n",
    "\n",
    "@memoize\n",
    "def get_most_visited_domains():\n",
    "  domain_to_num_visits = Counter()\n",
    "  for line in training_data:\n",
    "    domain_visit_info = line['domain_visit_info']\n",
    "    for domain,info in domain_visit_info.items():\n",
    "      domain_to_num_visits[domain] += info.total_visits\n",
    "  sorted_by_num_visits = sorted(domain_to_num_visits.items(), key=lambda x: x[1], reverse=True)\n",
    "  return [x[0] for x in sorted_by_num_visits[:100]]\n",
    "\n",
    "cnt = 0\n",
    "@memoize\n",
    "def get_most_common_domains():\n",
    "  domain_to_num_visits = Counter()\n",
    "  for line in training_data:\n",
    "    domain_visit_info = line['domain_visit_info']\n",
    "    for domain,info in domain_visit_info.items():\n",
    "      domain_to_num_visits[domain] += 1\n",
    "  sorted_by_num_visits = sorted(domain_to_num_visits.items(), key=lambda x: x[1], reverse=True)\n",
    "  return [x[0] for x in sorted_by_num_visits[:100]]\n",
    "\n",
    "def get_all_domains():\n",
    "  domain_to_num_visits = Counter()\n",
    "  for line in training_data:\n",
    "    domain_visit_info = line['domain_visit_info']\n",
    "    for domain,info in domain_visit_info.items():\n",
    "      domain_to_num_visits[domain] += 1\n",
    "  sorted_by_num_visits = sorted(domain_to_num_visits.items(), key=lambda x: x[1], reverse=True)\n",
    "  return [x[0] for x in sorted_by_num_visits]\n",
    "\n",
    "\n",
    "\n",
    "def get_num_visits_for_domain(domain_visit_info, domain):\n",
    "  info = domain_visit_info.get(domain, None)\n",
    "  if info != None:\n",
    "    return info.total_visits\n",
    "  return 0\n",
    "\n",
    "def get_productivity():\n",
    "    with open ('domain_to_productivity.json') as json_file:\n",
    "        data = json.load(json_file)\n",
    "        return data\n",
    "\n",
    "domain_to_productivity = get_productivity()\n",
    "\n",
    "def get_productivity_domain(domain):\n",
    "    if domain in domain_to_productivity.keys():\n",
    "        return domain_to_productivity[domain]\n",
    "    domain2 = domain.split('.')\n",
    "    final = 'www.' + domain2[len(domain2) - 2] + '.com'\n",
    "    if final in domain_to_productivity.keys():\n",
    "        return domain_to_productivity[final]\n",
    "    return None\n",
    "    \n",
    "def extract_features_for_user(domain_visit_info):\n",
    "  cnt = 0\n",
    "  domains = get_all_domains()\n",
    "  final_features = [0, 0, 0, 0, 0];\n",
    "  for x in domains:\n",
    "        if get_productivity_domain(x) != None:\n",
    "            final_features[get_productivity_domain(x) + 2] += get_num_visits_for_domain(domain_visit_info, x)\n",
    "    \n",
    "  #np.array([get_num_visits_for_domain(domain_visit_info, x) for x in domains])\n",
    "  #if np.sum(final_features) >= 1:\n",
    "    #final_features = np.divide(final_features, np.sum(final_features))\n",
    "  return final_features\n",
    "\n",
    "def extract_features_alldata(data):\n",
    "  output = []\n",
    "  for line in data:\n",
    "    domain_visit_info = line['domain_visit_info']\n",
    "    features = extract_features_for_user(domain_visit_info)\n",
    "    output.append(features)\n",
    "  return np.array(output)\n"
   ]
  },
  {
   "cell_type": "code",
   "execution_count": 5,
   "metadata": {},
   "outputs": [
    {
     "name": "stdout",
     "output_type": "stream",
     "text": [
      "baseline classifier accuracy: 0.5082872928176796\n"
     ]
    }
   ],
   "source": [
    "def get_percent_correct(predicted_labels, actual_labels):\n",
    "  if len(predicted_labels) != len(actual_labels):\n",
    "    raise 'need predicted and actual labels to have same lengths'\n",
    "  total = len(actual_labels)\n",
    "  correct = 0\n",
    "  for p,a in zip(predicted_labels, actual_labels):\n",
    "    if p == a:\n",
    "      correct += 1\n",
    "  return correct / total\n",
    "\n",
    "def test_baseline_classifier():\n",
    "  most_common_label = get_most_common_label()\n",
    "  predictions = [most_common_label for line in test_data]\n",
    "  actual = extract_labels_alldata(test_data)\n",
    "  percent_correct = get_percent_correct(predictions, actual)\n",
    "  print('baseline classifier accuracy:', percent_correct)\n",
    "\n",
    "def test_classifier(clf,features_test, actual, str=None):\n",
    "  #actual = extract_labels_alldata(test_data)\n",
    "  #features_test = extract_features_alldata(test_data)\n",
    "  predictions = clf.predict(features_test)\n",
    "  percent_correct = get_percent_correct(predictions, actual)\n",
    "  return percent_correct\n",
    "\n",
    "def training_error_classifier(clf, str=None):\n",
    "  actual = extract_labels_alldata(training_data)\n",
    "  features_train = extract_features_alldata(training_data)\n",
    "  predictions = clf.predict(features_train)\n",
    "  percent_correct = get_percent_correct(predictions, actual)\n",
    "  print(str + ' classifier training accuracy:', round(percent_correct, 2))\n",
    "\n",
    "def to_int_categorical(dt):\n",
    "  # {'easy', 'hard', 'medium', 'nothing'}\n",
    "  cat_dt = []\n",
    "  for item in dt:\n",
    "    if item == 'nothing':\n",
    "      cat_dt.append(0)\n",
    "    elif item == 'easy':\n",
    "      cat_dt.append(1)\n",
    "    elif item == 'medium':\n",
    "      cat_dt.append(2)\n",
    "    else:\n",
    "      cat_dt.append(3)\n",
    "  return np.array(cat_dt)\n",
    "    \n",
    "test_baseline_classifier()"
   ]
  },
  {
   "cell_type": "code",
   "execution_count": 6,
   "metadata": {
    "scrolled": true
   },
   "outputs": [],
   "source": [
    "labels_train = extract_labels_alldata(training_data)\n",
    "features_train = extract_features_alldata(training_data)\n",
    "labels_test = extract_labels_alldata(test_data)\n",
    "features_test = extract_features_alldata(test_data)"
   ]
  },
  {
   "cell_type": "code",
   "execution_count": 7,
   "metadata": {},
   "outputs": [],
   "source": [
    "def classifiers():\n",
    "    clf = RandomForestClassifier(max_depth=10, random_state=0)\n",
    "    clf.fit(features_train, labels_train)\n",
    "    RF = test_classifier(clf, features_test, labels_test, 'RF')\n",
    "\n",
    "    clf = KNeighborsClassifier(n_neighbors=3, p=1)\n",
    "    clf.fit(features_train, labels_train)\n",
    "    KNN = test_classifier(clf, features_test, labels_test, 'KNN')\n",
    "    return [RF, KNN]"
   ]
  },
  {
   "cell_type": "code",
   "execution_count": 8,
   "metadata": {},
   "outputs": [
    {
     "name": "stdout",
     "output_type": "stream",
     "text": [
      "[0.4088397790055249, 0.4198895027624309]\n"
     ]
    }
   ],
   "source": [
    "print (classifiers())"
   ]
  },
  {
   "cell_type": "code",
   "execution_count": 9,
   "metadata": {},
   "outputs": [
    {
     "name": "stdout",
     "output_type": "stream",
     "text": [
      "181\n"
     ]
    }
   ],
   "source": [
    "labels_train2 = labels_train\n",
    "features_train2 = features_train\n",
    "labels_test2 = labels_test\n",
    "features_test2 = features_test\n",
    "\n",
    "print (len(features_test2))"
   ]
  },
  {
   "cell_type": "code",
   "execution_count": 10,
   "metadata": {},
   "outputs": [
    {
     "name": "stdout",
     "output_type": "stream",
     "text": [
      "[0.0, 0.0, 0.0, 0.0, 0.0, 0.25, 0.0, 0.2, 0.4, 0.0, 0.14285714285714285, 0.14285714285714285, 0.125, 0.125, 0.1111111111111111, 0.2, 0.0, 0.09090909090909091, 0.09090909090909091, 0.16666666666666666, 0.15384615384615385, 0.23076923076923078, 0.21428571428571427, 0.14285714285714285, 0.2, 0.0625, 0.3125, 0.23529411764705882, 0.17647058823529413, 0.1111111111111111, 0.10526315789473684, 0.2631578947368421, 0.3, 0.38095238095238093, 0.42857142857142855, 0.36363636363636365, 0.36363636363636365, 0.391304347826087, 0.125, 0.25, 0.24, 0.24, 0.3076923076923077, 0.2222222222222222, 0.3333333333333333, 0.2857142857142857, 0.39285714285714285, 0.3448275862068966, 0.3333333333333333, 0.26666666666666666, 0.22580645161290322, 0.25806451612903225, 0.34375, 0.42424242424242425, 0.36363636363636365, 0.4117647058823529, 0.47058823529411764, 0.5142857142857142, 0.5, 0.4166666666666667, 0.43243243243243246, 0.43243243243243246, 0.47368421052631576, 0.358974358974359, 0.41025641025641024, 0.45, 0.4, 0.5121951219512195, 0.38095238095238093, 0.38095238095238093, 0.32558139534883723, 0.4186046511627907, 0.4090909090909091, 0.37777777777777777, 0.4888888888888889, 0.5, 0.43478260869565216, 0.425531914893617, 0.2916666666666667, 0.4375, 0.42857142857142855, 0.3673469387755102, 0.42, 0.3137254901960784, 0.3333333333333333, 0.4230769230769231, 0.4230769230769231, 0.41509433962264153, 0.37037037037037035, 0.3888888888888889, 0.43636363636363634, 0.4107142857142857, 0.375, 0.3508771929824561, 0.43859649122807015, 0.3448275862068966, 0.3728813559322034, 0.4406779661016949, 0.43333333333333335, 0.36666666666666664, 0.3770491803278688, 0.41935483870967744, 0.4032258064516129, 0.3968253968253968, 0.3968253968253968, 0.390625, 0.47692307692307695, 0.38461538461538464, 0.3787878787878788, 0.4696969696969697, 0.40298507462686567, 0.39705882352941174, 0.38235294117647056, 0.3333333333333333, 0.37681159420289856, 0.4, 0.352112676056338, 0.43661971830985913, 0.3888888888888889, 0.3888888888888889, 0.3287671232876712, 0.35135135135135137, 0.3918918918918919, 0.36, 0.38666666666666666, 0.3815789473684211, 0.4025974025974026, 0.37662337662337664, 0.358974358974359, 0.3974358974358974, 0.3291139240506329, 0.3625, 0.3875, 0.37037037037037035, 0.3950617283950617, 0.4268292682926829, 0.43373493975903615, 0.3614457831325301, 0.3333333333333333, 0.38095238095238093, 0.3764705882352941, 0.4069767441860465, 0.4186046511627907, 0.4367816091954023, 0.41379310344827586, 0.375, 0.39325842696629215, 0.30337078651685395, 0.3111111111111111, 0.3888888888888889, 0.3626373626373626, 0.3804347826086957, 0.33695652173913043, 0.34408602150537637, 0.35106382978723405, 0.3191489361702128, 0.29473684210526313, 0.3157894736842105, 0.375, 0.35051546391752575, 0.28865979381443296, 0.3163265306122449, 0.336734693877551, 0.35353535353535354, 0.38, 0.31, 0.31683168316831684, 0.297029702970297, 0.3431372549019608, 0.36893203883495146, 0.34951456310679613, 0.36538461538461536, 0.36538461538461536, 0.3238095238095238, 0.39622641509433965, 0.3584905660377358, 0.40186915887850466, 0.40186915887850466, 0.37037037037037035, 0.42201834862385323, 0.41284403669724773, 0.42727272727272725, 0.41818181818181815, 0.3963963963963964, 0.4017857142857143, 0.3482142857142857, 0.4424778761061947, 0.4424778761061947, 0.42105263157894735, 0.34782608695652173, 0.3565217391304348, 0.31896551724137934, 0.3706896551724138, 0.42735042735042733, 0.3474576271186441, 0.3305084745762712, 0.3865546218487395, 0.40336134453781514, 0.38333333333333336, 0.38016528925619836, 0.30578512396694213, 0.36065573770491804, 0.39344262295081966, 0.37398373983739835, 0.3709677419354839, 0.3629032258064516, 0.416, 0.368, 0.36507936507936506, 0.3779527559055118, 0.36220472440944884, 0.421875, 0.3953488372093023, 0.35658914728682173, 0.36923076923076925, 0.33076923076923076, 0.32061068702290074, 0.3787878787878788, 0.3333333333333333, 0.3609022556390977, 0.3308270676691729, 0.3656716417910448, 0.3333333333333333, 0.362962962962963, 0.39705882352941174, 0.33088235294117646, 0.31386861313868614, 0.37681159420289856, 0.34782608695652173, 0.37410071942446044, 0.4028776978417266, 0.39285714285714285, 0.3971631205673759, 0.375886524822695, 0.3732394366197183, 0.3591549295774648, 0.4195804195804196, 0.3958333333333333, 0.3680555555555556, 0.38620689655172413, 0.38620689655172413, 0.3835616438356164, 0.3877551020408163, 0.38095238095238093, 0.38513513513513514, 0.39864864864864863, 0.3959731543624161, 0.3933333333333333, 0.4, 0.3841059602649007, 0.3841059602649007, 0.40789473684210525, 0.39869281045751637, 0.3660130718954248, 0.37012987012987014, 0.34415584415584416, 0.36129032258064514, 0.3974358974358974, 0.358974358974359, 0.40764331210191085, 0.3821656050955414, 0.36075949367088606, 0.42138364779874216, 0.39622641509433965, 0.36875, 0.40625, 0.36024844720496896, 0.3765432098765432, 0.36419753086419754, 0.38650306748466257, 0.3780487804878049, 0.3597560975609756, 0.40606060606060607, 0.4, 0.42168674698795183, 0.4491017964071856, 0.38922155688622756, 0.3630952380952381, 0.4107142857142857, 0.41420118343195267, 0.38235294117647056, 0.3941176470588235, 0.4269005847953216, 0.4152046783625731, 0.4186046511627907, 0.3872832369942196, 0.4046242774566474, 0.3563218390804598, 0.40804597701149425, 0.44571428571428573, 0.44886363636363635, 0.4659090909090909, 0.4406779661016949, 0.423728813559322, 0.42696629213483145, 0.3743016759776536, 0.4301675977653631, 0.4222222222222222, 0.4111111111111111, 0.4088397790055249]\n",
      "[0.3333333333333333, 0.3333333333333333, 0.3333333333333333, 0.3333333333333333, 0.3333333333333333, 0.25, 0.25, 0.4, 0.4, 0.3333333333333333, 0.42857142857142855, 0.42857142857142855, 0.375, 0.25, 0.5555555555555556, 0.4, 0.4, 0.2727272727272727, 0.2727272727272727, 0.25, 0.23076923076923078, 0.23076923076923078, 0.14285714285714285, 0.14285714285714285, 0.06666666666666667, 0.1875, 0.1875, 0.23529411764705882, 0.29411764705882354, 0.2777777777777778, 0.21052631578947367, 0.21052631578947367, 0.25, 0.2857142857142857, 0.23809523809523808, 0.22727272727272727, 0.22727272727272727, 0.30434782608695654, 0.3333333333333333, 0.3333333333333333, 0.36, 0.36, 0.34615384615384615, 0.3333333333333333, 0.3333333333333333, 0.35714285714285715, 0.39285714285714285, 0.3793103448275862, 0.36666666666666664, 0.36666666666666664, 0.41935483870967744, 0.41935483870967744, 0.40625, 0.42424242424242425, 0.42424242424242425, 0.4117647058823529, 0.4117647058823529, 0.45714285714285713, 0.4722222222222222, 0.4166666666666667, 0.43243243243243246, 0.43243243243243246, 0.42105263157894735, 0.41025641025641024, 0.41025641025641024, 0.4, 0.4, 0.3902439024390244, 0.38095238095238093, 0.38095238095238093, 0.3953488372093023, 0.3953488372093023, 0.38636363636363635, 0.4, 0.4, 0.391304347826087, 0.391304347826087, 0.3829787234042553, 0.3541666666666667, 0.3541666666666667, 0.3469387755102041, 0.3469387755102041, 0.32, 0.3137254901960784, 0.3137254901960784, 0.3269230769230769, 0.3269230769230769, 0.32075471698113206, 0.37037037037037035, 0.35185185185185186, 0.34545454545454546, 0.3392857142857143, 0.3392857142857143, 0.3508771929824561, 0.3508771929824561, 0.3620689655172414, 0.3728813559322034, 0.3728813559322034, 0.38333333333333336, 0.38333333333333336, 0.36065573770491804, 0.3870967741935484, 0.3870967741935484, 0.38095238095238093, 0.3968253968253968, 0.390625, 0.4, 0.38461538461538464, 0.3787878787878788, 0.3787878787878788, 0.40298507462686567, 0.39705882352941174, 0.4117647058823529, 0.4057971014492754, 0.4057971014492754, 0.42857142857142855, 0.4225352112676056, 0.4225352112676056, 0.4305555555555556, 0.4305555555555556, 0.3972602739726027, 0.40540540540540543, 0.40540540540540543, 0.41333333333333333, 0.41333333333333333, 0.40789473684210525, 0.4025974025974026, 0.38961038961038963, 0.38461538461538464, 0.4230769230769231, 0.43037974683544306, 0.4375, 0.4375, 0.43209876543209874, 0.43209876543209874, 0.4268292682926829, 0.4457831325301205, 0.43373493975903615, 0.44047619047619047, 0.44047619047619047, 0.43529411764705883, 0.43023255813953487, 0.43023255813953487, 0.4367816091954023, 0.4367816091954023, 0.4318181818181818, 0.4157303370786517, 0.4157303370786517, 0.4111111111111111, 0.4111111111111111, 0.4065934065934066, 0.41304347826086957, 0.41304347826086957, 0.41935483870967744, 0.4148936170212766, 0.4148936170212766, 0.42105263157894735, 0.42105263157894735, 0.4375, 0.4329896907216495, 0.422680412371134, 0.4387755102040816, 0.42857142857142855, 0.43434343434343436, 0.43, 0.44, 0.43564356435643564, 0.43564356435643564, 0.43137254901960786, 0.4077669902912621, 0.4174757281553398, 0.41346153846153844, 0.41346153846153844, 0.41904761904761906, 0.42452830188679247, 0.41509433962264153, 0.411214953271028, 0.411214953271028, 0.4074074074074074, 0.4036697247706422, 0.4036697247706422, 0.4, 0.4, 0.38738738738738737, 0.375, 0.375, 0.3805309734513274, 0.3893805309734513, 0.38596491228070173, 0.3826086956521739, 0.3826086956521739, 0.3793103448275862, 0.3793103448275862, 0.38461538461538464, 0.3898305084745763, 0.3898305084745763, 0.3865546218487395, 0.3865546218487395, 0.38333333333333336, 0.3884297520661157, 0.38016528925619836, 0.36885245901639346, 0.36885245901639346, 0.36585365853658536, 0.3709677419354839, 0.3709677419354839, 0.376, 0.376, 0.38095238095238093, 0.3937007874015748, 0.3937007874015748, 0.3828125, 0.3953488372093023, 0.3798449612403101, 0.4, 0.4, 0.3969465648854962, 0.4015151515151515, 0.4015151515151515, 0.39849624060150374, 0.40601503759398494, 0.41044776119402987, 0.3925925925925926, 0.4, 0.40441176470588236, 0.40441176470588236, 0.39416058394160586, 0.39855072463768115, 0.41304347826086957, 0.4028776978417266, 0.4028776978417266, 0.39285714285714285, 0.40425531914893614, 0.41134751773049644, 0.4295774647887324, 0.4295774647887324, 0.43356643356643354, 0.4236111111111111, 0.4236111111111111, 0.4206896551724138, 0.4206896551724138, 0.4246575342465753, 0.43537414965986393, 0.43537414965986393, 0.43243243243243246, 0.4189189189189189, 0.4228187919463087, 0.42, 0.43333333333333335, 0.423841059602649, 0.41721854304635764, 0.4144736842105263, 0.41830065359477125, 0.41830065359477125, 0.4090909090909091, 0.4025974025974026, 0.41935483870967744, 0.41025641025641024, 0.4166666666666667, 0.4140127388535032, 0.42038216560509556, 0.41139240506329117, 0.4088050314465409, 0.42138364779874216, 0.43125, 0.425, 0.42857142857142855, 0.43209876543209874, 0.43209876543209874, 0.44171779141104295, 0.43902439024390244, 0.43902439024390244, 0.43636363636363634, 0.44242424242424244, 0.4397590361445783, 0.4431137724550898, 0.437125748502994, 0.44047619047619047, 0.43452380952380953, 0.4319526627218935, 0.43529411764705883, 0.4294117647058823, 0.4327485380116959, 0.4269005847953216, 0.43023255813953487, 0.43352601156069365, 0.4393063583815029, 0.4367816091954023, 0.43103448275862066, 0.42857142857142855, 0.4318181818181818, 0.42613636363636365, 0.423728813559322, 0.423728813559322, 0.42134831460674155, 0.4301675977653631, 0.4301675977653631, 0.43333333333333335, 0.4222222222222222, 0.4198895027624309]\n",
      "[3, 5, 7, 10, 12, 15, 17, 19, 22, 24, 27, 29, 31, 34, 36, 39, 41, 44, 46, 48, 51, 53, 56, 58, 60, 63, 65, 68, 70, 73, 75, 77, 80, 82, 85, 87, 90, 92, 94, 97, 99, 102, 104, 106, 109, 111, 114, 116, 119, 121, 123, 126, 128, 131, 133, 136, 138, 140, 143, 145, 148, 150, 152, 155, 157, 160, 162, 165, 167, 169, 172, 174, 177, 179, 182, 184, 186, 189, 191, 194, 196, 198, 201, 203, 206, 208, 211, 213, 215, 218, 220, 223, 225, 227, 230, 232, 235, 237, 240, 242, 244, 247, 249, 252, 254, 257, 259, 261, 264, 266, 269, 271, 273, 276, 278, 281, 283, 286, 288, 290, 293, 295, 298, 300, 302, 305, 307, 310, 312, 315, 317, 319, 322, 324, 327, 329, 332, 334, 336, 339, 341, 344, 346, 348, 351, 353, 356, 358, 361, 363, 365, 368, 370, 373, 375, 378, 380, 382, 385, 387, 390, 392, 394, 397, 399, 402, 404, 407, 409, 411, 414, 416, 419, 421, 424, 426, 428, 431, 433, 436, 438, 440, 443, 445, 448, 450, 453, 455, 457, 460, 462, 465, 467, 469, 472, 474, 477, 479, 482, 484, 486, 489, 491, 494, 496, 499, 501, 503, 506, 508, 511, 513, 515, 518, 520, 523, 525, 528, 530, 532, 535, 537, 540, 542, 544, 547, 549, 552, 554, 557, 559, 561, 564, 566, 569, 571, 574, 576, 578, 581, 583, 586, 588, 590, 593, 595, 598, 600, 603, 605, 607, 610, 612, 615, 617, 620, 622, 624, 627, 629, 632, 634, 636, 639, 641, 644, 646, 649, 651, 653, 656, 658, 661, 663, 666, 668, 670, 673, 675, 678, 680, 682, 685, 687, 690, 692, 695, 697, 699, 702, 704, 707, 709, 711, 714, 716, 719, 721, 724, 726]\n"
     ]
    }
   ],
   "source": [
    "cache_KNN = []\n",
    "cache_RF = []\n",
    "training_size = []\n",
    "num = 300\n",
    "for i in range(num):\n",
    "    labels_train = labels_train2[: max(3, round(len(labels_train2)*((i + 1) / num)))]\n",
    "    features_train = features_train2[: max(3, round(len(features_train2)*((i + 1) / num)))]\n",
    "    labels_test = labels_test2[: max(3, round(len(labels_test2)*((i + 1) / num)))]\n",
    "    features_test = features_test2[: max(3, round(len(features_test2)*((i + 1) / num)))]\n",
    "   \n",
    "    result = classifiers()\n",
    "   \n",
    "    cache_RF.append(result[0])\n",
    "    cache_KNN.append(result[1])\n",
    "    training_size.append(len(labels_train))\n",
    "\n",
    "print (cache_RF)\n",
    "print (cache_KNN)\n",
    "print (training_size)"
   ]
  },
  {
   "cell_type": "code",
   "execution_count": 11,
   "metadata": {},
   "outputs": [],
   "source": [
    "import matplotlib.pyplot as plt"
   ]
  },
  {
   "cell_type": "code",
   "execution_count": 12,
   "metadata": {},
   "outputs": [
    {
     "name": "stdout",
     "output_type": "stream",
     "text": [
      "learning curve for RF:\n"
     ]
    },
    {
     "data": {
      "text/plain": [
       "[<matplotlib.lines.Line2D at 0x10f4b43c8>]"
      ]
     },
     "execution_count": 12,
     "metadata": {},
     "output_type": "execute_result"
    },
    {
     "data": {
      "image/png": "[encoded data removed]",
      "text/plain": [
       "<Figure size 432x288 with 1 Axes>"
      ]
     },
     "metadata": {},
     "output_type": "display_data"
    }
   ],
   "source": [
    "print (\"learning curve for RF:\")\n",
    "\n",
    "plt.plot(training_size, cache_RF)"
   ]
  },
  {
   "cell_type": "code",
   "execution_count": 13,
   "metadata": {},
   "outputs": [
    {
     "data": {
      "text/plain": [
       "[<matplotlib.lines.Line2D at 0x10f547c18>]"
      ]
     },
     "execution_count": 13,
     "metadata": {},
     "output_type": "execute_result"
    },
    {
     "data": {
      "image/png": "[encoded data removed]",
      "text/plain": [
       "<Figure size 432x288 with 1 Axes>"
      ]
     },
     "metadata": {},
     "output_type": "display_data"
    }
   ],
   "source": [
    "plt.plot(training_size, cache_KNN)"
   ]
  },
  {
   "cell_type": "code",
   "execution_count": 14,
   "metadata": {},
   "outputs": [
    {
     "name": "stdout",
     "output_type": "stream",
     "text": [
      "726\n",
      "181\n"
     ]
    }
   ],
   "source": [
    "print (len(features_train))\n",
    "print (len(features_test))"
   ]
  },
  {
   "cell_type": "code",
   "execution_count": 15,
   "metadata": {},
   "outputs": [],
   "source": [
    "def classifiers_confusion():\n",
    "    clf = RandomForestClassifier(max_depth=10, random_state=0)\n",
    "    clf.fit(features_train, labels_train)\n",
    "    RF = test_classifier(clf, features_test, labels_test, 'RF')\n",
    "    predicted = clf.predict(features_test)\n",
    "    confusion = {'nothing': {'nothing': 0, 'easy': 0, 'medium': 0, 'hard': 0},\n",
    "                 'easy': {'nothing': 0, 'easy': 0, 'medium': 0, 'hard': 0},\n",
    "                 'medium': {'nothing': 0, 'easy': 0, 'medium': 0, 'hard': 0}, \n",
    "                 'hard': {'nothing': 0, 'easy': 0, 'medium': 0, 'hard': 0}}\n",
    "    \n",
    "    classes = ['nothing', 'easy', 'medium', 'hard']\n",
    "    for i in range(len(features_test)):\n",
    "        confusion[predicted[i]][labels_test[i]] += 1\n",
    "        \n",
    "        \n",
    "    print (\"RF\")\n",
    "    for i in classes:\n",
    "        print (i)\n",
    "        print (confusion[i])\n",
    "\n",
    "    clf = KNeighborsClassifier(n_neighbors=3, p=1)\n",
    "    clf.fit(features_train, labels_train)\n",
    "    KNN = test_classifier(clf, features_test, labels_test, 'KNN')\n",
    "    predicted = clf.predict(features_test)\n",
    "    confusion = {'nothing': {'nothing': 0, 'easy': 0, 'medium': 0, 'hard': 0},\n",
    "                 'easy': {'nothing': 0, 'easy': 0, 'medium': 0, 'hard': 0},\n",
    "                 'medium': {'nothing': 0, 'easy': 0, 'medium': 0, 'hard': 0}, \n",
    "                 'hard': {'nothing': 0, 'easy': 0, 'medium': 0, 'hard': 0}}\n",
    "    \n",
    "    classes = ['nothing', 'easy', 'medium', 'hard']\n",
    "    for i in range(len(features_test)):\n",
    "        confusion[predicted[i]][labels_test[i]] += 1\n",
    "    \n",
    "    print (\"KNN\")\n",
    "    for i in classes:\n",
    "        print (i)\n",
    "        print (confusion[i])\n",
    "    return "
   ]
  },
  {
   "cell_type": "code",
   "execution_count": 16,
   "metadata": {},
   "outputs": [
    {
     "name": "stdout",
     "output_type": "stream",
     "text": [
      "RF\n",
      "nothing\n",
      "{'nothing': 4, 'easy': 8, 'medium': 2, 'hard': 3}\n",
      "easy\n",
      "{'nothing': 15, 'easy': 60, 'medium': 28, 'hard': 10}\n",
      "medium\n",
      "{'nothing': 6, 'easy': 20, 'medium': 8, 'hard': 4}\n",
      "hard\n",
      "{'nothing': 3, 'easy': 4, 'medium': 4, 'hard': 2}\n",
      "KNN\n",
      "nothing\n",
      "{'nothing': 1, 'easy': 8, 'medium': 3, 'hard': 1}\n",
      "easy\n",
      "{'nothing': 16, 'easy': 64, 'medium': 29, 'hard': 12}\n",
      "medium\n",
      "{'nothing': 10, 'easy': 15, 'medium': 8, 'hard': 3}\n",
      "hard\n",
      "{'nothing': 1, 'easy': 5, 'medium': 2, 'hard': 3}\n"
     ]
    }
   ],
   "source": [
    "classifiers_confusion()"
   ]
  },
  {
   "cell_type": "code",
   "execution_count": null,
   "metadata": {},
   "outputs": [],
   "source": []
  }
 ],
 "metadata": {
  "kernelspec": {
   "display_name": "Python 3",
   "language": "python",
   "name": "python3"
  },
  "language_info": {
   "codemirror_mode": {
    "name": "ipython",
    "version": 3
   },
   "file_extension": ".py",
   "mimetype": "text/x-python",
   "name": "python",
   "nbconvert_exporter": "python",
   "pygments_lexer": "ipython3",
   "version": "3.6.5"
  }
 },
 "nbformat": 4,
 "nbformat_minor": 2
}
