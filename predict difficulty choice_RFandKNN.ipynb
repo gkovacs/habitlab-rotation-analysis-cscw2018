{
 "cells": [
  {
   "cell_type": "code",
   "execution_count": 17,
   "metadata": {},
   "outputs": [],
   "source": [
    "import csv\n",
    "import lzstring\n",
    "from collections import namedtuple, Counter\n",
    "import json\n",
    "from memoize import memoize\n",
    "import numpy as np\n",
    "from sklearn.ensemble import RandomForestClassifier\n",
    "from sklearn.neighbors import KNeighborsClassifier\n",
    "import sys\n",
    "import json"
   ]
  },
  {
   "cell_type": "code",
   "execution_count": 18,
   "metadata": {},
   "outputs": [],
   "source": [
    "csv.field_size_limit(sys.maxsize)\n",
    "\n",
    "# [num unique urls, num unique urls typed, total visits, total typed, first visit time, last visit time]\n",
    "domaininfo = namedtuple('domaininfo', ['num_unique_urls', 'num_unique_urls_typed', 'total_visits', 'total_typed', 'first_visit_time', 'last_visit_time'])\n",
    "\n",
    "decompressFromEncodedURIComponent = lzstring.LZString().decompressFromEncodedURIComponent\n",
    "\n",
    "#filepath = 'difficultyselectionexp_may31_11am.csv'\n",
    "filepath = 'data/JUL17.csv'\n",
    "reader = csv.DictReader(open(filepath))\n",
    "\n",
    "def extract_domain_visit_info(domain_visit_info_compressed):\n",
    "  domain_visit_info = json.loads(decompressFromEncodedURIComponent(domain_visit_info_compressed))\n",
    "  output = {}\n",
    "  for k,v in domain_visit_info.items():\n",
    "    linedata = domaininfo(*v)\n",
    "    output[k] = linedata\n",
    "  return output\n",
    "\n",
    "alldata = []\n",
    "\n",
    "for alldata_item in reader:\n",
    "  if alldata_item['selected_difficulty'] not in ['nothing', 'easy', 'medium', 'hard']:\n",
    "    continue\n",
    "  if alldata_item['domain_visit_info_compressed'] == None or len(alldata_item['domain_visit_info_compressed']) == 0:\n",
    "    continue\n",
    "  alldata_item['domain_visit_info'] = extract_domain_visit_info(alldata_item['domain_visit_info_compressed'])\n",
    "  alldata.append(alldata_item)\n"
   ]
  },
  {
   "cell_type": "code",
   "execution_count": 19,
   "metadata": {},
   "outputs": [
    {
     "name": "stdout",
     "output_type": "stream",
     "text": [
      "605\n",
      "151\n"
     ]
    }
   ],
   "source": [
    "#np.random.shuffle(alldata)\n",
    "training_data = alldata[:round(len(alldata)*0.8)]\n",
    "test_data = alldata[round(len(alldata)*0.8):]\n",
    "print(len(training_data))\n",
    "print(len(test_data))"
   ]
  },
  {
   "cell_type": "code",
   "execution_count": 20,
   "metadata": {},
   "outputs": [],
   "source": [
    "def extract_labels_alldata(data):\n",
    "  return np.array([line['selected_difficulty'] for line in data])\n",
    "\n",
    "@memoize\n",
    "def get_most_common_label():\n",
    "  label_to_count = Counter()\n",
    "  for line in training_data:\n",
    "    label = line['selected_difficulty']\n",
    "    label_to_count[label] += 1\n",
    "  sorted_by_count = sorted(label_to_count.items(), key=lambda x: x[1], reverse=True)\n",
    "  return sorted_by_count[0][0]\n",
    "\n",
    "@memoize\n",
    "def get_most_visited_domains():\n",
    "  domain_to_num_visits = Counter()\n",
    "  for line in training_data:\n",
    "    domain_visit_info = line['domain_visit_info']\n",
    "    for domain,info in domain_visit_info.items():\n",
    "      domain_to_num_visits[domain] += info.total_visits\n",
    "  sorted_by_num_visits = sorted(domain_to_num_visits.items(), key=lambda x: x[1], reverse=True)\n",
    "  return [x[0] for x in sorted_by_num_visits[:100]]\n",
    "\n",
    "cnt = 0\n",
    "@memoize\n",
    "def get_most_common_domains():\n",
    "  domain_to_num_visits = Counter()\n",
    "  for line in training_data:\n",
    "    domain_visit_info = line['domain_visit_info']\n",
    "    for domain,info in domain_visit_info.items():\n",
    "      domain_to_num_visits[domain] += 1\n",
    "  sorted_by_num_visits = sorted(domain_to_num_visits.items(), key=lambda x: x[1], reverse=True)\n",
    "  return [x[0] for x in sorted_by_num_visits[:100]]\n",
    "\n",
    "def get_all_domains():\n",
    "  domain_to_num_visits = Counter()\n",
    "  for line in training_data:\n",
    "    domain_visit_info = line['domain_visit_info']\n",
    "    for domain,info in domain_visit_info.items():\n",
    "      domain_to_num_visits[domain] += 1\n",
    "  sorted_by_num_visits = sorted(domain_to_num_visits.items(), key=lambda x: x[1], reverse=True)\n",
    "  return [x[0] for x in sorted_by_num_visits]\n",
    "\n",
    "\n",
    "\n",
    "def get_num_visits_for_domain(domain_visit_info, domain):\n",
    "  info = domain_visit_info.get(domain, None)\n",
    "  if info != None:\n",
    "    return info.total_visits\n",
    "  return 0\n",
    "\n",
    "def get_productivity():\n",
    "    with open ('domain_to_productivity.json') as json_file:\n",
    "        data = json.load(json_file)\n",
    "        return data\n",
    "\n",
    "domain_to_productivity = get_productivity()\n",
    "\n",
    "def get_productivity_domain(domain):\n",
    "    if domain in domain_to_productivity.keys():\n",
    "        return domain_to_productivity[domain]\n",
    "    domain2 = domain.split('.')\n",
    "    final = 'www.' + domain2[len(domain2) - 2] + '.com'\n",
    "    if final in domain_to_productivity.keys():\n",
    "        return domain_to_productivity[final]\n",
    "    return None\n",
    "    \n",
    "def extract_features_for_user(domain_visit_info):\n",
    "  cnt = 0\n",
    "  domains = get_all_domains()\n",
    "  final_features = [0, 0, 0, 0, 0];\n",
    "  for x in domains:\n",
    "        if get_productivity_domain(x) != None:\n",
    "            final_features[get_productivity_domain(x) + 2] += get_num_visits_for_domain(domain_visit_info, x)\n",
    "    \n",
    "  #np.array([get_num_visits_for_domain(domain_visit_info, x) for x in domains])\n",
    "  #if np.sum(final_features) >= 1:\n",
    "    #final_features = np.divide(final_features, np.sum(final_features))\n",
    "  return final_features\n",
    "\n",
    "def extract_features_alldata(data):\n",
    "  output = []\n",
    "  for line in data:\n",
    "    domain_visit_info = line['domain_visit_info']\n",
    "    features = extract_features_for_user(domain_visit_info)\n",
    "    output.append(features)\n",
    "  return np.array(output)\n"
   ]
  },
  {
   "cell_type": "code",
   "execution_count": 21,
   "metadata": {},
   "outputs": [
    {
     "name": "stdout",
     "output_type": "stream",
     "text": [
      "baseline classifier accuracy: 0.5231788079470199\n"
     ]
    }
   ],
   "source": [
    "def get_percent_correct(predicted_labels, actual_labels):\n",
    "  if len(predicted_labels) != len(actual_labels):\n",
    "    raise 'need predicted and actual labels to have same lengths'\n",
    "  total = len(actual_labels)\n",
    "  correct = 0\n",
    "  for p,a in zip(predicted_labels, actual_labels):\n",
    "    if p == a:\n",
    "      correct += 1\n",
    "  return correct / total\n",
    "\n",
    "def test_baseline_classifier():\n",
    "  most_common_label = get_most_common_label()\n",
    "  predictions = [most_common_label for line in test_data]\n",
    "  actual = extract_labels_alldata(test_data)\n",
    "  percent_correct = get_percent_correct(predictions, actual)\n",
    "  print('baseline classifier accuracy:', percent_correct)\n",
    "\n",
    "def test_classifier(clf,features_test, actual, str=None):\n",
    "  #actual = extract_labels_alldata(test_data)\n",
    "  #features_test = extract_features_alldata(test_data)\n",
    "  predictions = clf.predict(features_test)\n",
    "  percent_correct = get_percent_correct(predictions, actual)\n",
    "  return percent_correct\n",
    "\n",
    "def training_error_classifier(clf, str=None):\n",
    "  actual = extract_labels_alldata(training_data)\n",
    "  features_train = extract_features_alldata(training_data)\n",
    "  predictions = clf.predict(features_train)\n",
    "  percent_correct = get_percent_correct(predictions, actual)\n",
    "  print(str + ' classifier training accuracy:', round(percent_correct, 2))\n",
    "\n",
    "def to_int_categorical(dt):\n",
    "  # {'easy', 'hard', 'medium', 'nothing'}\n",
    "  cat_dt = []\n",
    "  for item in dt:\n",
    "    if item == 'nothing':\n",
    "      cat_dt.append(0)\n",
    "    elif item == 'easy':\n",
    "      cat_dt.append(1)\n",
    "    elif item == 'medium':\n",
    "      cat_dt.append(2)\n",
    "    else:\n",
    "      cat_dt.append(3)\n",
    "  return np.array(cat_dt)\n",
    "    \n",
    "test_baseline_classifier()"
   ]
  },
  {
   "cell_type": "code",
   "execution_count": 22,
   "metadata": {
    "scrolled": true
   },
   "outputs": [],
   "source": [
    "labels_train = extract_labels_alldata(training_data)\n",
    "features_train = extract_features_alldata(training_data)\n",
    "labels_test = extract_labels_alldata(test_data)\n",
    "features_test = extract_features_alldata(test_data)"
   ]
  },
  {
   "cell_type": "code",
   "execution_count": 23,
   "metadata": {},
   "outputs": [],
   "source": [
    "def classifiers():\n",
    "    clf = RandomForestClassifier(max_depth=10, random_state=0)\n",
    "    clf.fit(features_train, labels_train)\n",
    "    RF = test_classifier(clf, features_test, labels_test, 'RF')\n",
    "\n",
    "    clf = KNeighborsClassifier(n_neighbors=3, p=1)\n",
    "    clf.fit(features_train, labels_train)\n",
    "    KNN = test_classifier(clf, features_test, labels_test, 'KNN')\n",
    "    return [RF, KNN]"
   ]
  },
  {
   "cell_type": "code",
   "execution_count": 24,
   "metadata": {},
   "outputs": [
    {
     "name": "stdout",
     "output_type": "stream",
     "text": [
      "[0.44370860927152317, 0.44370860927152317]\n"
     ]
    }
   ],
   "source": [
    "print (classifiers())"
   ]
  },
  {
   "cell_type": "code",
   "execution_count": 25,
   "metadata": {},
   "outputs": [
    {
     "name": "stdout",
     "output_type": "stream",
     "text": [
      "151\n"
     ]
    }
   ],
   "source": [
    "labels_train2 = labels_train\n",
    "features_train2 = features_train\n",
    "labels_test2 = labels_test\n",
    "features_test2 = features_test\n",
    "\n",
    "print (len(features_test2))"
   ]
  },
  {
   "cell_type": "code",
   "execution_count": 26,
   "metadata": {},
   "outputs": [
    {
     "name": "stdout",
     "output_type": "stream",
     "text": [
      "[0.0, 0.0, 0.0, 0.0, 0.0, 0.3333333333333333, 0.25, 0.25, 0.4, 0.4, 0.0, 0.0, 0.14285714285714285, 0.2857142857142857, 0.25, 0.375, 0.2222222222222222, 0.2222222222222222, 0.1, 0.1, 0.18181818181818182, 0.36363636363636365, 0.3333333333333333, 0.3333333333333333, 0.3076923076923077, 0.5384615384615384, 0.42857142857142855, 0.5, 0.4, 0.4, 0.5, 0.375, 0.4117647058823529, 0.35294117647058826, 0.3888888888888889, 0.3888888888888889, 0.42105263157894735, 0.42105263157894735, 0.3, 0.5, 0.38095238095238093, 0.3333333333333333, 0.4090909090909091, 0.36363636363636365, 0.30434782608695654, 0.30434782608695654, 0.375, 0.4583333333333333, 0.4, 0.4, 0.4230769230769231, 0.2692307692307692, 0.37037037037037035, 0.48148148148148145, 0.5, 0.4642857142857143, 0.3793103448275862, 0.4482758620689655, 0.43333333333333335, 0.4666666666666667, 0.3870967741935484, 0.3548387096774194, 0.40625, 0.3125, 0.36363636363636365, 0.3939393939393939, 0.29411764705882354, 0.29411764705882354, 0.34285714285714286, 0.4, 0.4166666666666667, 0.3055555555555556, 0.32432432432432434, 0.40540540540540543, 0.3684210526315789, 0.3157894736842105, 0.3333333333333333, 0.358974358974359, 0.375, 0.35, 0.34146341463414637, 0.36585365853658536, 0.3333333333333333, 0.40476190476190477, 0.3953488372093023, 0.4186046511627907, 0.45454545454545453, 0.4772727272727273, 0.4444444444444444, 0.37777777777777777, 0.3695652173913043, 0.4782608695652174, 0.3829787234042553, 0.40425531914893614, 0.3958333333333333, 0.3125, 0.42857142857142855, 0.4489795918367347, 0.3, 0.32, 0.3137254901960784, 0.29411764705882354, 0.28846153846153844, 0.40384615384615385, 0.3584905660377358, 0.3584905660377358, 0.35185185185185186, 0.35185185185185186, 0.43636363636363634, 0.4, 0.35714285714285715, 0.4107142857142857, 0.38596491228070173, 0.47368421052631576, 0.3275862068965517, 0.3448275862068966, 0.3559322033898305, 0.3389830508474576, 0.31666666666666665, 0.2833333333333333, 0.4262295081967213, 0.3770491803278688, 0.3225806451612903, 0.3709677419354839, 0.3333333333333333, 0.30158730158730157, 0.28125, 0.421875, 0.4307692307692308, 0.46153846153846156, 0.42424242424242425, 0.4090909090909091, 0.43283582089552236, 0.417910447761194, 0.39705882352941174, 0.3382352941176471, 0.391304347826087, 0.3333333333333333, 0.38571428571428573, 0.35714285714285715, 0.38028169014084506, 0.36619718309859156, 0.3611111111111111, 0.3611111111111111, 0.3698630136986301, 0.3698630136986301, 0.3783783783783784, 0.3783783783783784, 0.41333333333333333, 0.40789473684210525, 0.42105263157894735, 0.36363636363636365, 0.42857142857142855, 0.358974358974359, 0.3974358974358974, 0.4050632911392405, 0.3291139240506329, 0.45, 0.4, 0.35802469135802467, 0.37037037037037035, 0.35365853658536583, 0.4024390243902439, 0.39759036144578314, 0.4457831325301205, 0.34523809523809523, 0.34523809523809523, 0.36470588235294116, 0.4117647058823529, 0.4069767441860465, 0.3953488372093023, 0.41379310344827586, 0.40229885057471265, 0.3522727272727273, 0.38636363636363635, 0.3707865168539326, 0.34831460674157305, 0.3333333333333333, 0.37777777777777777, 0.38461538461538464, 0.42857142857142855, 0.41304347826086957, 0.42391304347826086, 0.43010752688172044, 0.40860215053763443, 0.39361702127659576, 0.40425531914893614, 0.4421052631578947, 0.42105263157894735, 0.4375, 0.3645833333333333, 0.4742268041237113, 0.3917525773195876, 0.3877551020408163, 0.3877551020408163, 0.41414141414141414, 0.3434343434343434, 0.44, 0.41, 0.4158415841584158, 0.44554455445544555, 0.4215686274509804, 0.4215686274509804, 0.39805825242718446, 0.5048543689320388, 0.49038461538461536, 0.36538461538461536, 0.3904761904761905, 0.34285714285714286, 0.41509433962264153, 0.4056603773584906, 0.42990654205607476, 0.4672897196261682, 0.4444444444444444, 0.4722222222222222, 0.3944954128440367, 0.41284403669724773, 0.42727272727272725, 0.4, 0.3963963963963964, 0.45045045045045046, 0.42857142857142855, 0.42857142857142855, 0.4247787610619469, 0.46017699115044247, 0.45614035087719296, 0.41228070175438597, 0.4260869565217391, 0.40869565217391307, 0.46551724137931033, 0.43103448275862066, 0.38461538461538464, 0.46153846153846156, 0.4406779661016949, 0.4406779661016949, 0.453781512605042, 0.4789915966386555, 0.48333333333333334, 0.475, 0.47107438016528924, 0.4628099173553719, 0.48360655737704916, 0.45901639344262296, 0.45528455284552843, 0.45528455284552843, 0.47580645161290325, 0.41935483870967744, 0.408, 0.48, 0.38095238095238093, 0.4444444444444444, 0.41732283464566927, 0.3858267716535433, 0.484375, 0.359375, 0.4108527131782946, 0.4108527131782946, 0.46153846153846156, 0.46153846153846156, 0.4122137404580153, 0.4122137404580153, 0.45454545454545453, 0.4393939393939394, 0.42857142857142855, 0.45112781954887216, 0.4253731343283582, 0.43283582089552236, 0.43703703703703706, 0.4666666666666667, 0.4117647058823529, 0.41911764705882354, 0.40875912408759124, 0.4233576642335766, 0.43478260869565216, 0.43478260869565216, 0.4316546762589928, 0.460431654676259, 0.4142857142857143, 0.40714285714285714, 0.44680851063829785, 0.48226950354609927, 0.47183098591549294, 0.4507042253521127, 0.4125874125874126, 0.4405594405594406, 0.4652777777777778, 0.4861111111111111, 0.43448275862068964, 0.4413793103448276, 0.4452054794520548, 0.4178082191780822, 0.38095238095238093, 0.48299319727891155, 0.4594594594594595, 0.4527027027027027, 0.38926174496644295, 0.3959731543624161, 0.36666666666666664, 0.4266666666666667, 0.44370860927152317]\n",
      "[0.0, 0.0, 0.0, 0.0, 0.0, 0.0, 0.0, 0.0, 0.4, 0.2, 0.16666666666666666, 0.16666666666666666, 0.2857142857142857, 0.2857142857142857, 0.375, 0.375, 0.2222222222222222, 0.2222222222222222, 0.2, 0.3, 0.36363636363636365, 0.2727272727272727, 0.25, 0.3333333333333333, 0.38461538461538464, 0.38461538461538464, 0.35714285714285715, 0.35714285714285715, 0.3333333333333333, 0.3333333333333333, 0.375, 0.375, 0.4117647058823529, 0.4117647058823529, 0.4444444444444444, 0.4444444444444444, 0.42105263157894735, 0.3684210526315789, 0.45, 0.45, 0.42857142857142855, 0.42857142857142855, 0.45454545454545453, 0.5, 0.5217391304347826, 0.5217391304347826, 0.5833333333333334, 0.625, 0.6, 0.64, 0.6538461538461539, 0.6153846153846154, 0.5925925925925926, 0.5925925925925926, 0.6071428571428571, 0.6071428571428571, 0.6206896551724138, 0.5862068965517241, 0.6, 0.5666666666666667, 0.5161290322580645, 0.5161290322580645, 0.59375, 0.59375, 0.5454545454545454, 0.5151515151515151, 0.5294117647058824, 0.5294117647058824, 0.5142857142857142, 0.5142857142857142, 0.5555555555555556, 0.5277777777777778, 0.5405405405405406, 0.5135135135135135, 0.5263157894736842, 0.5263157894736842, 0.5128205128205128, 0.5128205128205128, 0.5, 0.525, 0.5121951219512195, 0.5365853658536586, 0.5238095238095238, 0.5238095238095238, 0.5348837209302325, 0.5581395348837209, 0.5454545454545454, 0.5454545454545454, 0.5555555555555556, 0.5555555555555556, 0.5652173913043478, 0.5652173913043478, 0.5531914893617021, 0.5531914893617021, 0.5416666666666666, 0.5208333333333334, 0.5306122448979592, 0.5306122448979592, 0.52, 0.5, 0.5098039215686274, 0.5098039215686274, 0.5192307692307693, 0.5192307692307693, 0.5094339622641509, 0.5094339622641509, 0.5, 0.5185185185185185, 0.45454545454545453, 0.45454545454545453, 0.44642857142857145, 0.4642857142857143, 0.45614035087719296, 0.45614035087719296, 0.4482758620689655, 0.43103448275862066, 0.423728813559322, 0.423728813559322, 0.4, 0.4, 0.3770491803278688, 0.3770491803278688, 0.3870967741935484, 0.3709677419354839, 0.36507936507936506, 0.36507936507936506, 0.375, 0.375, 0.38461538461538464, 0.4, 0.3787878787878788, 0.3787878787878788, 0.373134328358209, 0.373134328358209, 0.36764705882352944, 0.36764705882352944, 0.36231884057971014, 0.36231884057971014, 0.35714285714285715, 0.35714285714285715, 0.352112676056338, 0.352112676056338, 0.3472222222222222, 0.3472222222222222, 0.3287671232876712, 0.3150684931506849, 0.32432432432432434, 0.32432432432432434, 0.32, 0.3157894736842105, 0.3157894736842105, 0.3116883116883117, 0.3116883116883117, 0.3076923076923077, 0.3076923076923077, 0.3037974683544304, 0.3037974683544304, 0.3125, 0.3125, 0.30864197530864196, 0.30864197530864196, 0.2926829268292683, 0.3048780487804878, 0.3132530120481928, 0.3132530120481928, 0.30952380952380953, 0.30952380952380953, 0.3176470588235294, 0.32941176470588235, 0.32558139534883723, 0.3372093023255814, 0.3333333333333333, 0.3333333333333333, 0.3181818181818182, 0.3181818181818182, 0.3258426966292135, 0.33707865168539325, 0.3333333333333333, 0.3333333333333333, 0.34065934065934067, 0.3516483516483517, 0.358695652173913, 0.358695652173913, 0.3548387096774194, 0.3548387096774194, 0.3617021276595745, 0.3617021276595745, 0.3684210526315789, 0.3684210526315789, 0.3645833333333333, 0.3541666666666667, 0.3402061855670103, 0.3402061855670103, 0.3469387755102041, 0.3469387755102041, 0.35353535353535354, 0.35353535353535354, 0.35, 0.35, 0.3564356435643564, 0.3564356435643564, 0.3627450980392157, 0.3627450980392157, 0.3786407766990291, 0.36893203883495146, 0.36538461538461536, 0.36538461538461536, 0.3619047619047619, 0.3619047619047619, 0.36792452830188677, 0.36792452830188677, 0.3644859813084112, 0.35514018691588783, 0.35185185185185186, 0.35185185185185186, 0.3486238532110092, 0.3486238532110092, 0.35454545454545455, 0.35454545454545455, 0.34234234234234234, 0.34234234234234234, 0.3482142857142857, 0.3482142857142857, 0.35398230088495575, 0.35398230088495575, 0.3684210526315789, 0.3684210526315789, 0.3652173913043478, 0.3652173913043478, 0.3620689655172414, 0.3706896551724138, 0.36752136752136755, 0.36752136752136755, 0.3644067796610169, 0.3644067796610169, 0.36134453781512604, 0.36134453781512604, 0.36666666666666664, 0.36666666666666664, 0.371900826446281, 0.36363636363636365, 0.36885245901639346, 0.38524590163934425, 0.3821138211382114, 0.3821138211382114, 0.3790322580645161, 0.3790322580645161, 0.368, 0.368, 0.35714285714285715, 0.36507936507936506, 0.3700787401574803, 0.3700787401574803, 0.375, 0.375, 0.37209302325581395, 0.3643410852713178, 0.36153846153846153, 0.36923076923076925, 0.37404580152671757, 0.37404580152671757, 0.3787878787878788, 0.3787878787878788, 0.38345864661654133, 0.38345864661654133, 0.3805970149253731, 0.3805970149253731, 0.3925925925925926, 0.3925925925925926, 0.3897058823529412, 0.3897058823529412, 0.40145985401459855, 0.40145985401459855, 0.39855072463768115, 0.39855072463768115, 0.39568345323741005, 0.39568345323741005, 0.4, 0.40714285714285714, 0.41134751773049644, 0.40425531914893614, 0.4154929577464789, 0.4154929577464789, 0.4125874125874126, 0.4195804195804196, 0.4236111111111111, 0.4236111111111111, 0.42758620689655175, 0.42758620689655175, 0.4383561643835616, 0.4383561643835616, 0.4421768707482993, 0.43537414965986393, 0.43243243243243246, 0.43243243243243246, 0.4429530201342282, 0.4429530201342282, 0.44, 0.44, 0.44370860927152317]\n",
      "[3, 4, 6, 8, 10, 12, 14, 16, 18, 20, 22, 24, 26, 28, 30, 32, 34, 36, 38, 40, 42, 44, 46, 48, 50, 52, 54, 56, 58, 60, 63, 65, 67, 69, 71, 73, 75, 77, 79, 81, 83, 85, 87, 89, 91, 93, 95, 97, 99, 101, 103, 105, 107, 109, 111, 113, 115, 117, 119, 121, 123, 125, 127, 129, 131, 133, 135, 137, 139, 141, 143, 145, 147, 149, 151, 153, 155, 157, 159, 161, 163, 165, 167, 169, 171, 173, 175, 177, 179, 182, 184, 186, 188, 190, 192, 194, 196, 198, 200, 202, 204, 206, 208, 210, 212, 214, 216, 218, 220, 222, 224, 226, 228, 230, 232, 234, 236, 238, 240, 242, 244, 246, 248, 250, 252, 254, 256, 258, 260, 262, 264, 266, 268, 270, 272, 274, 276, 278, 280, 282, 284, 286, 288, 290, 292, 294, 296, 298, 300, 302, 305, 307, 309, 311, 313, 315, 317, 319, 321, 323, 325, 327, 329, 331, 333, 335, 337, 339, 341, 343, 345, 347, 349, 351, 353, 355, 357, 359, 361, 363, 365, 367, 369, 371, 373, 375, 377, 379, 381, 383, 385, 387, 389, 391, 393, 395, 397, 399, 401, 403, 405, 407, 409, 411, 413, 415, 417, 419, 421, 424, 426, 428, 430, 432, 434, 436, 438, 440, 442, 444, 446, 448, 450, 452, 454, 456, 458, 460, 462, 464, 466, 468, 470, 472, 474, 476, 478, 480, 482, 484, 486, 488, 490, 492, 494, 496, 498, 500, 502, 504, 506, 508, 510, 512, 514, 516, 518, 520, 522, 524, 526, 528, 530, 532, 534, 536, 538, 540, 542, 544, 547, 549, 551, 553, 555, 557, 559, 561, 563, 565, 567, 569, 571, 573, 575, 577, 579, 581, 583, 585, 587, 589, 591, 593, 595, 597, 599, 601, 603, 605]\n"
     ]
    }
   ],
   "source": [
    "cache_KNN = []\n",
    "cache_RF = []\n",
    "training_size = []\n",
    "num = 300\n",
    "for i in range(num):\n",
    "    labels_train = labels_train2[: max(3, round(len(labels_train2)*((i + 1) / num)))]\n",
    "    features_train = features_train2[: max(3, round(len(features_train2)*((i + 1) / num)))]\n",
    "    labels_test = labels_test2[: max(3, round(len(labels_test2)*((i + 1) / num)))]\n",
    "    features_test = features_test2[: max(3, round(len(features_test2)*((i + 1) / num)))]\n",
    "   \n",
    "    result = classifiers()\n",
    "   \n",
    "    cache_RF.append(result[0])\n",
    "    cache_KNN.append(result[1])\n",
    "    training_size.append(len(labels_train))\n",
    "\n",
    "print (cache_RF)\n",
    "print (cache_KNN)\n",
    "print (training_size)"
   ]
  },
  {
   "cell_type": "code",
   "execution_count": 27,
   "metadata": {},
   "outputs": [],
   "source": [
    "import matplotlib.pyplot as plt"
   ]
  },
  {
   "cell_type": "code",
   "execution_count": 28,
   "metadata": {},
   "outputs": [
    {
     "name": "stdout",
     "output_type": "stream",
     "text": [
      "learning curve for RF:\n"
     ]
    },
    {
     "data": {
      "text/plain": [
       "[<matplotlib.lines.Line2D at 0x112b43278>]"
      ]
     },
     "execution_count": 28,
     "metadata": {},
     "output_type": "execute_result"
    },
    {
     "data": {
      "image/png": "[encoded data removed]",
      "text/plain": [
       "<Figure size 432x288 with 1 Axes>"
      ]
     },
     "metadata": {},
     "output_type": "display_data"
    }
   ],
   "source": [
    "print (\"learning curve for RF:\")\n",
    "\n",
    "plt.plot(training_size, cache_RF)"
   ]
  },
  {
   "cell_type": "code",
   "execution_count": 29,
   "metadata": {},
   "outputs": [
    {
     "data": {
      "text/plain": [
       "[<matplotlib.lines.Line2D at 0x1127218d0>]"
      ]
     },
     "execution_count": 29,
     "metadata": {},
     "output_type": "execute_result"
    },
    {
     "data": {
      "image/png": "[encoded data removed]",
      "text/plain": [
       "<Figure size 432x288 with 1 Axes>"
      ]
     },
     "metadata": {},
     "output_type": "display_data"
    }
   ],
   "source": [
    "plt.plot(training_size, cache_KNN)"
   ]
  },
  {
   "cell_type": "code",
   "execution_count": 30,
   "metadata": {},
   "outputs": [
    {
     "name": "stdout",
     "output_type": "stream",
     "text": [
      "605\n",
      "151\n"
     ]
    }
   ],
   "source": [
    "print (len(features_train))\n",
    "print (len(features_test))"
   ]
  },
  {
   "cell_type": "code",
   "execution_count": 31,
   "metadata": {},
   "outputs": [],
   "source": [
    "def classifiers_confusion():\n",
    "    clf = RandomForestClassifier(max_depth=10, random_state=0)\n",
    "    clf.fit(features_train, labels_train)\n",
    "    RF = test_classifier(clf, features_test, labels_test, 'RF')\n",
    "    predicted = clf.predict(features_test)\n",
    "    confusion = {'nothing': {'nothing': 0, 'easy': 0, 'medium': 0, 'hard': 0},\n",
    "                 'easy': {'nothing': 0, 'easy': 0, 'medium': 0, 'hard': 0},\n",
    "                 'medium': {'nothing': 0, 'easy': 0, 'medium': 0, 'hard': 0}, \n",
    "                 'hard': {'nothing': 0, 'easy': 0, 'medium': 0, 'hard': 0}}\n",
    "    \n",
    "    classes = ['nothing', 'easy', 'medium', 'hard']\n",
    "    for i in range(len(features_test)):\n",
    "        confusion[predicted[i]][labels_test[i]] += 1\n",
    "        \n",
    "        \n",
    "    print (\"RF\")\n",
    "    for i in classes:\n",
    "        print (i)\n",
    "        print (confusion[i])\n",
    "\n",
    "    clf = KNeighborsClassifier(n_neighbors=3, p=1)\n",
    "    clf.fit(features_train, labels_train)\n",
    "    KNN = test_classifier(clf, features_test, labels_test, 'KNN')\n",
    "    predicted = clf.predict(features_test)\n",
    "    confusion = {'nothing': {'nothing': 0, 'easy': 0, 'medium': 0, 'hard': 0},\n",
    "                 'easy': {'nothing': 0, 'easy': 0, 'medium': 0, 'hard': 0},\n",
    "                 'medium': {'nothing': 0, 'easy': 0, 'medium': 0, 'hard': 0}, \n",
    "                 'hard': {'nothing': 0, 'easy': 0, 'medium': 0, 'hard': 0}}\n",
    "    \n",
    "    classes = ['nothing', 'easy', 'medium', 'hard']\n",
    "    for i in range(len(features_test)):\n",
    "        confusion[predicted[i]][labels_test[i]] += 1\n",
    "    \n",
    "    print (\"KNN\")\n",
    "    for i in classes:\n",
    "        print (i)\n",
    "        print (confusion[i])\n",
    "    return "
   ]
  },
  {
   "cell_type": "code",
   "execution_count": 32,
   "metadata": {},
   "outputs": [
    {
     "name": "stdout",
     "output_type": "stream",
     "text": [
      "RF\n",
      "nothing\n",
      "{'nothing': 3, 'easy': 8, 'medium': 4, 'hard': 1}\n",
      "easy\n",
      "{'nothing': 10, 'easy': 53, 'medium': 26, 'hard': 10}\n",
      "medium\n",
      "{'nothing': 4, 'easy': 16, 'medium': 9, 'hard': 1}\n",
      "hard\n",
      "{'nothing': 0, 'easy': 2, 'medium': 2, 'hard': 2}\n",
      "KNN\n",
      "nothing\n",
      "{'nothing': 2, 'easy': 7, 'medium': 2, 'hard': 2}\n",
      "easy\n",
      "{'nothing': 10, 'easy': 53, 'medium': 28, 'hard': 9}\n",
      "medium\n",
      "{'nothing': 4, 'easy': 15, 'medium': 9, 'hard': 0}\n",
      "hard\n",
      "{'nothing': 1, 'easy': 4, 'medium': 2, 'hard': 3}\n"
     ]
    }
   ],
   "source": [
    "classifiers_confusion()"
   ]
  },
  {
   "cell_type": "code",
   "execution_count": null,
   "metadata": {},
   "outputs": [],
   "source": []
  }
 ],
 "metadata": {
  "kernelspec": {
   "display_name": "Python 3",
   "language": "python",
   "name": "python3"
  },
  "language_info": {
   "codemirror_mode": {
    "name": "ipython",
    "version": 3
   },
   "file_extension": ".py",
   "mimetype": "text/x-python",
   "name": "python",
   "nbconvert_exporter": "python",
   "pygments_lexer": "ipython3",
   "version": "3.6.5"
  }
 },
 "nbformat": 4,
 "nbformat_minor": 2
}
